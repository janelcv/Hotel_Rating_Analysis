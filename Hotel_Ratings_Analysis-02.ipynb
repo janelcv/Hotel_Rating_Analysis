{
 "cells": [
  {
   "cell_type": "markdown",
   "metadata": {},
   "source": [
    "# Loading more information about the hotels"
   ]
  },
  {
   "cell_type": "markdown",
   "metadata": {},
   "source": [
    "## Extract data from the metadata table in the sqlite database"
   ]
  },
  {
   "cell_type": "code",
   "execution_count": 1,
   "metadata": {},
   "outputs": [],
   "source": [
    "# Dependencies\n",
    "import pandas as pd\n",
    "import sqlite3\n",
    "from IPython.core.display import clear_output"
   ]
  },
  {
   "cell_type": "code",
   "execution_count": 2,
   "metadata": {},
   "outputs": [
    {
     "data": {
      "text/html": [
       "<div>\n",
       "<style scoped>\n",
       "    .dataframe tbody tr th:only-of-type {\n",
       "        vertical-align: middle;\n",
       "    }\n",
       "\n",
       "    .dataframe tbody tr th {\n",
       "        vertical-align: top;\n",
       "    }\n",
       "\n",
       "    .dataframe thead th {\n",
       "        text-align: right;\n",
       "    }\n",
       "</style>\n",
       "<table border=\"1\" class=\"dataframe\">\n",
       "  <thead>\n",
       "    <tr style=\"text-align: right;\">\n",
       "      <th></th>\n",
       "      <th>index</th>\n",
       "      <th>name</th>\n",
       "      <th>categories</th>\n",
       "      <th>primaryCategories</th>\n",
       "      <th>address</th>\n",
       "      <th>city</th>\n",
       "      <th>province</th>\n",
       "      <th>latitude</th>\n",
       "      <th>longitude</th>\n",
       "      <th>websites</th>\n",
       "    </tr>\n",
       "  </thead>\n",
       "  <tbody>\n",
       "    <tr>\n",
       "      <th>0</th>\n",
       "      <td>0</td>\n",
       "      <td>Rancho Valencia Resort Spa</td>\n",
       "      <td>Hotels,Hotels and motels,Hotel and motel reser...</td>\n",
       "      <td>Accommodation &amp; Food Services</td>\n",
       "      <td>5921 Valencia Cir</td>\n",
       "      <td>Rancho Santa Fe</td>\n",
       "      <td>CA</td>\n",
       "      <td>32.990959</td>\n",
       "      <td>-117.186136</td>\n",
       "      <td>http://www.ranchovalencia.com</td>\n",
       "    </tr>\n",
       "    <tr>\n",
       "      <th>1</th>\n",
       "      <td>3</td>\n",
       "      <td>Aloft Arundel Mills</td>\n",
       "      <td>Hotels,Hotels and motels,Travel agencies and b...</td>\n",
       "      <td>Accommodation &amp; Food Services</td>\n",
       "      <td>7520 Teague Rd</td>\n",
       "      <td>Hanover</td>\n",
       "      <td>MD</td>\n",
       "      <td>39.155929</td>\n",
       "      <td>-76.716341</td>\n",
       "      <td>http://www.starwoodhotels.com/alofthotels/prop...</td>\n",
       "    </tr>\n",
       "    <tr>\n",
       "      <th>2</th>\n",
       "      <td>9</td>\n",
       "      <td>Hampton Inn Suites PortlandVancouver</td>\n",
       "      <td>Hotels,Hotels and motels,Hotel and motel reser...</td>\n",
       "      <td>Accommodation &amp; Food Services</td>\n",
       "      <td>315 SE Olympia Dr</td>\n",
       "      <td>Vancouver</td>\n",
       "      <td>WA</td>\n",
       "      <td>45.619212</td>\n",
       "      <td>-122.525196</td>\n",
       "      <td>http://hamptoninn3.hilton.com/en/hotels/washin...</td>\n",
       "    </tr>\n",
       "    <tr>\n",
       "      <th>3</th>\n",
       "      <td>15</td>\n",
       "      <td>Hotel Phillips</td>\n",
       "      <td>Hotels,Caterers,Hotels and motels,Hotel,Restau...</td>\n",
       "      <td>Accommodation &amp; Food Services</td>\n",
       "      <td>106 W 12th St</td>\n",
       "      <td>Kansas City</td>\n",
       "      <td>MO</td>\n",
       "      <td>39.100119</td>\n",
       "      <td>-94.584701</td>\n",
       "      <td>http://curiocollection3.hilton.com/en/hotels/m...</td>\n",
       "    </tr>\n",
       "    <tr>\n",
       "      <th>4</th>\n",
       "      <td>20</td>\n",
       "      <td>The Inn at Solvang</td>\n",
       "      <td>Bed Breakfasts,Bed Breakfast,Hotels Motels,Hotel</td>\n",
       "      <td>Accommodation &amp; Food Services</td>\n",
       "      <td>10611 Standing Stone Rd</td>\n",
       "      <td>Huntingdon</td>\n",
       "      <td>PA</td>\n",
       "      <td>40.527478</td>\n",
       "      <td>-77.969763</td>\n",
       "      <td>http://www.solvang.com</td>\n",
       "    </tr>\n",
       "  </tbody>\n",
       "</table>\n",
       "</div>"
      ],
      "text/plain": [
       "   index                                  name  \\\n",
       "0      0            Rancho Valencia Resort Spa   \n",
       "1      3                   Aloft Arundel Mills   \n",
       "2      9  Hampton Inn Suites PortlandVancouver   \n",
       "3     15                        Hotel Phillips   \n",
       "4     20                    The Inn at Solvang   \n",
       "\n",
       "                                          categories  \\\n",
       "0  Hotels,Hotels and motels,Hotel and motel reser...   \n",
       "1  Hotels,Hotels and motels,Travel agencies and b...   \n",
       "2  Hotels,Hotels and motels,Hotel and motel reser...   \n",
       "3  Hotels,Caterers,Hotels and motels,Hotel,Restau...   \n",
       "4   Bed Breakfasts,Bed Breakfast,Hotels Motels,Hotel   \n",
       "\n",
       "               primaryCategories                  address             city  \\\n",
       "0  Accommodation & Food Services        5921 Valencia Cir  Rancho Santa Fe   \n",
       "1  Accommodation & Food Services           7520 Teague Rd          Hanover   \n",
       "2  Accommodation & Food Services        315 SE Olympia Dr        Vancouver   \n",
       "3  Accommodation & Food Services            106 W 12th St      Kansas City   \n",
       "4  Accommodation & Food Services  10611 Standing Stone Rd       Huntingdon   \n",
       "\n",
       "  province   latitude   longitude  \\\n",
       "0       CA  32.990959 -117.186136   \n",
       "1       MD  39.155929  -76.716341   \n",
       "2       WA  45.619212 -122.525196   \n",
       "3       MO  39.100119  -94.584701   \n",
       "4       PA  40.527478  -77.969763   \n",
       "\n",
       "                                            websites  \n",
       "0                      http://www.ranchovalencia.com  \n",
       "1  http://www.starwoodhotels.com/alofthotels/prop...  \n",
       "2  http://hamptoninn3.hilton.com/en/hotels/washin...  \n",
       "3  http://curiocollection3.hilton.com/en/hotels/m...  \n",
       "4                             http://www.solvang.com  "
      ]
     },
     "execution_count": 2,
     "metadata": {},
     "output_type": "execute_result"
    }
   ],
   "source": [
    "# Create a connection to the database\n",
    "conn = sqlite3.connect(\"Data/Hotels.db\")\n",
    "\n",
    "# Load the database table into a pandas dataframe\n",
    "metadata = pd.read_sql_query(\"select * from metadata;\", conn)\n",
    "conn.close()\n",
    "\n",
    "# Preview the dataframe\n",
    "metadata.head()"
   ]
  },
  {
   "cell_type": "markdown",
   "metadata": {},
   "source": [
    "## Add hotel characteristics"
   ]
  },
  {
   "cell_type": "markdown",
   "metadata": {},
   "source": [
    "### Distance from airport"
   ]
  },
  {
   "cell_type": "code",
   "execution_count": 3,
   "metadata": {},
   "outputs": [
    {
     "data": {
      "text/html": [
       "<div>\n",
       "<style scoped>\n",
       "    .dataframe tbody tr th:only-of-type {\n",
       "        vertical-align: middle;\n",
       "    }\n",
       "\n",
       "    .dataframe tbody tr th {\n",
       "        vertical-align: top;\n",
       "    }\n",
       "\n",
       "    .dataframe thead th {\n",
       "        text-align: right;\n",
       "    }\n",
       "</style>\n",
       "<table border=\"1\" class=\"dataframe\">\n",
       "  <thead>\n",
       "    <tr style=\"text-align: right;\">\n",
       "      <th></th>\n",
       "      <th>locationID</th>\n",
       "      <th>Latitude</th>\n",
       "      <th>Longitude</th>\n",
       "    </tr>\n",
       "  </thead>\n",
       "  <tbody>\n",
       "    <tr>\n",
       "      <th>0</th>\n",
       "      <td>ADK</td>\n",
       "      <td>51.8781</td>\n",
       "      <td>176.6461</td>\n",
       "    </tr>\n",
       "    <tr>\n",
       "      <th>1</th>\n",
       "      <td>AKK</td>\n",
       "      <td>56.9386</td>\n",
       "      <td>154.1825</td>\n",
       "    </tr>\n",
       "    <tr>\n",
       "      <th>2</th>\n",
       "      <td>Z13</td>\n",
       "      <td>60.9047</td>\n",
       "      <td>161.4225</td>\n",
       "    </tr>\n",
       "    <tr>\n",
       "      <th>3</th>\n",
       "      <td>AKI</td>\n",
       "      <td>60.9028</td>\n",
       "      <td>161.2306</td>\n",
       "    </tr>\n",
       "    <tr>\n",
       "      <th>4</th>\n",
       "      <td>AUK</td>\n",
       "      <td>62.6800</td>\n",
       "      <td>164.6600</td>\n",
       "    </tr>\n",
       "  </tbody>\n",
       "</table>\n",
       "</div>"
      ],
      "text/plain": [
       "  locationID  Latitude  Longitude\n",
       "0        ADK   51.8781   176.6461\n",
       "1        AKK   56.9386   154.1825\n",
       "2        Z13   60.9047   161.4225\n",
       "3        AKI   60.9028   161.2306\n",
       "4        AUK   62.6800   164.6600"
      ]
     },
     "execution_count": 3,
     "metadata": {},
     "output_type": "execute_result"
    }
   ],
   "source": [
    "# Get latitudes and longitudes of airports mapped in the USA\n",
    "# Source: https://opendata.socrata.com/dataset/Airport-Codes-mapped-to-Latitude-Longitude-in-the-/rxrh-4cxm\n",
    "path = \"Data/Airport_Codes_Coords_USA.csv\"\n",
    "\n",
    "airports = pd.read_csv(path)\n",
    "airports.head()"
   ]
  },
  {
   "cell_type": "code",
   "execution_count": 4,
   "metadata": {},
   "outputs": [
    {
     "name": "stdout",
     "output_type": "stream",
     "text": [
      "Number of airports mapped in USA: 13429\n"
     ]
    }
   ],
   "source": [
    "print(f\"Number of airports mapped in USA: {airports.shape[0]}\")"
   ]
  },
  {
   "cell_type": "code",
   "execution_count": 5,
   "metadata": {},
   "outputs": [
    {
     "data": {
      "text/plain": [
       "{'lat': 32.990959000000004, 'lon': -117.186136}"
      ]
     },
     "execution_count": 5,
     "metadata": {},
     "output_type": "execute_result"
    }
   ],
   "source": [
    "loc = {\"lat\": metadata[\"latitude\"][0], \"lon\": metadata[\"longitude\"][0]}\n",
    "loc"
   ]
  },
  {
   "cell_type": "code",
   "execution_count": 6,
   "metadata": {},
   "outputs": [],
   "source": [
    "# Get a list of airport latitudes\n",
    "airport_lat = [i for i in airports[\"Latitude\"]]\n",
    "airport_lon = [j for j in airports[\"Longitude\"]]"
   ]
  },
  {
   "cell_type": "code",
   "execution_count": 7,
   "metadata": {},
   "outputs": [],
   "source": [
    "# Haversine formula to calculate distance\n",
    "# Source1: https://stackoverflow.com/a/41337005\n",
    "# Source2: https://stackoverflow.com/a/21623206\n",
    "from math import cos, asin, sqrt\n",
    "\n",
    "def distance(lat1, lon1, lat2, lon2):\n",
    "    \"\"\"distance is expressed in km\"\"\"\n",
    "    p = 0.017453292519943295 # pi/180\n",
    "    a = 0.5 - cos((lat2-lat1)*p)/2 + cos(lat1*p)*cos(lat2*p) * (1-cos((lon2-lon1)*p)) / 2\n",
    "    return 12742 * asin(sqrt(a)) # Earth diameter: 12742 = 2 * R; R = 6371km (mean radius of the earth)\n",
    "\n",
    "# Find the minimum distance between the hotel and the closest airport\n",
    "def min_distance(lat, lon):\n",
    "    distances = []\n",
    "    for i in range(0, len(airports)):\n",
    "        away = distance(abs(lat), abs(lon), abs(airports[\"Latitude\"][i]), abs(airports[\"Longitude\"][i]))\n",
    "        distances.append(away)\n",
    "    return min(distances)"
   ]
  },
  {
   "cell_type": "code",
   "execution_count": 8,
   "metadata": {},
   "outputs": [
    {
     "data": {
      "text/plain": [
       "14.308848055373579"
      ]
     },
     "execution_count": 8,
     "metadata": {},
     "output_type": "execute_result"
    }
   ],
   "source": [
    "min_distance(loc[\"lat\"], loc[\"lon\"])"
   ]
  },
  {
   "cell_type": "code",
   "execution_count": 9,
   "metadata": {
    "scrolled": true
   },
   "outputs": [
    {
     "name": "stdout",
     "output_type": "stream",
     "text": [
      "Now processing 1852th airport.\n",
      "-----\n"
     ]
    }
   ],
   "source": [
    "# For each hotel coordinate, calculate the distance to the nearest airport\n",
    "airport_distance = []\n",
    "for i in range(0, len(metadata)):\n",
    "    dist = min_distance(metadata[\"latitude\"][i], metadata[\"longitude\"][i])\n",
    "    airport_distance.append(dist)\n",
    "    \n",
    "    print(f\"Now processing {i}th airport.\\n-----\")\n",
    "    clear_output(wait = True) # to replace output with new one (instead of printing many outputs)"
   ]
  },
  {
   "cell_type": "code",
   "execution_count": 10,
   "metadata": {},
   "outputs": [
    {
     "data": {
      "text/plain": [
       "1853"
      ]
     },
     "execution_count": 10,
     "metadata": {},
     "output_type": "execute_result"
    }
   ],
   "source": [
    "len(airport_distance)"
   ]
  },
  {
   "cell_type": "code",
   "execution_count": 11,
   "metadata": {},
   "outputs": [
    {
     "data": {
      "text/html": [
       "<div>\n",
       "<style scoped>\n",
       "    .dataframe tbody tr th:only-of-type {\n",
       "        vertical-align: middle;\n",
       "    }\n",
       "\n",
       "    .dataframe tbody tr th {\n",
       "        vertical-align: top;\n",
       "    }\n",
       "\n",
       "    .dataframe thead th {\n",
       "        text-align: right;\n",
       "    }\n",
       "</style>\n",
       "<table border=\"1\" class=\"dataframe\">\n",
       "  <thead>\n",
       "    <tr style=\"text-align: right;\">\n",
       "      <th></th>\n",
       "      <th>index</th>\n",
       "      <th>name</th>\n",
       "      <th>categories</th>\n",
       "      <th>primaryCategories</th>\n",
       "      <th>address</th>\n",
       "      <th>city</th>\n",
       "      <th>province</th>\n",
       "      <th>latitude</th>\n",
       "      <th>longitude</th>\n",
       "      <th>websites</th>\n",
       "      <th>airportDistance_km</th>\n",
       "    </tr>\n",
       "  </thead>\n",
       "  <tbody>\n",
       "    <tr>\n",
       "      <th>0</th>\n",
       "      <td>0</td>\n",
       "      <td>Rancho Valencia Resort Spa</td>\n",
       "      <td>Hotels,Hotels and motels,Hotel and motel reser...</td>\n",
       "      <td>Accommodation &amp; Food Services</td>\n",
       "      <td>5921 Valencia Cir</td>\n",
       "      <td>Rancho Santa Fe</td>\n",
       "      <td>CA</td>\n",
       "      <td>32.990959</td>\n",
       "      <td>-117.186136</td>\n",
       "      <td>http://www.ranchovalencia.com</td>\n",
       "      <td>14.308848</td>\n",
       "    </tr>\n",
       "    <tr>\n",
       "      <th>1</th>\n",
       "      <td>3</td>\n",
       "      <td>Aloft Arundel Mills</td>\n",
       "      <td>Hotels,Hotels and motels,Travel agencies and b...</td>\n",
       "      <td>Accommodation &amp; Food Services</td>\n",
       "      <td>7520 Teague Rd</td>\n",
       "      <td>Hanover</td>\n",
       "      <td>MD</td>\n",
       "      <td>39.155929</td>\n",
       "      <td>-76.716341</td>\n",
       "      <td>http://www.starwoodhotels.com/alofthotels/prop...</td>\n",
       "      <td>4.668332</td>\n",
       "    </tr>\n",
       "    <tr>\n",
       "      <th>2</th>\n",
       "      <td>9</td>\n",
       "      <td>Hampton Inn Suites PortlandVancouver</td>\n",
       "      <td>Hotels,Hotels and motels,Hotel and motel reser...</td>\n",
       "      <td>Accommodation &amp; Food Services</td>\n",
       "      <td>315 SE Olympia Dr</td>\n",
       "      <td>Vancouver</td>\n",
       "      <td>WA</td>\n",
       "      <td>45.619212</td>\n",
       "      <td>-122.525196</td>\n",
       "      <td>http://hamptoninn3.hilton.com/en/hotels/washin...</td>\n",
       "      <td>6.591900</td>\n",
       "    </tr>\n",
       "    <tr>\n",
       "      <th>3</th>\n",
       "      <td>15</td>\n",
       "      <td>Hotel Phillips</td>\n",
       "      <td>Hotels,Caterers,Hotels and motels,Hotel,Restau...</td>\n",
       "      <td>Accommodation &amp; Food Services</td>\n",
       "      <td>106 W 12th St</td>\n",
       "      <td>Kansas City</td>\n",
       "      <td>MO</td>\n",
       "      <td>39.100119</td>\n",
       "      <td>-94.584701</td>\n",
       "      <td>http://curiocollection3.hilton.com/en/hotels/m...</td>\n",
       "      <td>2.670645</td>\n",
       "    </tr>\n",
       "    <tr>\n",
       "      <th>4</th>\n",
       "      <td>20</td>\n",
       "      <td>The Inn at Solvang</td>\n",
       "      <td>Bed Breakfasts,Bed Breakfast,Hotels Motels,Hotel</td>\n",
       "      <td>Accommodation &amp; Food Services</td>\n",
       "      <td>10611 Standing Stone Rd</td>\n",
       "      <td>Huntingdon</td>\n",
       "      <td>PA</td>\n",
       "      <td>40.527478</td>\n",
       "      <td>-77.969763</td>\n",
       "      <td>http://www.solvang.com</td>\n",
       "      <td>3.781817</td>\n",
       "    </tr>\n",
       "  </tbody>\n",
       "</table>\n",
       "</div>"
      ],
      "text/plain": [
       "   index                                  name  \\\n",
       "0      0            Rancho Valencia Resort Spa   \n",
       "1      3                   Aloft Arundel Mills   \n",
       "2      9  Hampton Inn Suites PortlandVancouver   \n",
       "3     15                        Hotel Phillips   \n",
       "4     20                    The Inn at Solvang   \n",
       "\n",
       "                                          categories  \\\n",
       "0  Hotels,Hotels and motels,Hotel and motel reser...   \n",
       "1  Hotels,Hotels and motels,Travel agencies and b...   \n",
       "2  Hotels,Hotels and motels,Hotel and motel reser...   \n",
       "3  Hotels,Caterers,Hotels and motels,Hotel,Restau...   \n",
       "4   Bed Breakfasts,Bed Breakfast,Hotels Motels,Hotel   \n",
       "\n",
       "               primaryCategories                  address             city  \\\n",
       "0  Accommodation & Food Services        5921 Valencia Cir  Rancho Santa Fe   \n",
       "1  Accommodation & Food Services           7520 Teague Rd          Hanover   \n",
       "2  Accommodation & Food Services        315 SE Olympia Dr        Vancouver   \n",
       "3  Accommodation & Food Services            106 W 12th St      Kansas City   \n",
       "4  Accommodation & Food Services  10611 Standing Stone Rd       Huntingdon   \n",
       "\n",
       "  province   latitude   longitude  \\\n",
       "0       CA  32.990959 -117.186136   \n",
       "1       MD  39.155929  -76.716341   \n",
       "2       WA  45.619212 -122.525196   \n",
       "3       MO  39.100119  -94.584701   \n",
       "4       PA  40.527478  -77.969763   \n",
       "\n",
       "                                            websites  airportDistance_km  \n",
       "0                      http://www.ranchovalencia.com           14.308848  \n",
       "1  http://www.starwoodhotels.com/alofthotels/prop...            4.668332  \n",
       "2  http://hamptoninn3.hilton.com/en/hotels/washin...            6.591900  \n",
       "3  http://curiocollection3.hilton.com/en/hotels/m...            2.670645  \n",
       "4                             http://www.solvang.com            3.781817  "
      ]
     },
     "execution_count": 11,
     "metadata": {},
     "output_type": "execute_result"
    }
   ],
   "source": [
    "# Add airport distance in metadata\n",
    "metadata[\"airportDistance_km\"] = airport_distance\n",
    "\n",
    "# Preview the dataframe\n",
    "metadata.head()"
   ]
  },
  {
   "cell_type": "code",
   "execution_count": null,
   "metadata": {},
   "outputs": [],
   "source": []
  }
 ],
 "metadata": {
  "kernelspec": {
   "display_name": "Python 3",
   "language": "python",
   "name": "python3"
  },
  "language_info": {
   "codemirror_mode": {
    "name": "ipython",
    "version": 3
   },
   "file_extension": ".py",
   "mimetype": "text/x-python",
   "name": "python",
   "nbconvert_exporter": "python",
   "pygments_lexer": "ipython3",
   "version": "3.6.5"
  }
 },
 "nbformat": 4,
 "nbformat_minor": 2
}
