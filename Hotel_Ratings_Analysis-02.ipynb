{
 "cells": [
  {
   "cell_type": "markdown",
   "metadata": {},
   "source": [
    "# Loading more information about the hotels"
   ]
  },
  {
   "cell_type": "markdown",
   "metadata": {},
   "source": [
    "## Extract data from the metadata table in the sqlite database"
   ]
  },
  {
   "cell_type": "code",
   "execution_count": null,
   "metadata": {},
   "outputs": [],
   "source": [
    "# Dependencies\n",
    "import pandas as pd\n",
    "import numpy as np\n",
    "import sqlite3\n",
    "from IPython.core.display import clear_output"
   ]
  },
  {
   "cell_type": "code",
   "execution_count": null,
   "metadata": {},
   "outputs": [],
   "source": [
    "# Create a connection to the database\n",
    "conn = sqlite3.connect(\"Data/Hotels.db\")\n",
    "\n",
    "# Load the database table into a pandas dataframe\n",
    "metadata = pd.read_sql_query(\"select * from metadata;\", conn)\n",
    "conn.close()\n",
    "\n",
    "# Preview the dataframe\n",
    "metadata.head()"
   ]
  },
  {
   "cell_type": "markdown",
   "metadata": {},
   "source": [
    "## Add hotel characteristics"
   ]
  },
  {
   "cell_type": "markdown",
   "metadata": {},
   "source": [
    "### Distance from airport"
   ]
  },
  {
   "cell_type": "code",
   "execution_count": null,
   "metadata": {},
   "outputs": [],
   "source": [
    "# Get latitudes and longitudes of airports mapped in the USA\n",
    "# Source: https://opendata.socrata.com/dataset/Airport-Codes-mapped-to-Latitude-Longitude-in-the-/rxrh-4cxm\n",
    "path = \"Data/Airport_Codes_Coords_USA.csv\"\n",
    "\n",
    "airports = pd.read_csv(path)\n",
    "airports.head()"
   ]
  },
  {
   "cell_type": "code",
   "execution_count": null,
   "metadata": {},
   "outputs": [],
   "source": [
    "print(f\"Number of airports mapped in USA: {airports.shape[0]}\")"
   ]
  },
  {
   "cell_type": "code",
   "execution_count": null,
   "metadata": {},
   "outputs": [],
   "source": [
    "# Haversine formula to calculate distance\n",
    "# Source1: https://stackoverflow.com/a/41337005\n",
    "# Source2: https://stackoverflow.com/a/21623206\n",
    "from math import cos, asin, sqrt\n",
    "\n",
    "def distance(lat1, lon1, lat2, lon2):\n",
    "    \"\"\"distance is expressed in km\"\"\"\n",
    "    p = 0.017453292519943295 # pi/180\n",
    "    a = 0.5 - cos((lat2-lat1)*p)/2 + cos(lat1*p)*cos(lat2*p) * (1-cos((lon2-lon1)*p)) / 2\n",
    "    return 12742 * asin(sqrt(a)) # Earth diameter: 12742 = 2 * R; R = 6371km (mean radius of the earth)\n",
    "\n",
    "# Find the minimum distance between the hotel and the closest airport\n",
    "def min_distance(lat, lon):\n",
    "    distances = []\n",
    "    for i in range(0, len(airports)):\n",
    "        away = distance(abs(lat), abs(lon), abs(airports[\"Latitude\"][i]), abs(airports[\"Longitude\"][i]))\n",
    "        distances.append(away)\n",
    "    return min(distances)"
   ]
  },
  {
   "cell_type": "code",
   "execution_count": null,
   "metadata": {
    "scrolled": true
   },
   "outputs": [],
   "source": [
    "# For each hotel coordinate, calculate the distance to the nearest airport\n",
    "airport_distance = []\n",
    "for i in range(0, len(metadata)):\n",
    "    dist = min_distance(metadata[\"latitude\"][i], metadata[\"longitude\"][i])\n",
    "    airport_distance.append(dist)\n",
    "    \n",
    "    print(f\"Now processing {i}th airport.\\n-----\")\n",
    "    clear_output(wait = True) # to replace output with new one (instead of printing many outputs)"
   ]
  },
  {
   "cell_type": "code",
   "execution_count": null,
   "metadata": {},
   "outputs": [],
   "source": [
    "# Add airport distance in metadata\n",
    "metadata[\"airportDistance_km\"] = airport_distance\n",
    "\n",
    "# Preview the dataframe\n",
    "metadata.head()"
   ]
  },
  {
   "cell_type": "markdown",
   "metadata": {},
   "source": [
    "### Hotel features"
   ]
  },
  {
   "cell_type": "code",
   "execution_count": null,
   "metadata": {},
   "outputs": [],
   "source": [
    "# Create new columns containing categories for the hotels\n",
    "new_col = [\"Motel\", \"Cottage\", \"Cabin\", \"Hotel\", \"Caterer\", \"Resort\", \"Restaurant\", \"Bed\", \"Spa\", \"Banquet\", \n",
    "           \"Concierge Service\", \"Golf Course\", \"Cable Internet\", \"Pool\", \"Water Parks\", \"Family-Friendly\", \"Casino\", \n",
    "           \"Beach\", \"Luxury Hotels\", \"Business Hotels\", \"Conference Room\", \"Event Space\", \"Convention\", \n",
    "           \"Boutique Hotels\", \"Clinics\", \"Inn\", \"Concert Hall\", \"E-Commerce\", \"Extended Stay\", \"Fairgrounds\", \n",
    "           \"Harbor\", \"Marina\", \"Lounge\", \"Medical\", \"Movie\", \"Pet Friendly\", \"Ski\", \"Timeshare\", \"Yacht clubs\", \n",
    "           \"Apartment\"]\n",
    "\n",
    "# Sort the items in the list alphabetically\n",
    "new_col.sort()\n",
    "\n",
    "for col in new_col:\n",
    "    metadata[col] = np.nan"
   ]
  },
  {
   "cell_type": "code",
   "execution_count": null,
   "metadata": {},
   "outputs": [],
   "source": [
    "# Create a function that fills in 1s and 0s for selected categories\n",
    "def Cat_encoding(category):\n",
    "    for i in range(0,len(metadata)):\n",
    "        if category not in metadata[\"primaryCategories\"][i]:\n",
    "            metadata[str(category)][i] = 0\n",
    "        else:\n",
    "            metadata[str(category)][i] = 1 \n",
    "        \n",
    "        print(f\"Now processing {i}th hotel for {category}.\\n-----\")\n",
    "        clear_output(wait = True) # to replace output with new one (instead of printing many outputs)  "
   ]
  },
  {
   "cell_type": "code",
   "execution_count": null,
   "metadata": {},
   "outputs": [],
   "source": [
    "# Loop the primaryCat_encoding function to fill the empty categories\n",
    "for x in new_col:\n",
    "    Cat_encoding(x) "
   ]
  },
  {
   "cell_type": "code",
   "execution_count": null,
   "metadata": {},
   "outputs": [],
   "source": [
    "metadata.head()"
   ]
  },
  {
   "cell_type": "code",
   "execution_count": null,
   "metadata": {},
   "outputs": [],
   "source": []
  }
 ],
 "metadata": {
  "kernelspec": {
   "display_name": "Python 3",
   "language": "python",
   "name": "python3"
  },
  "language_info": {
   "codemirror_mode": {
    "name": "ipython",
    "version": 3
   },
   "file_extension": ".py",
   "mimetype": "text/x-python",
   "name": "python",
   "nbconvert_exporter": "python",
   "pygments_lexer": "ipython3",
   "version": "3.6.5"
  }
 },
 "nbformat": 4,
 "nbformat_minor": 2
}
