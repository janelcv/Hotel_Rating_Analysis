{
 "cells": [
  {
   "cell_type": "markdown",
   "metadata": {},
   "source": [
    "# Loading more information about the hotels"
   ]
  },
  {
   "cell_type": "markdown",
   "metadata": {},
   "source": [
    "## Extract data from the metadata table in the sqlite database"
   ]
  },
  {
   "cell_type": "code",
   "execution_count": 1,
   "metadata": {},
   "outputs": [
    {
     "name": "stdout",
     "output_type": "stream",
     "text": [
      "[nltk_data] Downloading package punkt to\n",
      "[nltk_data]     /Users/rochiecuevas/nltk_data...\n",
      "[nltk_data]   Package punkt is already up-to-date!\n"
     ]
    }
   ],
   "source": [
    "# Dependencies\n",
    "import pandas as pd\n",
    "import numpy as np\n",
    "import sqlite3\n",
    "from IPython.core.display import clear_output\n",
    "\n",
    "import nltk\n",
    "nltk.download(\"punkt\")\n",
    "from nltk.tokenize import word_tokenize"
   ]
  },
  {
   "cell_type": "code",
   "execution_count": 2,
   "metadata": {},
   "outputs": [],
   "source": [
    "# Create a connection to the database\n",
    "conn = sqlite3.connect(\"Data/Hotels.db\")\n",
    "\n",
    "# Load the database table into a pandas dataframe\n",
    "metadata = pd.read_sql_query(\"select * from metadata;\", conn)\n",
    "conn.close()"
   ]
  },
  {
   "cell_type": "code",
   "execution_count": 3,
   "metadata": {},
   "outputs": [
    {
     "data": {
      "text/html": [
       "<div>\n",
       "<style scoped>\n",
       "    .dataframe tbody tr th:only-of-type {\n",
       "        vertical-align: middle;\n",
       "    }\n",
       "\n",
       "    .dataframe tbody tr th {\n",
       "        vertical-align: top;\n",
       "    }\n",
       "\n",
       "    .dataframe thead th {\n",
       "        text-align: right;\n",
       "    }\n",
       "</style>\n",
       "<table border=\"1\" class=\"dataframe\">\n",
       "  <thead>\n",
       "    <tr style=\"text-align: right;\">\n",
       "      <th></th>\n",
       "      <th>index</th>\n",
       "      <th>Name</th>\n",
       "      <th>categories</th>\n",
       "      <th>primaryCategories</th>\n",
       "      <th>Street</th>\n",
       "      <th>City</th>\n",
       "      <th>province</th>\n",
       "      <th>latitude</th>\n",
       "      <th>longitude</th>\n",
       "      <th>websites</th>\n",
       "      <th>State</th>\n",
       "    </tr>\n",
       "  </thead>\n",
       "  <tbody>\n",
       "    <tr>\n",
       "      <th>0</th>\n",
       "      <td>0</td>\n",
       "      <td>Rancho Valencia Resort Spa</td>\n",
       "      <td>Hotels,Hotels and motels,Hotel and motel reser...</td>\n",
       "      <td>Accommodation &amp; Food Services</td>\n",
       "      <td>5921 Valencia Cir</td>\n",
       "      <td>Rancho Santa Fe</td>\n",
       "      <td>CA</td>\n",
       "      <td>32.990959</td>\n",
       "      <td>-117.186136</td>\n",
       "      <td>http://www.ranchovalencia.com</td>\n",
       "      <td>California</td>\n",
       "    </tr>\n",
       "    <tr>\n",
       "      <th>1</th>\n",
       "      <td>3</td>\n",
       "      <td>Aloft Arundel Mills</td>\n",
       "      <td>Hotels,Hotels and motels,Travel agencies and b...</td>\n",
       "      <td>Accommodation &amp; Food Services</td>\n",
       "      <td>7520 Teague Rd</td>\n",
       "      <td>Hanover</td>\n",
       "      <td>MD</td>\n",
       "      <td>39.155929</td>\n",
       "      <td>-76.716341</td>\n",
       "      <td>http://www.starwoodhotels.com/alofthotels/prop...</td>\n",
       "      <td>Maryland</td>\n",
       "    </tr>\n",
       "    <tr>\n",
       "      <th>2</th>\n",
       "      <td>9</td>\n",
       "      <td>Hampton Inn Suites PortlandVancouver</td>\n",
       "      <td>Hotels,Hotels and motels,Hotel and motel reser...</td>\n",
       "      <td>Accommodation &amp; Food Services</td>\n",
       "      <td>315 SE Olympia Dr</td>\n",
       "      <td>Vancouver</td>\n",
       "      <td>WA</td>\n",
       "      <td>45.619212</td>\n",
       "      <td>-122.525196</td>\n",
       "      <td>http://hamptoninn3.hilton.com/en/hotels/washin...</td>\n",
       "      <td>Washington</td>\n",
       "    </tr>\n",
       "    <tr>\n",
       "      <th>3</th>\n",
       "      <td>15</td>\n",
       "      <td>Hotel Phillips</td>\n",
       "      <td>Hotels,Caterers,Hotels and motels,Hotel,Restau...</td>\n",
       "      <td>Accommodation &amp; Food Services</td>\n",
       "      <td>106 W 12th St</td>\n",
       "      <td>Kansas City</td>\n",
       "      <td>MO</td>\n",
       "      <td>39.100119</td>\n",
       "      <td>-94.584701</td>\n",
       "      <td>http://curiocollection3.hilton.com/en/hotels/m...</td>\n",
       "      <td>Missouri</td>\n",
       "    </tr>\n",
       "    <tr>\n",
       "      <th>4</th>\n",
       "      <td>20</td>\n",
       "      <td>The Inn at Solvang</td>\n",
       "      <td>Bed Breakfasts,Bed Breakfast,Hotels Motels,Hotel</td>\n",
       "      <td>Accommodation &amp; Food Services</td>\n",
       "      <td>10611 Standing Stone Rd</td>\n",
       "      <td>Huntingdon</td>\n",
       "      <td>PA</td>\n",
       "      <td>40.527478</td>\n",
       "      <td>-77.969763</td>\n",
       "      <td>http://www.solvang.com</td>\n",
       "      <td>Pennsylvania</td>\n",
       "    </tr>\n",
       "  </tbody>\n",
       "</table>\n",
       "</div>"
      ],
      "text/plain": [
       "   index                                  Name  \\\n",
       "0      0            Rancho Valencia Resort Spa   \n",
       "1      3                   Aloft Arundel Mills   \n",
       "2      9  Hampton Inn Suites PortlandVancouver   \n",
       "3     15                        Hotel Phillips   \n",
       "4     20                    The Inn at Solvang   \n",
       "\n",
       "                                          categories  \\\n",
       "0  Hotels,Hotels and motels,Hotel and motel reser...   \n",
       "1  Hotels,Hotels and motels,Travel agencies and b...   \n",
       "2  Hotels,Hotels and motels,Hotel and motel reser...   \n",
       "3  Hotels,Caterers,Hotels and motels,Hotel,Restau...   \n",
       "4   Bed Breakfasts,Bed Breakfast,Hotels Motels,Hotel   \n",
       "\n",
       "               primaryCategories                   Street             City  \\\n",
       "0  Accommodation & Food Services        5921 Valencia Cir  Rancho Santa Fe   \n",
       "1  Accommodation & Food Services           7520 Teague Rd          Hanover   \n",
       "2  Accommodation & Food Services        315 SE Olympia Dr        Vancouver   \n",
       "3  Accommodation & Food Services            106 W 12th St      Kansas City   \n",
       "4  Accommodation & Food Services  10611 Standing Stone Rd       Huntingdon   \n",
       "\n",
       "  province   latitude   longitude  \\\n",
       "0       CA  32.990959 -117.186136   \n",
       "1       MD  39.155929  -76.716341   \n",
       "2       WA  45.619212 -122.525196   \n",
       "3       MO  39.100119  -94.584701   \n",
       "4       PA  40.527478  -77.969763   \n",
       "\n",
       "                                            websites         State  \n",
       "0                      http://www.ranchovalencia.com    California  \n",
       "1  http://www.starwoodhotels.com/alofthotels/prop...      Maryland  \n",
       "2  http://hamptoninn3.hilton.com/en/hotels/washin...    Washington  \n",
       "3  http://curiocollection3.hilton.com/en/hotels/m...      Missouri  \n",
       "4                             http://www.solvang.com  Pennsylvania  "
      ]
     },
     "execution_count": 3,
     "metadata": {},
     "output_type": "execute_result"
    }
   ],
   "source": [
    "# Create a dictionary of state names and their abbreviations\n",
    "state_abbr = sorted(list(set(metadata[\"province\"])))\n",
    "state_name = [\"Alaska\", \"Arkansas\", \"Arizona\", \"California\", \"Colorado\", \"Connecticut\", \"Delaware\", \"Florida\",\n",
    "              \"Georgia\", \"Hawaii\", \"Iowa\", \"Idaho\", \"Illinois\", \"Indiana\", \"Kansas\", \"Kentucky\",\n",
    "              \"Louisiana\", \"Massachusetts\", \"Maryland\", \"Maine\", \"Michigan\", \"Minnesota\", \"Missouri\",\n",
    "              \"Mississippi\", \"Montana\", \"North Carolina\", \"North Dakota\", \"Nebraska\", \"New Hampshire\",\n",
    "              \"New Jersey\", \"New Mexico\", \"Nevada\", \"New York\", \"Ohio\", \"Oklahoma\", \"Oregon\", \n",
    "              \"Pennsylvania\", \"Rhode Island\", \"South Carolina\", \"South Dakota\", \"Tennessee\", \"Texas\",\n",
    "              \"Utah\", \"Virginia\", \"Vermont\", \"Washington\", \"Wisconsin\", \"West Virginia\", \"Wyoming\"]\n",
    "\n",
    "state_dict = dict(zip(state_abbr, state_name))\n",
    "\n",
    "# Add a column containing state names\n",
    "metadata[\"State\"] = metadata[\"province\"].map(state_dict)\n",
    "\n",
    "# Reformat the title for the name column\n",
    "metadata = metadata.rename(columns={'name': 'Name', 'address': 'Street', 'city': 'City'})\n",
    "\n",
    "# Preview the dataframe\n",
    "metadata.head()"
   ]
  },
  {
   "cell_type": "markdown",
   "metadata": {},
   "source": [
    "## Add hotel characteristics"
   ]
  },
  {
   "cell_type": "markdown",
   "metadata": {},
   "source": [
    "### Number of floors"
   ]
  },
  {
   "cell_type": "code",
   "execution_count": 4,
   "metadata": {},
   "outputs": [
    {
     "data": {
      "text/html": [
       "<div>\n",
       "<style scoped>\n",
       "    .dataframe tbody tr th:only-of-type {\n",
       "        vertical-align: middle;\n",
       "    }\n",
       "\n",
       "    .dataframe tbody tr th {\n",
       "        vertical-align: top;\n",
       "    }\n",
       "\n",
       "    .dataframe thead th {\n",
       "        text-align: right;\n",
       "    }\n",
       "</style>\n",
       "<table border=\"1\" class=\"dataframe\">\n",
       "  <thead>\n",
       "    <tr style=\"text-align: right;\">\n",
       "      <th></th>\n",
       "      <th>Name</th>\n",
       "      <th>Street</th>\n",
       "      <th>City</th>\n",
       "      <th>State</th>\n",
       "      <th>Stories</th>\n",
       "    </tr>\n",
       "  </thead>\n",
       "  <tbody>\n",
       "    <tr>\n",
       "      <th>0</th>\n",
       "      <td>The Orchards</td>\n",
       "      <td>222 Adams Rd</td>\n",
       "      <td>Williamstown</td>\n",
       "      <td>Massachusetts</td>\n",
       "      <td>2</td>\n",
       "    </tr>\n",
       "    <tr>\n",
       "      <th>1</th>\n",
       "      <td>Courtyard By Marriott Fitchburg</td>\n",
       "      <td>150 Royal Plaza Dr</td>\n",
       "      <td>Fitchburg</td>\n",
       "      <td>Massachusetts</td>\n",
       "      <td>6</td>\n",
       "    </tr>\n",
       "    <tr>\n",
       "      <th>2</th>\n",
       "      <td>Four Points Hotel</td>\n",
       "      <td>99 Erdman Way</td>\n",
       "      <td>Leominster</td>\n",
       "      <td>Massachusetts</td>\n",
       "      <td>7</td>\n",
       "    </tr>\n",
       "    <tr>\n",
       "      <th>3</th>\n",
       "      <td>Crowne Plaza Worcester</td>\n",
       "      <td>10 Lincoln Sq</td>\n",
       "      <td>Worcester</td>\n",
       "      <td>Massachusetts</td>\n",
       "      <td>9</td>\n",
       "    </tr>\n",
       "    <tr>\n",
       "      <th>4</th>\n",
       "      <td>Bedford Plaza Hotel - Boston</td>\n",
       "      <td>340 Great Rd</td>\n",
       "      <td>Bedford</td>\n",
       "      <td>Massachusetts</td>\n",
       "      <td>3</td>\n",
       "    </tr>\n",
       "  </tbody>\n",
       "</table>\n",
       "</div>"
      ],
      "text/plain": [
       "                              Name              Street          City  \\\n",
       "0                     The Orchards        222 Adams Rd  Williamstown   \n",
       "1  Courtyard By Marriott Fitchburg  150 Royal Plaza Dr     Fitchburg   \n",
       "2                Four Points Hotel       99 Erdman Way    Leominster   \n",
       "3           Crowne Plaza Worcester       10 Lincoln Sq     Worcester   \n",
       "4     Bedford Plaza Hotel - Boston        340 Great Rd       Bedford   \n",
       "\n",
       "           State Stories  \n",
       "0  Massachusetts       2  \n",
       "1  Massachusetts       6  \n",
       "2  Massachusetts       7  \n",
       "3  Massachusetts       9  \n",
       "4  Massachusetts       3  "
      ]
     },
     "execution_count": 4,
     "metadata": {},
     "output_type": "execute_result"
    }
   ],
   "source": [
    "# Load data from FEMA containing number of floors\n",
    "df_floors = pd.read_csv(\"Data/national_list.csv\")\n",
    "\n",
    "# Remove columns not important for the purposes of the study\n",
    "df_floors = df_floors.drop(columns = [\"FEMA ID\", \"P.O. Box\", \"ZIP code\", \"Phone\", \"Property Type\", \"Sprinklers\"])\n",
    "\n",
    "# Preview the dataframe\n",
    "df_floors.head()"
   ]
  },
  {
   "cell_type": "code",
   "execution_count": 12,
   "metadata": {},
   "outputs": [
    {
     "data": {
      "text/plain": [
       "1868"
      ]
     },
     "execution_count": 12,
     "metadata": {},
     "output_type": "execute_result"
    }
   ],
   "source": [
    "# Merge the two dataframes based on the names and cities in the metadata\n",
    "df3 = pd.merge(metadata, df_floors, on = [\"City\", \"Street\", \"State\"], how = \"left\")\n",
    "\n",
    "# Remove columns not going to be used\n",
    "df3 = df3.drop(columns = [\"index\", \"websites\", \"primaryCategories\"], axis = 1)\n",
    "\n",
    "# Drop duplicate rows\n",
    "df3 = df3.drop_duplicates(subset = [\"Name_x\", \"City\"], keep = \"first\", inplace = False)"
   ]
  },
  {
   "cell_type": "code",
   "execution_count": null,
   "metadata": {},
   "outputs": [],
   "source": []
  },
  {
   "cell_type": "markdown",
   "metadata": {},
   "source": [
    "### Hotel stars"
   ]
  },
  {
   "cell_type": "code",
   "execution_count": null,
   "metadata": {},
   "outputs": [],
   "source": [
    "# Load hotel data into a dataframe\n",
    "df_hotels = pd.read_csv(\"Data/hotels.csv\")\n",
    "\n",
    "# Remove the columns that are not needed\n",
    "df_hotels = df_hotels.drop(columns = [\"price\", \"countryCode\", \"location\", \n",
    "                                      \"url\", \"latitude\", \"longitude\"], axis = 1)\n",
    "\n",
    "# Rename columns\n",
    "df_hotels.rename(columns = {\"hotelName\": \"Name\", \"cityName\": \"City\", \"address\": \"Street\"}, inplace = True)\n",
    "\n",
    "# Filter for hotels in the USA\n",
    "df_hotels = df_hotels.loc[df_hotels[\"countryName\"] == \"United States\"]\n",
    "df_hotels = df_hotels.drop(columns = [\"countryName\"], axis = 1)\n",
    "df_hotels.head()"
   ]
  },
  {
   "cell_type": "code",
   "execution_count": null,
   "metadata": {},
   "outputs": [],
   "source": [
    "df4 = pd.merge(df3, df_hotels, on = [\"Name\"], how = \"left\")\n",
    "df4.loc[21:40]"
   ]
  },
  {
   "cell_type": "code",
   "execution_count": null,
   "metadata": {},
   "outputs": [],
   "source": [
    "df4[\"Name\"][177]"
   ]
  },
  {
   "cell_type": "code",
   "execution_count": null,
   "metadata": {},
   "outputs": [],
   "source": [
    "df4.loc[df4[\"City_x\"].str.contains(\"Volcano\")]"
   ]
  },
  {
   "cell_type": "markdown",
   "metadata": {},
   "source": [
    "#### Distance from airport"
   ]
  },
  {
   "cell_type": "code",
   "execution_count": null,
   "metadata": {},
   "outputs": [],
   "source": [
    "# Get latitudes and longitudes of airports mapped in the USA\n",
    "# Source: https://opendata.socrata.com/dataset/Airport-Codes-mapped-to-Latitude-Longitude-in-the-/rxrh-4cxm\n",
    "path = \"Data/Airport_Codes_Coords_USA.csv\"\n",
    "\n",
    "airports = pd.read_csv(path)\n",
    "airports.head()"
   ]
  },
  {
   "cell_type": "code",
   "execution_count": null,
   "metadata": {},
   "outputs": [],
   "source": [
    "print(f\"Number of airports mapped in USA: {airports.shape[0]}\")"
   ]
  },
  {
   "cell_type": "code",
   "execution_count": null,
   "metadata": {},
   "outputs": [],
   "source": [
    "# Haversine formula to calculate distance\n",
    "# Source1: https://stackoverflow.com/a/41337005\n",
    "# Source2: https://stackoverflow.com/a/21623206\n",
    "from math import cos, asin, sqrt\n",
    "\n",
    "def distance(lat1, lon1, lat2, lon2):\n",
    "    \"\"\"distance is expressed in km\"\"\"\n",
    "    p = 0.017453292519943295 # pi/180; factor to convert degrees to radians\n",
    "    a = 0.5 - cos((lat2-lat1)*p)/2 + cos(lat1*p)*cos(lat2*p) * (1-cos((lon2-lon1)*p)) / 2\n",
    "    return 12742 * asin(sqrt(a)) # Earth diameter: 12742 = 2 * R; R = 6371km (mean radius of the earth)\n",
    "\n",
    "# Find the minimum distance between the hotel and the closest airport\n",
    "def min_distance(lat, lon):\n",
    "    distances = []\n",
    "    for i in range(0, len(airports)):\n",
    "        away = distance(abs(lat), abs(lon), abs(airports[\"Latitude\"][i]), abs(airports[\"Longitude\"][i]))\n",
    "        distances.append(away)\n",
    "    return min(distances)"
   ]
  },
  {
   "cell_type": "code",
   "execution_count": null,
   "metadata": {
    "scrolled": true
   },
   "outputs": [],
   "source": [
    "# For each hotel coordinate, calculate the distance to the nearest airport\n",
    "airport_distance = []\n",
    "for i in range(0, len(metadata)):\n",
    "    dist = min_distance(metadata[\"latitude\"][i], metadata[\"longitude\"][i])\n",
    "    airport_distance.append(dist)\n",
    "    \n",
    "    print(f\"Now processing {i}th airport.\\n-----\")\n",
    "    clear_output(wait = True) # to replace output with new one (instead of printing many outputs)"
   ]
  },
  {
   "cell_type": "code",
   "execution_count": null,
   "metadata": {},
   "outputs": [],
   "source": [
    "# Add airport distance in metadata\n",
    "metadata[\"airportDistance_km\"] = airport_distance\n",
    "\n",
    "# Preview the dataframe\n",
    "metadata.head()"
   ]
  },
  {
   "cell_type": "markdown",
   "metadata": {},
   "source": [
    "### Hotel features"
   ]
  },
  {
   "cell_type": "code",
   "execution_count": null,
   "metadata": {},
   "outputs": [],
   "source": [
    "# Tokenise the categories and put in a new column\n",
    "cats = []\n",
    "for row in metadata[\"categories\"]:\n",
    "    tokens = word_tokenize(row)\n",
    "    cats.append(tokens)\n",
    "\n",
    "cats2 = []\n",
    "for cat in cats:\n",
    "    x = []\n",
    "    for word in cat:\n",
    "        x.append(word.lower())\n",
    "    cats2.append(x)\n",
    "metadata[\"categories2\"] = cats2"
   ]
  },
  {
   "cell_type": "code",
   "execution_count": null,
   "metadata": {},
   "outputs": [],
   "source": [
    "metadata.head()"
   ]
  },
  {
   "cell_type": "code",
   "execution_count": null,
   "metadata": {},
   "outputs": [],
   "source": [
    "# Create a list of unique words to chose features from\n",
    "word_list = []\n",
    "for row in metadata[\"categories2\"]:\n",
    "    for word in row:\n",
    "        word_list.append(word)\n",
    "        \n",
    "unique_terms = list(set(word_list))\n",
    "unique_terms"
   ]
  },
  {
   "cell_type": "code",
   "execution_count": null,
   "metadata": {},
   "outputs": [],
   "source": [
    "# Create new columns containing categories/features for the hotels (manually pick from unique terms)\n",
    "features = ['resort', 'movie', 'marina', 'harbor', 'reception',\n",
    "           'convention', 'health', 'hall', 'extended', 'lodges',\n",
    "           'chalets', 'cemetery', 'skiing', 'theater', 'campground',\n",
    "           'entertainment', 'clinics', 'cabins', 'parties', 'lodge', \n",
    "           'nightclub', 'services', 'airport', 'spas', 'hotel', 'pools',\n",
    "           'attractions', 'meeting', 'utility', 'condominiums', 'cable',\n",
    "           'office', 'village', 'fashion', 'loft', 'chapels', 'fairgrounds', \n",
    "           'boutique', 'gym', 'motel', 'bars', 'e-commerce',\n",
    "           'golf', 'apartment', 'medical', 'pubs', 'cottages', 'pet', 'lakeview',\n",
    "           'restaurant', 'wedding', 'fitness', 'recreation', 'receptions', \n",
    "           'reservations', 'casino', 'family-friendly', 'breakfast',\n",
    "           'beach', 'karaoke']\n",
    "\n",
    "# Sort the items in the list alphabetically\n",
    "features.sort()\n",
    "\n",
    "for feat in features:\n",
    "    metadata[feat] = np.nan"
   ]
  },
  {
   "cell_type": "code",
   "execution_count": null,
   "metadata": {},
   "outputs": [],
   "source": [
    "# Create a function that fills in 1s and 0s for selected categories\n",
    "def Cat_encoding(category):\n",
    "    for i in range(0,len(metadata)):\n",
    "        if category not in metadata[\"categories2\"][i]:\n",
    "            metadata[str(category)][i] = \"0\"\n",
    "        else:\n",
    "            metadata[str(category)][i] = \"1\" \n",
    "        \n",
    "        print(f\"Now processing {i}th hotel for {category}.\\n-----\")\n",
    "        clear_output(wait = True) # to replace output with new one (instead of printing many outputs)  "
   ]
  },
  {
   "cell_type": "code",
   "execution_count": null,
   "metadata": {},
   "outputs": [],
   "source": [
    "# Loop the Cat_encoding function to fill the empty categories\n",
    "for x in features:\n",
    "    Cat_encoding(x) "
   ]
  },
  {
   "cell_type": "code",
   "execution_count": null,
   "metadata": {},
   "outputs": [],
   "source": [
    "# Create a list of unique provinces\n",
    "prov_list = list(set(metadata[\"province\"]))\n",
    "\n",
    "# Sort the items in the list alphabetically\n",
    "prov_list.sort()\n",
    "\n",
    "for prov in prov_list:\n",
    "    metadata[prov] = np.nan"
   ]
  },
  {
   "cell_type": "code",
   "execution_count": null,
   "metadata": {},
   "outputs": [],
   "source": [
    "# Create a function that fills in 1s and 0s for selected categories\n",
    "def Prov_encoding(province):\n",
    "    for i in range(0,len(metadata)):\n",
    "        if province not in metadata[\"province\"][i]:\n",
    "            metadata[str(province)][i] = \"0\"\n",
    "        else:\n",
    "            metadata[str(province)][i] = \"1\" \n",
    "        \n",
    "        print(f\"Now processing {i}th hotel for {province}.\\n-----\")\n",
    "        clear_output(wait = True) # to replace output with new one (instead of printing many outputs)  "
   ]
  },
  {
   "cell_type": "code",
   "execution_count": null,
   "metadata": {},
   "outputs": [],
   "source": [
    "# Loop the Prov_encoding function to fill the empty provinces\n",
    "for x in prov_list:\n",
    "    Prov_encoding(x) "
   ]
  },
  {
   "cell_type": "code",
   "execution_count": null,
   "metadata": {},
   "outputs": [],
   "source": [
    "metadata.head()"
   ]
  },
  {
   "cell_type": "markdown",
   "metadata": {},
   "source": [
    "## Load the metadata with new information into a new database table "
   ]
  },
  {
   "cell_type": "code",
   "execution_count": null,
   "metadata": {},
   "outputs": [],
   "source": [
    "# Create a list of columns\n",
    "columns = list(metadata.columns)"
   ]
  },
  {
   "cell_type": "code",
   "execution_count": null,
   "metadata": {},
   "outputs": [],
   "source": [
    "# Create a function that converts the values into strings\n",
    "def to_str(column_name):\n",
    "    metadata[column_name] = metadata[column_name].astype(str)"
   ]
  },
  {
   "cell_type": "code",
   "execution_count": null,
   "metadata": {},
   "outputs": [],
   "source": [
    "# Loop through all columns and convert their values into strings\n",
    "for column in columns:\n",
    "    to_str(column) "
   ]
  },
  {
   "cell_type": "code",
   "execution_count": null,
   "metadata": {},
   "outputs": [],
   "source": [
    "# Drop columns from metadata df\n",
    "metadata = metadata.drop(columns = [\"categories\", \"primaryCategories\", \"websites\", \"categories2\"])\n",
    "metadata.head()"
   ]
  },
  {
   "cell_type": "code",
   "execution_count": null,
   "metadata": {
    "scrolled": true
   },
   "outputs": [],
   "source": [
    "# Create a connection to the database\n",
    "conn = sqlite3.connect(\"Data/Hotels.db\")\n",
    "\n",
    "# Save the dataframe as a sqlite database table\n",
    "metadata.to_sql(\"metadata2\", conn, if_exists = \"replace\", index = False)"
   ]
  },
  {
   "cell_type": "code",
   "execution_count": null,
   "metadata": {},
   "outputs": [],
   "source": [
    "# Preview metadata\n",
    "pd.read_sql_query(\"select * from metadata2 limit 3;\", conn)"
   ]
  },
  {
   "cell_type": "code",
   "execution_count": null,
   "metadata": {},
   "outputs": [],
   "source": [
    "# Close the connection\n",
    "conn.close()"
   ]
  }
 ],
 "metadata": {
  "kernelspec": {
   "display_name": "Python 3",
   "language": "python",
   "name": "python3"
  },
  "language_info": {
   "codemirror_mode": {
    "name": "ipython",
    "version": 3
   },
   "file_extension": ".py",
   "mimetype": "text/x-python",
   "name": "python",
   "nbconvert_exporter": "python",
   "pygments_lexer": "ipython3",
   "version": "3.6.5"
  }
 },
 "nbformat": 4,
 "nbformat_minor": 2
}
