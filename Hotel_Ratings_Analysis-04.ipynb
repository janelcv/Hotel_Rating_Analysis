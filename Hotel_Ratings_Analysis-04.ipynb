{
 "cells": [
  {
   "cell_type": "code",
   "execution_count": 1,
   "metadata": {},
   "outputs": [],
   "source": [
    "# Dependencies\n",
    "import pandas as pd\n",
    "import sqlite3\n",
    "from pyspark import SparkContext\n",
    "sc =SparkContext()\n",
    "from pyspark.sql import SQLContext\n",
    "sqlContext = SQLContext(sc)"
   ]
  },
  {
   "cell_type": "code",
   "execution_count": 2,
   "metadata": {},
   "outputs": [
    {
     "data": {
      "text/html": [
       "<div>\n",
       "<style scoped>\n",
       "    .dataframe tbody tr th:only-of-type {\n",
       "        vertical-align: middle;\n",
       "    }\n",
       "\n",
       "    .dataframe tbody tr th {\n",
       "        vertical-align: top;\n",
       "    }\n",
       "\n",
       "    .dataframe thead th {\n",
       "        text-align: right;\n",
       "    }\n",
       "</style>\n",
       "<table border=\"1\" class=\"dataframe\">\n",
       "  <thead>\n",
       "    <tr style=\"text-align: right;\">\n",
       "      <th></th>\n",
       "      <th>index</th>\n",
       "      <th>name</th>\n",
       "      <th>reviews_date</th>\n",
       "      <th>reviews_rating</th>\n",
       "      <th>reviews_sourceURLs</th>\n",
       "      <th>reviews_text</th>\n",
       "      <th>reviews_title</th>\n",
       "      <th>reviews_userCity</th>\n",
       "      <th>reviews_userProvince</th>\n",
       "    </tr>\n",
       "  </thead>\n",
       "  <tbody>\n",
       "    <tr>\n",
       "      <th>0</th>\n",
       "      <td>0</td>\n",
       "      <td>Rancho Valencia Resort Spa</td>\n",
       "      <td>2013-11-14T00:00:00Z</td>\n",
       "      <td>5.0</td>\n",
       "      <td>www.hotels.com</td>\n",
       "      <td>Our experience at Rancho Valencia was absolute...</td>\n",
       "      <td>Best romantic vacation ever!!!!</td>\n",
       "      <td>None</td>\n",
       "      <td>None</td>\n",
       "    </tr>\n",
       "    <tr>\n",
       "      <th>1</th>\n",
       "      <td>1</td>\n",
       "      <td>Rancho Valencia Resort Spa</td>\n",
       "      <td>2014-07-06T00:00:00Z</td>\n",
       "      <td>5.0</td>\n",
       "      <td>www.hotels.com</td>\n",
       "      <td>Amazing place. Everyone was extremely warm and...</td>\n",
       "      <td>Sweet sweet serenity</td>\n",
       "      <td>None</td>\n",
       "      <td>None</td>\n",
       "    </tr>\n",
       "    <tr>\n",
       "      <th>2</th>\n",
       "      <td>2</td>\n",
       "      <td>Rancho Valencia Resort Spa</td>\n",
       "      <td>2015-01-02T00:00:00Z</td>\n",
       "      <td>5.0</td>\n",
       "      <td>www.hotels.com</td>\n",
       "      <td>We booked a 3 night stay at Rancho Valencia to...</td>\n",
       "      <td>Amazing Property and Experience</td>\n",
       "      <td>None</td>\n",
       "      <td>None</td>\n",
       "    </tr>\n",
       "    <tr>\n",
       "      <th>3</th>\n",
       "      <td>3</td>\n",
       "      <td>Aloft Arundel Mills</td>\n",
       "      <td>2016-05-15T00:00:00Z</td>\n",
       "      <td>2.0</td>\n",
       "      <td>www.tripadvisor.com</td>\n",
       "      <td>Currently in bed writing this for the past hr ...</td>\n",
       "      <td>Never again...beware, if you want sleep.</td>\n",
       "      <td>Richmond</td>\n",
       "      <td>VA</td>\n",
       "    </tr>\n",
       "    <tr>\n",
       "      <th>4</th>\n",
       "      <td>4</td>\n",
       "      <td>Aloft Arundel Mills</td>\n",
       "      <td>2016-07-09T00:00:00Z</td>\n",
       "      <td>5.0</td>\n",
       "      <td>www.tripadvisor.com</td>\n",
       "      <td>I live in Md and the Aloft is my Home away fro...</td>\n",
       "      <td>ALWAYS GREAT STAY...</td>\n",
       "      <td>Laurel</td>\n",
       "      <td>MD</td>\n",
       "    </tr>\n",
       "  </tbody>\n",
       "</table>\n",
       "</div>"
      ],
      "text/plain": [
       "  index                        name          reviews_date  reviews_rating  \\\n",
       "0     0  Rancho Valencia Resort Spa  2013-11-14T00:00:00Z             5.0   \n",
       "1     1  Rancho Valencia Resort Spa  2014-07-06T00:00:00Z             5.0   \n",
       "2     2  Rancho Valencia Resort Spa  2015-01-02T00:00:00Z             5.0   \n",
       "3     3         Aloft Arundel Mills  2016-05-15T00:00:00Z             2.0   \n",
       "4     4         Aloft Arundel Mills  2016-07-09T00:00:00Z             5.0   \n",
       "\n",
       "    reviews_sourceURLs                                       reviews_text  \\\n",
       "0       www.hotels.com  Our experience at Rancho Valencia was absolute...   \n",
       "1       www.hotels.com  Amazing place. Everyone was extremely warm and...   \n",
       "2       www.hotels.com  We booked a 3 night stay at Rancho Valencia to...   \n",
       "3  www.tripadvisor.com  Currently in bed writing this for the past hr ...   \n",
       "4  www.tripadvisor.com  I live in Md and the Aloft is my Home away fro...   \n",
       "\n",
       "                              reviews_title reviews_userCity  \\\n",
       "0           Best romantic vacation ever!!!!             None   \n",
       "1                      Sweet sweet serenity             None   \n",
       "2           Amazing Property and Experience             None   \n",
       "3  Never again...beware, if you want sleep.         Richmond   \n",
       "4                      ALWAYS GREAT STAY...           Laurel   \n",
       "\n",
       "  reviews_userProvince  \n",
       "0                 None  \n",
       "1                 None  \n",
       "2                 None  \n",
       "3                   VA  \n",
       "4                   MD  "
      ]
     },
     "execution_count": 2,
     "metadata": {},
     "output_type": "execute_result"
    }
   ],
   "source": [
    "# Create connections to database\n",
    "conn = sqlite3.connect(\"Data/Hotels.db\")\n",
    "\n",
    "#Load the database table into a pandas dataframe\n",
    "ratings = pd.read_sql_query(\"select * from ratings;\", conn)\n",
    "conn.close()\n",
    "\n",
    "# Preview the dataframe\n",
    "ratings.head()"
   ]
  },
  {
   "cell_type": "code",
   "execution_count": 3,
   "metadata": {},
   "outputs": [
    {
     "data": {
      "text/html": [
       "<div>\n",
       "<style scoped>\n",
       "    .dataframe tbody tr th:only-of-type {\n",
       "        vertical-align: middle;\n",
       "    }\n",
       "\n",
       "    .dataframe tbody tr th {\n",
       "        vertical-align: top;\n",
       "    }\n",
       "\n",
       "    .dataframe thead th {\n",
       "        text-align: right;\n",
       "    }\n",
       "</style>\n",
       "<table border=\"1\" class=\"dataframe\">\n",
       "  <thead>\n",
       "    <tr style=\"text-align: right;\">\n",
       "      <th></th>\n",
       "      <th>index</th>\n",
       "      <th>name</th>\n",
       "      <th>reviews_date</th>\n",
       "      <th>reviews_rating</th>\n",
       "      <th>reviews_sourceURLs</th>\n",
       "      <th>reviews_text</th>\n",
       "      <th>reviews_title</th>\n",
       "      <th>reviews_userCity</th>\n",
       "      <th>reviews_userProvince</th>\n",
       "    </tr>\n",
       "  </thead>\n",
       "  <tbody>\n",
       "    <tr>\n",
       "      <th>0</th>\n",
       "      <td>0</td>\n",
       "      <td>Rancho Valencia Resort Spa</td>\n",
       "      <td>2013-11-14T00:00:00Z</td>\n",
       "      <td>5.0</td>\n",
       "      <td>www.hotels.com</td>\n",
       "      <td>our experience at rancho valencia was absolute...</td>\n",
       "      <td>Best romantic vacation ever!!!!</td>\n",
       "      <td>None</td>\n",
       "      <td>None</td>\n",
       "    </tr>\n",
       "    <tr>\n",
       "      <th>1</th>\n",
       "      <td>1</td>\n",
       "      <td>Rancho Valencia Resort Spa</td>\n",
       "      <td>2014-07-06T00:00:00Z</td>\n",
       "      <td>5.0</td>\n",
       "      <td>www.hotels.com</td>\n",
       "      <td>amazing place. everyone was extremely warm and...</td>\n",
       "      <td>Sweet sweet serenity</td>\n",
       "      <td>None</td>\n",
       "      <td>None</td>\n",
       "    </tr>\n",
       "    <tr>\n",
       "      <th>2</th>\n",
       "      <td>2</td>\n",
       "      <td>Rancho Valencia Resort Spa</td>\n",
       "      <td>2015-01-02T00:00:00Z</td>\n",
       "      <td>5.0</td>\n",
       "      <td>www.hotels.com</td>\n",
       "      <td>we booked a 3 night stay at rancho valencia to...</td>\n",
       "      <td>Amazing Property and Experience</td>\n",
       "      <td>None</td>\n",
       "      <td>None</td>\n",
       "    </tr>\n",
       "    <tr>\n",
       "      <th>3</th>\n",
       "      <td>3</td>\n",
       "      <td>Aloft Arundel Mills</td>\n",
       "      <td>2016-05-15T00:00:00Z</td>\n",
       "      <td>2.0</td>\n",
       "      <td>www.tripadvisor.com</td>\n",
       "      <td>currently in bed writing this for the past hr ...</td>\n",
       "      <td>Never again...beware, if you want sleep.</td>\n",
       "      <td>Richmond</td>\n",
       "      <td>VA</td>\n",
       "    </tr>\n",
       "    <tr>\n",
       "      <th>4</th>\n",
       "      <td>4</td>\n",
       "      <td>Aloft Arundel Mills</td>\n",
       "      <td>2016-07-09T00:00:00Z</td>\n",
       "      <td>5.0</td>\n",
       "      <td>www.tripadvisor.com</td>\n",
       "      <td>i live in md and the aloft is my home away fro...</td>\n",
       "      <td>ALWAYS GREAT STAY...</td>\n",
       "      <td>Laurel</td>\n",
       "      <td>MD</td>\n",
       "    </tr>\n",
       "  </tbody>\n",
       "</table>\n",
       "</div>"
      ],
      "text/plain": [
       "  index                        name          reviews_date  reviews_rating  \\\n",
       "0     0  Rancho Valencia Resort Spa  2013-11-14T00:00:00Z             5.0   \n",
       "1     1  Rancho Valencia Resort Spa  2014-07-06T00:00:00Z             5.0   \n",
       "2     2  Rancho Valencia Resort Spa  2015-01-02T00:00:00Z             5.0   \n",
       "3     3         Aloft Arundel Mills  2016-05-15T00:00:00Z             2.0   \n",
       "4     4         Aloft Arundel Mills  2016-07-09T00:00:00Z             5.0   \n",
       "\n",
       "    reviews_sourceURLs                                       reviews_text  \\\n",
       "0       www.hotels.com  our experience at rancho valencia was absolute...   \n",
       "1       www.hotels.com  amazing place. everyone was extremely warm and...   \n",
       "2       www.hotels.com  we booked a 3 night stay at rancho valencia to...   \n",
       "3  www.tripadvisor.com  currently in bed writing this for the past hr ...   \n",
       "4  www.tripadvisor.com  i live in md and the aloft is my home away fro...   \n",
       "\n",
       "                              reviews_title reviews_userCity  \\\n",
       "0           Best romantic vacation ever!!!!             None   \n",
       "1                      Sweet sweet serenity             None   \n",
       "2           Amazing Property and Experience             None   \n",
       "3  Never again...beware, if you want sleep.         Richmond   \n",
       "4                      ALWAYS GREAT STAY...           Laurel   \n",
       "\n",
       "  reviews_userProvince  \n",
       "0                 None  \n",
       "1                 None  \n",
       "2                 None  \n",
       "3                   VA  \n",
       "4                   MD  "
      ]
     },
     "execution_count": 3,
     "metadata": {},
     "output_type": "execute_result"
    }
   ],
   "source": [
    "# Put all letters in lower case\n",
    "ratings[\"reviews_text\"] = ratings[\"reviews_text\"].str.lower()\n",
    "ratings.head()"
   ]
  },
  {
   "cell_type": "code",
   "execution_count": 4,
   "metadata": {},
   "outputs": [],
   "source": [
    "ratings['reviews_text'] = ratings['reviews_text'].astype(str)"
   ]
  },
  {
   "cell_type": "code",
   "execution_count": null,
   "metadata": {},
   "outputs": [],
   "source": []
  },
  {
   "cell_type": "code",
   "execution_count": 5,
   "metadata": {},
   "outputs": [
    {
     "name": "stdout",
     "output_type": "stream",
     "text": [
      "[nltk_data] Downloading package punkt to\n",
      "[nltk_data]     /Users/janelchadiarova/nltk_data...\n",
      "[nltk_data]   Package punkt is already up-to-date!\n",
      "[nltk_data] Downloading package stopwords to\n",
      "[nltk_data]     /Users/janelchadiarova/nltk_data...\n",
      "[nltk_data]   Package stopwords is already up-to-date!\n",
      "[nltk_data] Downloading package wordnet to\n",
      "[nltk_data]     /Users/janelchadiarova/nltk_data...\n",
      "[nltk_data]   Package wordnet is already up-to-date!\n"
     ]
    }
   ],
   "source": [
    "# Dependencies\n",
    "import re, string\n",
    "\n",
    "import nltk\n",
    "nltk.download(\"punkt\")\n",
    "nltk.download('stopwords')\n",
    "nltk.download('wordnet')\n",
    "\n",
    "from nltk.tokenize import word_tokenize\n",
    "from nltk.corpus import stopwords\n",
    "from nltk.stem import WordNetLemmatizer\n"
   ]
  },
  {
   "cell_type": "code",
   "execution_count": 6,
   "metadata": {},
   "outputs": [],
   "source": [
    "# Remove stop words from the list\n",
    "stops = stopwords.words(\"english\")\n",
    "exclude = set(string.punctuation)"
   ]
  },
  {
   "cell_type": "code",
   "execution_count": 7,
   "metadata": {},
   "outputs": [
    {
     "data": {
      "text/html": [
       "<div>\n",
       "<style scoped>\n",
       "    .dataframe tbody tr th:only-of-type {\n",
       "        vertical-align: middle;\n",
       "    }\n",
       "\n",
       "    .dataframe tbody tr th {\n",
       "        vertical-align: top;\n",
       "    }\n",
       "\n",
       "    .dataframe thead th {\n",
       "        text-align: right;\n",
       "    }\n",
       "</style>\n",
       "<table border=\"1\" class=\"dataframe\">\n",
       "  <thead>\n",
       "    <tr style=\"text-align: right;\">\n",
       "      <th></th>\n",
       "      <th>index</th>\n",
       "      <th>name</th>\n",
       "      <th>reviews_date</th>\n",
       "      <th>reviews_rating</th>\n",
       "      <th>reviews_sourceURLs</th>\n",
       "      <th>reviews_text</th>\n",
       "      <th>reviews_title</th>\n",
       "      <th>reviews_userCity</th>\n",
       "      <th>reviews_userProvince</th>\n",
       "      <th>filteredReview</th>\n",
       "    </tr>\n",
       "  </thead>\n",
       "  <tbody>\n",
       "    <tr>\n",
       "      <th>0</th>\n",
       "      <td>0</td>\n",
       "      <td>Rancho Valencia Resort Spa</td>\n",
       "      <td>2013-11-14T00:00:00Z</td>\n",
       "      <td>5.0</td>\n",
       "      <td>www.hotels.com</td>\n",
       "      <td>our experience at rancho valencia was absolute...</td>\n",
       "      <td>Best romantic vacation ever!!!!</td>\n",
       "      <td>None</td>\n",
       "      <td>None</td>\n",
       "      <td>experience rancho valencia absolutely perfect ...</td>\n",
       "    </tr>\n",
       "    <tr>\n",
       "      <th>1</th>\n",
       "      <td>1</td>\n",
       "      <td>Rancho Valencia Resort Spa</td>\n",
       "      <td>2014-07-06T00:00:00Z</td>\n",
       "      <td>5.0</td>\n",
       "      <td>www.hotels.com</td>\n",
       "      <td>amazing place. everyone was extremely warm and...</td>\n",
       "      <td>Sweet sweet serenity</td>\n",
       "      <td>None</td>\n",
       "      <td>None</td>\n",
       "      <td>amazing place everyone extremely warm welcomin...</td>\n",
       "    </tr>\n",
       "    <tr>\n",
       "      <th>2</th>\n",
       "      <td>2</td>\n",
       "      <td>Rancho Valencia Resort Spa</td>\n",
       "      <td>2015-01-02T00:00:00Z</td>\n",
       "      <td>5.0</td>\n",
       "      <td>www.hotels.com</td>\n",
       "      <td>we booked a 3 night stay at rancho valencia to...</td>\n",
       "      <td>Amazing Property and Experience</td>\n",
       "      <td>None</td>\n",
       "      <td>None</td>\n",
       "      <td>booked 3 night stay rancho valencia play tenni...</td>\n",
       "    </tr>\n",
       "    <tr>\n",
       "      <th>3</th>\n",
       "      <td>3</td>\n",
       "      <td>Aloft Arundel Mills</td>\n",
       "      <td>2016-05-15T00:00:00Z</td>\n",
       "      <td>2.0</td>\n",
       "      <td>www.tripadvisor.com</td>\n",
       "      <td>currently in bed writing this for the past hr ...</td>\n",
       "      <td>Never again...beware, if you want sleep.</td>\n",
       "      <td>Richmond</td>\n",
       "      <td>VA</td>\n",
       "      <td>currently bed writing past hr 1/2 dogs barking...</td>\n",
       "    </tr>\n",
       "    <tr>\n",
       "      <th>4</th>\n",
       "      <td>4</td>\n",
       "      <td>Aloft Arundel Mills</td>\n",
       "      <td>2016-07-09T00:00:00Z</td>\n",
       "      <td>5.0</td>\n",
       "      <td>www.tripadvisor.com</td>\n",
       "      <td>i live in md and the aloft is my home away fro...</td>\n",
       "      <td>ALWAYS GREAT STAY...</td>\n",
       "      <td>Laurel</td>\n",
       "      <td>MD</td>\n",
       "      <td>live md aloft home away home ... stayed 1 nigh...</td>\n",
       "    </tr>\n",
       "  </tbody>\n",
       "</table>\n",
       "</div>"
      ],
      "text/plain": [
       "  index                        name          reviews_date  reviews_rating  \\\n",
       "0     0  Rancho Valencia Resort Spa  2013-11-14T00:00:00Z             5.0   \n",
       "1     1  Rancho Valencia Resort Spa  2014-07-06T00:00:00Z             5.0   \n",
       "2     2  Rancho Valencia Resort Spa  2015-01-02T00:00:00Z             5.0   \n",
       "3     3         Aloft Arundel Mills  2016-05-15T00:00:00Z             2.0   \n",
       "4     4         Aloft Arundel Mills  2016-07-09T00:00:00Z             5.0   \n",
       "\n",
       "    reviews_sourceURLs                                       reviews_text  \\\n",
       "0       www.hotels.com  our experience at rancho valencia was absolute...   \n",
       "1       www.hotels.com  amazing place. everyone was extremely warm and...   \n",
       "2       www.hotels.com  we booked a 3 night stay at rancho valencia to...   \n",
       "3  www.tripadvisor.com  currently in bed writing this for the past hr ...   \n",
       "4  www.tripadvisor.com  i live in md and the aloft is my home away fro...   \n",
       "\n",
       "                              reviews_title reviews_userCity  \\\n",
       "0           Best romantic vacation ever!!!!             None   \n",
       "1                      Sweet sweet serenity             None   \n",
       "2           Amazing Property and Experience             None   \n",
       "3  Never again...beware, if you want sleep.         Richmond   \n",
       "4                      ALWAYS GREAT STAY...           Laurel   \n",
       "\n",
       "  reviews_userProvince                                     filteredReview  \n",
       "0                 None  experience rancho valencia absolutely perfect ...  \n",
       "1                 None  amazing place everyone extremely warm welcomin...  \n",
       "2                 None  booked 3 night stay rancho valencia play tenni...  \n",
       "3                   VA  currently bed writing past hr 1/2 dogs barking...  \n",
       "4                   MD  live md aloft home away home ... stayed 1 nigh...  "
      ]
     },
     "execution_count": 7,
     "metadata": {},
     "output_type": "execute_result"
    }
   ],
   "source": [
    "# Transform the poem in preparation for word counts\n",
    "words_list = []\n",
    "preprocessed_text = []\n",
    "for review in ratings[\"reviews_text\"]:\n",
    "    \n",
    "    # Create a list of words per poem after the words are converted to lowercase    \n",
    "    words = word_tokenize(review)\n",
    "    \n",
    "    # Filter to remove stop words and punctuations    \n",
    "    words2 = [word for word in words if word not in stops and word not in exclude]\n",
    "    \n",
    "    # Add the filtered list of words (representing each poem)\n",
    "    words_list.append(words2)\n",
    "    \n",
    "    # Convert the list of strings back to one string\n",
    "    words3 = \" \".join(words2)\n",
    "    \n",
    "    # Add the filtered list of words (representing each poem)\n",
    "    preprocessed_text.append(words3)\n",
    "   \n",
    "ratings[\"filteredReview\"] = preprocessed_text\n",
    "ratings.head()"
   ]
  },
  {
   "cell_type": "code",
   "execution_count": 11,
   "metadata": {},
   "outputs": [
    {
     "data": {
      "text/html": [
       "<div>\n",
       "<style scoped>\n",
       "    .dataframe tbody tr th:only-of-type {\n",
       "        vertical-align: middle;\n",
       "    }\n",
       "\n",
       "    .dataframe tbody tr th {\n",
       "        vertical-align: top;\n",
       "    }\n",
       "\n",
       "    .dataframe thead th {\n",
       "        text-align: right;\n",
       "    }\n",
       "</style>\n",
       "<table border=\"1\" class=\"dataframe\">\n",
       "  <thead>\n",
       "    <tr style=\"text-align: right;\">\n",
       "      <th></th>\n",
       "      <th>index</th>\n",
       "      <th>name</th>\n",
       "      <th>reviews_rating</th>\n",
       "      <th>filteredReview</th>\n",
       "    </tr>\n",
       "  </thead>\n",
       "  <tbody>\n",
       "    <tr>\n",
       "      <th>0</th>\n",
       "      <td>0</td>\n",
       "      <td>Rancho Valencia Resort Spa</td>\n",
       "      <td>5.0</td>\n",
       "      <td>experience rancho valencia absolutely perfect ...</td>\n",
       "    </tr>\n",
       "    <tr>\n",
       "      <th>1</th>\n",
       "      <td>1</td>\n",
       "      <td>Rancho Valencia Resort Spa</td>\n",
       "      <td>5.0</td>\n",
       "      <td>amazing place everyone extremely warm welcomin...</td>\n",
       "    </tr>\n",
       "    <tr>\n",
       "      <th>2</th>\n",
       "      <td>2</td>\n",
       "      <td>Rancho Valencia Resort Spa</td>\n",
       "      <td>5.0</td>\n",
       "      <td>booked 3 night stay rancho valencia play tenni...</td>\n",
       "    </tr>\n",
       "    <tr>\n",
       "      <th>3</th>\n",
       "      <td>3</td>\n",
       "      <td>Aloft Arundel Mills</td>\n",
       "      <td>2.0</td>\n",
       "      <td>currently bed writing past hr 1/2 dogs barking...</td>\n",
       "    </tr>\n",
       "    <tr>\n",
       "      <th>4</th>\n",
       "      <td>4</td>\n",
       "      <td>Aloft Arundel Mills</td>\n",
       "      <td>5.0</td>\n",
       "      <td>live md aloft home away home ... stayed 1 nigh...</td>\n",
       "    </tr>\n",
       "  </tbody>\n",
       "</table>\n",
       "</div>"
      ],
      "text/plain": [
       "  index                        name  reviews_rating  \\\n",
       "0     0  Rancho Valencia Resort Spa             5.0   \n",
       "1     1  Rancho Valencia Resort Spa             5.0   \n",
       "2     2  Rancho Valencia Resort Spa             5.0   \n",
       "3     3         Aloft Arundel Mills             2.0   \n",
       "4     4         Aloft Arundel Mills             5.0   \n",
       "\n",
       "                                      filteredReview  \n",
       "0  experience rancho valencia absolutely perfect ...  \n",
       "1  amazing place everyone extremely warm welcomin...  \n",
       "2  booked 3 night stay rancho valencia play tenni...  \n",
       "3  currently bed writing past hr 1/2 dogs barking...  \n",
       "4  live md aloft home away home ... stayed 1 nigh...  "
      ]
     },
     "execution_count": 11,
     "metadata": {},
     "output_type": "execute_result"
    }
   ],
   "source": [
    "# Remove columns that will not be used in the analysis\n",
    "df = ratings.drop(columns=[\"reviews_text\",\"reviews_date\",\"reviews_sourceURLs\",\"reviews_title\",\"reviews_userCity\",\"reviews_userProvince\"],axis=1)\n",
    "\n",
    "# Preview the dataframe\n",
    "df.head()"
   ]
  },
  {
   "cell_type": "code",
   "execution_count": 13,
   "metadata": {},
   "outputs": [
    {
     "name": "stdout",
     "output_type": "stream",
     "text": [
      "+-----+--------------------+--------------+--------------------+\n",
      "|index|                name|reviews_rating|      filteredReview|\n",
      "+-----+--------------------+--------------+--------------------+\n",
      "|    0|Rancho Valencia R...|           5.0|experience rancho...|\n",
      "|    1|Rancho Valencia R...|           5.0|amazing place eve...|\n",
      "|    2|Rancho Valencia R...|           5.0|booked 3 night st...|\n",
      "|    3| Aloft Arundel Mills|           2.0|currently bed wri...|\n",
      "|    4| Aloft Arundel Mills|           5.0|live md aloft hom...|\n",
      "+-----+--------------------+--------------+--------------------+\n",
      "only showing top 5 rows\n",
      "\n"
     ]
    }
   ],
   "source": [
    "spark_ratings = sqlContext.createDataFrame(df)\n",
    "spark_ratings.show(5)"
   ]
  },
  {
   "cell_type": "code",
   "execution_count": 14,
   "metadata": {},
   "outputs": [
    {
     "name": "stdout",
     "output_type": "stream",
     "text": [
      "+-----+--------------------+--------------+--------------------+------+\n",
      "|index|                name|reviews_rating|      filteredReview|length|\n",
      "+-----+--------------------+--------------+--------------------+------+\n",
      "|    0|Rancho Valencia R...|           5.0|experience rancho...|   112|\n",
      "|    1|Rancho Valencia R...|           5.0|amazing place eve...|   202|\n",
      "|    2|Rancho Valencia R...|           5.0|booked 3 night st...|   335|\n",
      "|    3| Aloft Arundel Mills|           2.0|currently bed wri...|   125|\n",
      "|    4| Aloft Arundel Mills|           5.0|live md aloft hom...|   186|\n",
      "+-----+--------------------+--------------+--------------------+------+\n",
      "only showing top 5 rows\n",
      "\n"
     ]
    }
   ],
   "source": [
    "from pyspark.sql.functions import length\n",
    "data = spark_ratings.withColumn('length', length(spark_ratings['filteredReview']))\n",
    "data.show(5)"
   ]
  },
  {
   "cell_type": "code",
   "execution_count": 15,
   "metadata": {},
   "outputs": [],
   "source": [
    "from pyspark.ml.feature import Tokenizer, StopWordsRemover, HashingTF, IDF, StringIndexer"
   ]
  },
  {
   "cell_type": "code",
   "execution_count": 16,
   "metadata": {},
   "outputs": [
    {
     "name": "stdout",
     "output_type": "stream",
     "text": [
      "+-----+--------------------------+--------------+-----------------------------------------------------------------------------------------------------------------------------------------------------------------------------------------------------------------------------------------------------------------------------------------------------------------------------------------------+------------------------------------------------------------------------------------------------------------------------------------------------------------------------------------------------------------------------------------------------------------------------------------------------------------------------------------------------------------------------------------------------+\n",
      "|index|name                      |reviews_rating|filteredReview                                                                                                                                                                                                                                                                                                                                 |token_text                                                                                                                                                                                                                                                                                                                                                                                      |\n",
      "+-----+--------------------------+--------------+-----------------------------------------------------------------------------------------------------------------------------------------------------------------------------------------------------------------------------------------------------------------------------------------------------------------------------------------------+------------------------------------------------------------------------------------------------------------------------------------------------------------------------------------------------------------------------------------------------------------------------------------------------------------------------------------------------------------------------------------------------+\n",
      "|0    |Rancho Valencia Resort Spa|5.0           |experience rancho valencia absolutely perfect beginning end felt special happy stayed would come back heart beat                                                                                                                                                                                                                               |[experience, rancho, valencia, absolutely, perfect, beginning, end, felt, special, happy, stayed, would, come, back, heart, beat]                                                                                                                                                                                                                                                               |\n",
      "|1    |Rancho Valencia Resort Spa|5.0           |amazing place everyone extremely warm welcoming 've stayed top notch places definitely top 2. great romantic getaway take kids along couple stuffed animals waiting girls upon arrival ca n't wait go back                                                                                                                                     |[amazing, place, everyone, extremely, warm, welcoming, 've, stayed, top, notch, places, definitely, top, 2., great, romantic, getaway, take, kids, along, couple, stuffed, animals, waiting, girls, upon, arrival, ca, n't, wait, go, back]                                                                                                                                                     |\n",
      "|2    |Rancho Valencia Resort Spa|5.0           |booked 3 night stay rancho valencia play tennis since one highest rated tennis resorts america place really top luxury standpoint overall experience villas really perfect staff great attention details includes fresh squeezed orange juice morning restaurants bar room service amazing tennis program really impressive well want come back|[booked, 3, night, stay, rancho, valencia, play, tennis, since, one, highest, rated, tennis, resorts, america, place, really, top, luxury, standpoint, overall, experience, villas, really, perfect, staff, great, attention, details, includes, fresh, squeezed, orange, juice, morning, restaurants, bar, room, service, amazing, tennis, program, really, impressive, well, want, come, back]|\n",
      "+-----+--------------------------+--------------+-----------------------------------------------------------------------------------------------------------------------------------------------------------------------------------------------------------------------------------------------------------------------------------------------------------------------------------------------+------------------------------------------------------------------------------------------------------------------------------------------------------------------------------------------------------------------------------------------------------------------------------------------------------------------------------------------------------------------------------------------------+\n",
      "only showing top 3 rows\n",
      "\n"
     ]
    }
   ],
   "source": [
    "tokenizer = Tokenizer(inputCol=\"filteredReview\", outputCol=\"token_text\")\n",
    "tokenized = tokenizer.transform(spark_ratings)\n",
    "tokenized.show(3, truncate=False)"
   ]
  },
  {
   "cell_type": "code",
   "execution_count": 17,
   "metadata": {},
   "outputs": [
    {
     "name": "stdout",
     "output_type": "stream",
     "text": [
      "+-----+--------------------------+--------------+-----------------------------------------------------------------------------------------------------------------------------------------------------------------------------------------------------------------------------------------------------------------------------------------------------------------------------------------------+------------------------------------------------------------------------------------------------------------------------------------------------------------------------------------------------------------------------------------------------------------------------------------------------------------------------------------------------------------------------------------------------+------------------------------------------------------------------------------------------------------------------------------------------------------------------------------------------------------------------------------------------------------------------------------------------------------------------------------------------------------------------------------------------------+\n",
      "|index|name                      |reviews_rating|filteredReview                                                                                                                                                                                                                                                                                                                                 |token_text                                                                                                                                                                                                                                                                                                                                                                                      |stop_tokens                                                                                                                                                                                                                                                                                                                                                                                     |\n",
      "+-----+--------------------------+--------------+-----------------------------------------------------------------------------------------------------------------------------------------------------------------------------------------------------------------------------------------------------------------------------------------------------------------------------------------------+------------------------------------------------------------------------------------------------------------------------------------------------------------------------------------------------------------------------------------------------------------------------------------------------------------------------------------------------------------------------------------------------+------------------------------------------------------------------------------------------------------------------------------------------------------------------------------------------------------------------------------------------------------------------------------------------------------------------------------------------------------------------------------------------------+\n",
      "|0    |Rancho Valencia Resort Spa|5.0           |experience rancho valencia absolutely perfect beginning end felt special happy stayed would come back heart beat                                                                                                                                                                                                                               |[experience, rancho, valencia, absolutely, perfect, beginning, end, felt, special, happy, stayed, would, come, back, heart, beat]                                                                                                                                                                                                                                                               |[experience, rancho, valencia, absolutely, perfect, beginning, end, felt, special, happy, stayed, come, back, heart, beat]                                                                                                                                                                                                                                                                      |\n",
      "|1    |Rancho Valencia Resort Spa|5.0           |amazing place everyone extremely warm welcoming 've stayed top notch places definitely top 2. great romantic getaway take kids along couple stuffed animals waiting girls upon arrival ca n't wait go back                                                                                                                                     |[amazing, place, everyone, extremely, warm, welcoming, 've, stayed, top, notch, places, definitely, top, 2., great, romantic, getaway, take, kids, along, couple, stuffed, animals, waiting, girls, upon, arrival, ca, n't, wait, go, back]                                                                                                                                                     |[amazing, place, everyone, extremely, warm, welcoming, 've, stayed, top, notch, places, definitely, top, 2., great, romantic, getaway, take, kids, along, couple, stuffed, animals, waiting, girls, upon, arrival, ca, n't, wait, go, back]                                                                                                                                                     |\n",
      "|2    |Rancho Valencia Resort Spa|5.0           |booked 3 night stay rancho valencia play tennis since one highest rated tennis resorts america place really top luxury standpoint overall experience villas really perfect staff great attention details includes fresh squeezed orange juice morning restaurants bar room service amazing tennis program really impressive well want come back|[booked, 3, night, stay, rancho, valencia, play, tennis, since, one, highest, rated, tennis, resorts, america, place, really, top, luxury, standpoint, overall, experience, villas, really, perfect, staff, great, attention, details, includes, fresh, squeezed, orange, juice, morning, restaurants, bar, room, service, amazing, tennis, program, really, impressive, well, want, come, back]|[booked, 3, night, stay, rancho, valencia, play, tennis, since, one, highest, rated, tennis, resorts, america, place, really, top, luxury, standpoint, overall, experience, villas, really, perfect, staff, great, attention, details, includes, fresh, squeezed, orange, juice, morning, restaurants, bar, room, service, amazing, tennis, program, really, impressive, well, want, come, back]|\n",
      "+-----+--------------------------+--------------+-----------------------------------------------------------------------------------------------------------------------------------------------------------------------------------------------------------------------------------------------------------------------------------------------------------------------------------------------+------------------------------------------------------------------------------------------------------------------------------------------------------------------------------------------------------------------------------------------------------------------------------------------------------------------------------------------------------------------------------------------------+------------------------------------------------------------------------------------------------------------------------------------------------------------------------------------------------------------------------------------------------------------------------------------------------------------------------------------------------------------------------------------------------+\n",
      "only showing top 3 rows\n",
      "\n"
     ]
    }
   ],
   "source": [
    "stopremove = StopWordsRemover(inputCol='token_text',outputCol='stop_tokens')\n",
    "filtered = stopremove.transform(tokenized)\n",
    "filtered.show(3, truncate=False)"
   ]
  },
  {
   "cell_type": "code",
   "execution_count": 18,
   "metadata": {},
   "outputs": [
    {
     "name": "stdout",
     "output_type": "stream",
     "text": [
      "+-----+--------------------------+--------------+-----------------------------------------------------------------------------------------------------------------------------------------------------------------------------------------------------------------------------------------------------------------------------------------------------------------------------------------------+------------------------------------------------------------------------------------------------------------------------------------------------------------------------------------------------------------------------------------------------------------------------------------------------------------------------------------------------------------------------------------------------+------------------------------------------------------------------------------------------------------------------------------------------------------------------------------------------------------------------------------------------------------------------------------------------------------------------------------------------------------------------------------------------------+--------------------------------------------------------------------------------------------------------+\n",
      "|index|name                      |reviews_rating|filteredReview                                                                                                                                                                                                                                                                                                                                 |token_text                                                                                                                                                                                                                                                                                                                                                                                      |stop_tokens                                                                                                                                                                                                                                                                                                                                                                                     |hash_token                                                                                              |\n",
      "+-----+--------------------------+--------------+-----------------------------------------------------------------------------------------------------------------------------------------------------------------------------------------------------------------------------------------------------------------------------------------------------------------------------------------------+------------------------------------------------------------------------------------------------------------------------------------------------------------------------------------------------------------------------------------------------------------------------------------------------------------------------------------------------------------------------------------------------+------------------------------------------------------------------------------------------------------------------------------------------------------------------------------------------------------------------------------------------------------------------------------------------------------------------------------------------------------------------------------------------------+--------------------------------------------------------------------------------------------------------+\n",
      "|0    |Rancho Valencia Resort Spa|5.0           |experience rancho valencia absolutely perfect beginning end felt special happy stayed would come back heart beat                                                                                                                                                                                                                               |[experience, rancho, valencia, absolutely, perfect, beginning, end, felt, special, happy, stayed, would, come, back, heart, beat]                                                                                                                                                                                                                                                               |[experience, rancho, valencia, absolutely, perfect, beginning, end, felt, special, happy, stayed, come, back, heart, beat]                                                                                                                                                                                                                                                                      |(16,[1,4,5,6,8,9,12,13,14,15],[1.0,1.0,1.0,1.0,1.0,4.0,3.0,1.0,1.0,1.0])                                |\n",
      "|1    |Rancho Valencia Resort Spa|5.0           |amazing place everyone extremely warm welcoming 've stayed top notch places definitely top 2. great romantic getaway take kids along couple stuffed animals waiting girls upon arrival ca n't wait go back                                                                                                                                     |[amazing, place, everyone, extremely, warm, welcoming, 've, stayed, top, notch, places, definitely, top, 2., great, romantic, getaway, take, kids, along, couple, stuffed, animals, waiting, girls, upon, arrival, ca, n't, wait, go, back]                                                                                                                                                     |[amazing, place, everyone, extremely, warm, welcoming, 've, stayed, top, notch, places, definitely, top, 2., great, romantic, getaway, take, kids, along, couple, stuffed, animals, waiting, girls, upon, arrival, ca, n't, wait, go, back]                                                                                                                                                     |(16,[2,3,4,5,6,7,9,10,12,13,14,15],[1.0,4.0,5.0,2.0,1.0,1.0,3.0,5.0,2.0,3.0,1.0,4.0])                   |\n",
      "|2    |Rancho Valencia Resort Spa|5.0           |booked 3 night stay rancho valencia play tennis since one highest rated tennis resorts america place really top luxury standpoint overall experience villas really perfect staff great attention details includes fresh squeezed orange juice morning restaurants bar room service amazing tennis program really impressive well want come back|[booked, 3, night, stay, rancho, valencia, play, tennis, since, one, highest, rated, tennis, resorts, america, place, really, top, luxury, standpoint, overall, experience, villas, really, perfect, staff, great, attention, details, includes, fresh, squeezed, orange, juice, morning, restaurants, bar, room, service, amazing, tennis, program, really, impressive, well, want, come, back]|[booked, 3, night, stay, rancho, valencia, play, tennis, since, one, highest, rated, tennis, resorts, america, place, really, top, luxury, standpoint, overall, experience, villas, really, perfect, staff, great, attention, details, includes, fresh, squeezed, orange, juice, morning, restaurants, bar, room, service, amazing, tennis, program, really, impressive, well, want, come, back]|(16,[0,1,2,3,4,5,6,8,9,10,11,12,13,14,15],[2.0,4.0,4.0,2.0,3.0,4.0,3.0,1.0,5.0,2.0,1.0,5.0,4.0,5.0,3.0])|\n",
      "+-----+--------------------------+--------------+-----------------------------------------------------------------------------------------------------------------------------------------------------------------------------------------------------------------------------------------------------------------------------------------------------------------------------------------------+------------------------------------------------------------------------------------------------------------------------------------------------------------------------------------------------------------------------------------------------------------------------------------------------------------------------------------------------------------------------------------------------+------------------------------------------------------------------------------------------------------------------------------------------------------------------------------------------------------------------------------------------------------------------------------------------------------------------------------------------------------------------------------------------------+--------------------------------------------------------------------------------------------------------+\n",
      "only showing top 3 rows\n",
      "\n"
     ]
    }
   ],
   "source": [
    "hashingTF = HashingTF(inputCol=\"stop_tokens\", outputCol='hash_token',numFeatures=pow(2,4))\n",
    "hashed_df = hashingTF.transform(filtered)\n",
    "hashed_df.show(3, truncate=False)"
   ]
  },
  {
   "cell_type": "code",
   "execution_count": 19,
   "metadata": {},
   "outputs": [],
   "source": [
    "idf = IDF(inputCol=\"hash_token\", outputCol=\"idf_token\")\n",
    "idfModel = idf.fit(hashed_df)\n",
    "rescaledData = idfModel.transform(hashed_df)"
   ]
  },
  {
   "cell_type": "code",
   "execution_count": null,
   "metadata": {},
   "outputs": [],
   "source": [
    " from pyspark.ml.feature import VectorAssembler\n",
    "from pyspark.ml.linalg import Vector\n",
    "\n",
    "# Create feature vectors\n",
    "clean_up = VectorAssembler(inputCols=['idf_token', 'length'], outputCol='features')"
   ]
  },
  {
   "cell_type": "code",
   "execution_count": null,
   "metadata": {},
   "outputs": [],
   "source": [
    "# Create a and run a data processing Pipeline\n",
    "from pyspark.ml import Pipeline\n",
    "data_prep_pipeline = Pipeline(stages=[tokenizer, stopremove, hashingTF])"
   ]
  },
  {
   "cell_type": "code",
   "execution_count": null,
   "metadata": {},
   "outputs": [],
   "source": [
    " # Fit and transform the pipeline\n",
    "cleaner = data_prep_pipeline.fit(data)\n",
    "cleaned = cleaner.transform(data)\n",
    "cleaned.show(3)"
   ]
  },
  {
   "cell_type": "code",
   "execution_count": null,
   "metadata": {},
   "outputs": [],
   "source": [
    "tokenizer = Tokenizer(inputCol=\"reviews_text\", outputCol=\"token_text\")\n",
    "stopremove = StopWordsRemover(inputCol='token_text',outputCol='stop_tokens')\n",
    "hashingTF = HashingTF(inputCol=\"token_text\", outputCol='hash_token')\n",
    "idf = IDF(inputCol='hash_token', outputCol='idf_token')"
   ]
  },
  {
   "cell_type": "code",
   "execution_count": null,
   "metadata": {},
   "outputs": [],
   "source": [
    "from pyspark.ml.feature import VectorAssembler\n",
    "from pyspark.ml.linalg import Vector"
   ]
  },
  {
   "cell_type": "code",
   "execution_count": null,
   "metadata": {},
   "outputs": [],
   "source": [
    "# Create feature vectors\n",
    "clean_up = VectorAssembler(inputCols=['idf_token', 'length'], outputCol='features')"
   ]
  },
  {
   "cell_type": "code",
   "execution_count": null,
   "metadata": {},
   "outputs": [],
   "source": [
    " # Create a and run a data processing Pipeline\n",
    "from pyspark.ml import Pipeline\n",
    "data_prep_pipeline = Pipeline(stages=[tokenizer, stopremove, hashingTF, idf, clean_up])"
   ]
  },
  {
   "cell_type": "code",
   "execution_count": null,
   "metadata": {},
   "outputs": [],
   "source": [
    " # Fit and transform the pipeline\n",
    "cleaner = data_prep_pipeline.fit(data)\n",
    "cleaned = cleaner.transform(data)"
   ]
  },
  {
   "cell_type": "code",
   "execution_count": null,
   "metadata": {},
   "outputs": [],
   "source": []
  }
 ],
 "metadata": {
  "kernel_info": {
   "name": "python3"
  },
  "kernelspec": {
   "display_name": "Python 3",
   "language": "python",
   "name": "python3"
  },
  "language_info": {
   "codemirror_mode": {
    "name": "ipython",
    "version": 3
   },
   "file_extension": ".py",
   "mimetype": "text/x-python",
   "name": "python",
   "nbconvert_exporter": "python",
   "pygments_lexer": "ipython3",
   "version": "3.6.5"
  },
  "nteract": {
   "version": "0.12.3"
  }
 },
 "nbformat": 4,
 "nbformat_minor": 2
}
