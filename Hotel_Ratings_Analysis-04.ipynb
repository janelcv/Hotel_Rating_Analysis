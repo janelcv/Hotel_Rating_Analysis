{
 "cells": [
  {
   "cell_type": "markdown",
   "metadata": {},
   "source": [
    "# Review Text Analysis"
   ]
  },
  {
   "cell_type": "markdown",
   "metadata": {},
   "source": [
    "### Data Cleaning"
   ]
  },
  {
   "cell_type": "code",
   "execution_count": 1,
   "metadata": {},
   "outputs": [],
   "source": [
    "# Dependencies\n",
    "import pandas as pd\n",
    "import numpy as np\n",
    "import sqlite3\n",
    "from pyspark import SparkContext\n",
    "sc =SparkContext()\n",
    "from pyspark.sql import SQLContext\n",
    "sqlContext = SQLContext(sc)\n",
    "import collections\n",
    "import matplotlib.pyplot as plt\n",
    "%matplotlib inline"
   ]
  },
  {
   "cell_type": "code",
   "execution_count": 2,
   "metadata": {},
   "outputs": [
    {
     "data": {
      "text/html": [
       "<div>\n",
       "<style scoped>\n",
       "    .dataframe tbody tr th:only-of-type {\n",
       "        vertical-align: middle;\n",
       "    }\n",
       "\n",
       "    .dataframe tbody tr th {\n",
       "        vertical-align: top;\n",
       "    }\n",
       "\n",
       "    .dataframe thead th {\n",
       "        text-align: right;\n",
       "    }\n",
       "</style>\n",
       "<table border=\"1\" class=\"dataframe\">\n",
       "  <thead>\n",
       "    <tr style=\"text-align: right;\">\n",
       "      <th></th>\n",
       "      <th>index</th>\n",
       "      <th>name</th>\n",
       "      <th>reviews_date</th>\n",
       "      <th>reviews_rating</th>\n",
       "      <th>reviews_sourceURLs</th>\n",
       "      <th>reviews_text</th>\n",
       "      <th>reviews_title</th>\n",
       "      <th>reviews_userCity</th>\n",
       "      <th>reviews_userProvince</th>\n",
       "    </tr>\n",
       "  </thead>\n",
       "  <tbody>\n",
       "    <tr>\n",
       "      <th>0</th>\n",
       "      <td>0</td>\n",
       "      <td>Rancho Valencia Resort Spa</td>\n",
       "      <td>2013-11-14T00:00:00Z</td>\n",
       "      <td>5.0</td>\n",
       "      <td>www.hotels.com</td>\n",
       "      <td>Our experience at Rancho Valencia was absolute...</td>\n",
       "      <td>Best romantic vacation ever!!!!</td>\n",
       "      <td>None</td>\n",
       "      <td>None</td>\n",
       "    </tr>\n",
       "    <tr>\n",
       "      <th>1</th>\n",
       "      <td>1</td>\n",
       "      <td>Rancho Valencia Resort Spa</td>\n",
       "      <td>2014-07-06T00:00:00Z</td>\n",
       "      <td>5.0</td>\n",
       "      <td>www.hotels.com</td>\n",
       "      <td>Amazing place. Everyone was extremely warm and...</td>\n",
       "      <td>Sweet sweet serenity</td>\n",
       "      <td>None</td>\n",
       "      <td>None</td>\n",
       "    </tr>\n",
       "    <tr>\n",
       "      <th>2</th>\n",
       "      <td>2</td>\n",
       "      <td>Rancho Valencia Resort Spa</td>\n",
       "      <td>2015-01-02T00:00:00Z</td>\n",
       "      <td>5.0</td>\n",
       "      <td>www.hotels.com</td>\n",
       "      <td>We booked a 3 night stay at Rancho Valencia to...</td>\n",
       "      <td>Amazing Property and Experience</td>\n",
       "      <td>None</td>\n",
       "      <td>None</td>\n",
       "    </tr>\n",
       "    <tr>\n",
       "      <th>3</th>\n",
       "      <td>3</td>\n",
       "      <td>Aloft Arundel Mills</td>\n",
       "      <td>2016-05-15T00:00:00Z</td>\n",
       "      <td>2.0</td>\n",
       "      <td>www.tripadvisor.com</td>\n",
       "      <td>Currently in bed writing this for the past hr ...</td>\n",
       "      <td>Never again...beware, if you want sleep.</td>\n",
       "      <td>Richmond</td>\n",
       "      <td>VA</td>\n",
       "    </tr>\n",
       "    <tr>\n",
       "      <th>4</th>\n",
       "      <td>4</td>\n",
       "      <td>Aloft Arundel Mills</td>\n",
       "      <td>2016-07-09T00:00:00Z</td>\n",
       "      <td>5.0</td>\n",
       "      <td>www.tripadvisor.com</td>\n",
       "      <td>I live in Md and the Aloft is my Home away fro...</td>\n",
       "      <td>ALWAYS GREAT STAY...</td>\n",
       "      <td>Laurel</td>\n",
       "      <td>MD</td>\n",
       "    </tr>\n",
       "  </tbody>\n",
       "</table>\n",
       "</div>"
      ],
      "text/plain": [
       "  index                        name          reviews_date  reviews_rating  \\\n",
       "0     0  Rancho Valencia Resort Spa  2013-11-14T00:00:00Z             5.0   \n",
       "1     1  Rancho Valencia Resort Spa  2014-07-06T00:00:00Z             5.0   \n",
       "2     2  Rancho Valencia Resort Spa  2015-01-02T00:00:00Z             5.0   \n",
       "3     3         Aloft Arundel Mills  2016-05-15T00:00:00Z             2.0   \n",
       "4     4         Aloft Arundel Mills  2016-07-09T00:00:00Z             5.0   \n",
       "\n",
       "    reviews_sourceURLs                                       reviews_text  \\\n",
       "0       www.hotels.com  Our experience at Rancho Valencia was absolute...   \n",
       "1       www.hotels.com  Amazing place. Everyone was extremely warm and...   \n",
       "2       www.hotels.com  We booked a 3 night stay at Rancho Valencia to...   \n",
       "3  www.tripadvisor.com  Currently in bed writing this for the past hr ...   \n",
       "4  www.tripadvisor.com  I live in Md and the Aloft is my Home away fro...   \n",
       "\n",
       "                              reviews_title reviews_userCity  \\\n",
       "0           Best romantic vacation ever!!!!             None   \n",
       "1                      Sweet sweet serenity             None   \n",
       "2           Amazing Property and Experience             None   \n",
       "3  Never again...beware, if you want sleep.         Richmond   \n",
       "4                      ALWAYS GREAT STAY...           Laurel   \n",
       "\n",
       "  reviews_userProvince  \n",
       "0                 None  \n",
       "1                 None  \n",
       "2                 None  \n",
       "3                   VA  \n",
       "4                   MD  "
      ]
     },
     "execution_count": 2,
     "metadata": {},
     "output_type": "execute_result"
    }
   ],
   "source": [
    "# Create connections to database\n",
    "conn = sqlite3.connect(\"Data/Hotels.db\")\n",
    "\n",
    "#Load the database table into a pandas dataframe\n",
    "ratings = pd.read_sql_query(\"select * from ratings;\", conn)\n",
    "conn.close()\n",
    "\n",
    "# Preview the dataframe\n",
    "ratings.head()"
   ]
  },
  {
   "cell_type": "code",
   "execution_count": 3,
   "metadata": {},
   "outputs": [
    {
     "name": "stdout",
     "output_type": "stream",
     "text": [
      "[nltk_data] Downloading package punkt to\n",
      "[nltk_data]     /Users/janelchadiarova/nltk_data...\n",
      "[nltk_data]   Package punkt is already up-to-date!\n",
      "[nltk_data] Downloading package stopwords to\n",
      "[nltk_data]     /Users/janelchadiarova/nltk_data...\n",
      "[nltk_data]   Package stopwords is already up-to-date!\n",
      "[nltk_data] Downloading package wordnet to\n",
      "[nltk_data]     /Users/janelchadiarova/nltk_data...\n",
      "[nltk_data]   Package wordnet is already up-to-date!\n"
     ]
    }
   ],
   "source": [
    "# Dependencies\n",
    "import re, string\n",
    "\n",
    "import nltk\n",
    "nltk.download(\"punkt\")\n",
    "nltk.download('stopwords')\n",
    "nltk.download('wordnet')\n",
    "\n",
    "from nltk.tokenize import word_tokenize\n",
    "from nltk.corpus import stopwords\n",
    "from nltk.stem import WordNetLemmatizer\n"
   ]
  },
  {
   "cell_type": "code",
   "execution_count": 4,
   "metadata": {},
   "outputs": [],
   "source": [
    "#Grouping ratings to get 5 unique ratings\n",
    "rating_list = ratings['reviews_rating'].tolist()\n",
    "new_list = []\n",
    "for rating in rating_list:\n",
    "    if rating >= 5.0: \n",
    "        new_list.append(5.0)\n",
    "    elif rating >= 4 and rating < 5:\n",
    "        new_list.append(4.0)\n",
    "    elif rating >= 3 and rating < 4:\n",
    "        new_list.append(3.0)\n",
    "    elif rating >= 2 and rating < 3:\n",
    "        new_list.append(2.0)\n",
    "    else:\n",
    "        new_list.append(1.0)        "
   ]
  },
  {
   "cell_type": "code",
   "execution_count": 5,
   "metadata": {},
   "outputs": [
    {
     "data": {
      "text/html": [
       "<div>\n",
       "<style scoped>\n",
       "    .dataframe tbody tr th:only-of-type {\n",
       "        vertical-align: middle;\n",
       "    }\n",
       "\n",
       "    .dataframe tbody tr th {\n",
       "        vertical-align: top;\n",
       "    }\n",
       "\n",
       "    .dataframe thead th {\n",
       "        text-align: right;\n",
       "    }\n",
       "</style>\n",
       "<table border=\"1\" class=\"dataframe\">\n",
       "  <thead>\n",
       "    <tr style=\"text-align: right;\">\n",
       "      <th></th>\n",
       "      <th>index</th>\n",
       "      <th>name</th>\n",
       "      <th>reviews_date</th>\n",
       "      <th>reviews_rating</th>\n",
       "      <th>reviews_sourceURLs</th>\n",
       "      <th>reviews_text</th>\n",
       "      <th>reviews_title</th>\n",
       "      <th>reviews_userCity</th>\n",
       "      <th>reviews_userProvince</th>\n",
       "      <th>rating</th>\n",
       "    </tr>\n",
       "  </thead>\n",
       "  <tbody>\n",
       "    <tr>\n",
       "      <th>0</th>\n",
       "      <td>0</td>\n",
       "      <td>Rancho Valencia Resort Spa</td>\n",
       "      <td>2013-11-14T00:00:00Z</td>\n",
       "      <td>5.0</td>\n",
       "      <td>www.hotels.com</td>\n",
       "      <td>our experience at rancho valencia was absolute...</td>\n",
       "      <td>Best romantic vacation ever!!!!</td>\n",
       "      <td>None</td>\n",
       "      <td>None</td>\n",
       "      <td>5.0</td>\n",
       "    </tr>\n",
       "    <tr>\n",
       "      <th>1</th>\n",
       "      <td>1</td>\n",
       "      <td>Rancho Valencia Resort Spa</td>\n",
       "      <td>2014-07-06T00:00:00Z</td>\n",
       "      <td>5.0</td>\n",
       "      <td>www.hotels.com</td>\n",
       "      <td>amazing place. everyone was extremely warm and...</td>\n",
       "      <td>Sweet sweet serenity</td>\n",
       "      <td>None</td>\n",
       "      <td>None</td>\n",
       "      <td>5.0</td>\n",
       "    </tr>\n",
       "    <tr>\n",
       "      <th>2</th>\n",
       "      <td>2</td>\n",
       "      <td>Rancho Valencia Resort Spa</td>\n",
       "      <td>2015-01-02T00:00:00Z</td>\n",
       "      <td>5.0</td>\n",
       "      <td>www.hotels.com</td>\n",
       "      <td>we booked a 3 night stay at rancho valencia to...</td>\n",
       "      <td>Amazing Property and Experience</td>\n",
       "      <td>None</td>\n",
       "      <td>None</td>\n",
       "      <td>5.0</td>\n",
       "    </tr>\n",
       "    <tr>\n",
       "      <th>3</th>\n",
       "      <td>3</td>\n",
       "      <td>Aloft Arundel Mills</td>\n",
       "      <td>2016-05-15T00:00:00Z</td>\n",
       "      <td>2.0</td>\n",
       "      <td>www.tripadvisor.com</td>\n",
       "      <td>currently in bed writing this for the past hr ...</td>\n",
       "      <td>Never again...beware, if you want sleep.</td>\n",
       "      <td>Richmond</td>\n",
       "      <td>VA</td>\n",
       "      <td>2.0</td>\n",
       "    </tr>\n",
       "    <tr>\n",
       "      <th>4</th>\n",
       "      <td>4</td>\n",
       "      <td>Aloft Arundel Mills</td>\n",
       "      <td>2016-07-09T00:00:00Z</td>\n",
       "      <td>5.0</td>\n",
       "      <td>www.tripadvisor.com</td>\n",
       "      <td>i live in md and the aloft is my home away fro...</td>\n",
       "      <td>ALWAYS GREAT STAY...</td>\n",
       "      <td>Laurel</td>\n",
       "      <td>MD</td>\n",
       "      <td>5.0</td>\n",
       "    </tr>\n",
       "  </tbody>\n",
       "</table>\n",
       "</div>"
      ],
      "text/plain": [
       "  index                        name          reviews_date  reviews_rating  \\\n",
       "0     0  Rancho Valencia Resort Spa  2013-11-14T00:00:00Z             5.0   \n",
       "1     1  Rancho Valencia Resort Spa  2014-07-06T00:00:00Z             5.0   \n",
       "2     2  Rancho Valencia Resort Spa  2015-01-02T00:00:00Z             5.0   \n",
       "3     3         Aloft Arundel Mills  2016-05-15T00:00:00Z             2.0   \n",
       "4     4         Aloft Arundel Mills  2016-07-09T00:00:00Z             5.0   \n",
       "\n",
       "    reviews_sourceURLs                                       reviews_text  \\\n",
       "0       www.hotels.com  our experience at rancho valencia was absolute...   \n",
       "1       www.hotels.com  amazing place. everyone was extremely warm and...   \n",
       "2       www.hotels.com  we booked a 3 night stay at rancho valencia to...   \n",
       "3  www.tripadvisor.com  currently in bed writing this for the past hr ...   \n",
       "4  www.tripadvisor.com  i live in md and the aloft is my home away fro...   \n",
       "\n",
       "                              reviews_title reviews_userCity  \\\n",
       "0           Best romantic vacation ever!!!!             None   \n",
       "1                      Sweet sweet serenity             None   \n",
       "2           Amazing Property and Experience             None   \n",
       "3  Never again...beware, if you want sleep.         Richmond   \n",
       "4                      ALWAYS GREAT STAY...           Laurel   \n",
       "\n",
       "  reviews_userProvince  rating  \n",
       "0                 None     5.0  \n",
       "1                 None     5.0  \n",
       "2                 None     5.0  \n",
       "3                   VA     2.0  \n",
       "4                   MD     5.0  "
      ]
     },
     "execution_count": 5,
     "metadata": {},
     "output_type": "execute_result"
    }
   ],
   "source": [
    "# Put all letters in lower case\n",
    "# Split hotel reviews_rating to \"good\"/\"bad\"\n",
    "ratings[\"reviews_text\"] = ratings[\"reviews_text\"].str.lower()\n",
    "ratings['reviews_text'] = ratings['reviews_text'].astype(str)\n",
    "ratings[\"rating\"] = new_list\n",
    "ratings.head()"
   ]
  },
  {
   "cell_type": "code",
   "execution_count": 6,
   "metadata": {},
   "outputs": [],
   "source": [
    "# Remove stop words from the list\n",
    "stops = stopwords.words(\"english\")\n",
    "exclude = set(string.punctuation)"
   ]
  },
  {
   "cell_type": "code",
   "execution_count": 7,
   "metadata": {},
   "outputs": [
    {
     "data": {
      "text/html": [
       "<div>\n",
       "<style scoped>\n",
       "    .dataframe tbody tr th:only-of-type {\n",
       "        vertical-align: middle;\n",
       "    }\n",
       "\n",
       "    .dataframe tbody tr th {\n",
       "        vertical-align: top;\n",
       "    }\n",
       "\n",
       "    .dataframe thead th {\n",
       "        text-align: right;\n",
       "    }\n",
       "</style>\n",
       "<table border=\"1\" class=\"dataframe\">\n",
       "  <thead>\n",
       "    <tr style=\"text-align: right;\">\n",
       "      <th></th>\n",
       "      <th>index</th>\n",
       "      <th>name</th>\n",
       "      <th>reviews_date</th>\n",
       "      <th>reviews_rating</th>\n",
       "      <th>reviews_sourceURLs</th>\n",
       "      <th>reviews_text</th>\n",
       "      <th>reviews_title</th>\n",
       "      <th>reviews_userCity</th>\n",
       "      <th>reviews_userProvince</th>\n",
       "      <th>rating</th>\n",
       "      <th>filteredReview</th>\n",
       "    </tr>\n",
       "  </thead>\n",
       "  <tbody>\n",
       "    <tr>\n",
       "      <th>0</th>\n",
       "      <td>0</td>\n",
       "      <td>Rancho Valencia Resort Spa</td>\n",
       "      <td>2013-11-14T00:00:00Z</td>\n",
       "      <td>5.0</td>\n",
       "      <td>www.hotels.com</td>\n",
       "      <td>our experience at rancho valencia was absolute...</td>\n",
       "      <td>Best romantic vacation ever!!!!</td>\n",
       "      <td>None</td>\n",
       "      <td>None</td>\n",
       "      <td>5.0</td>\n",
       "      <td>experience rancho valencia absolutely perfect ...</td>\n",
       "    </tr>\n",
       "    <tr>\n",
       "      <th>1</th>\n",
       "      <td>1</td>\n",
       "      <td>Rancho Valencia Resort Spa</td>\n",
       "      <td>2014-07-06T00:00:00Z</td>\n",
       "      <td>5.0</td>\n",
       "      <td>www.hotels.com</td>\n",
       "      <td>amazing place. everyone was extremely warm and...</td>\n",
       "      <td>Sweet sweet serenity</td>\n",
       "      <td>None</td>\n",
       "      <td>None</td>\n",
       "      <td>5.0</td>\n",
       "      <td>amazing place everyone extremely warm welcomin...</td>\n",
       "    </tr>\n",
       "    <tr>\n",
       "      <th>2</th>\n",
       "      <td>2</td>\n",
       "      <td>Rancho Valencia Resort Spa</td>\n",
       "      <td>2015-01-02T00:00:00Z</td>\n",
       "      <td>5.0</td>\n",
       "      <td>www.hotels.com</td>\n",
       "      <td>we booked a 3 night stay at rancho valencia to...</td>\n",
       "      <td>Amazing Property and Experience</td>\n",
       "      <td>None</td>\n",
       "      <td>None</td>\n",
       "      <td>5.0</td>\n",
       "      <td>booked 3 night stay rancho valencia play tenni...</td>\n",
       "    </tr>\n",
       "    <tr>\n",
       "      <th>3</th>\n",
       "      <td>3</td>\n",
       "      <td>Aloft Arundel Mills</td>\n",
       "      <td>2016-05-15T00:00:00Z</td>\n",
       "      <td>2.0</td>\n",
       "      <td>www.tripadvisor.com</td>\n",
       "      <td>currently in bed writing this for the past hr ...</td>\n",
       "      <td>Never again...beware, if you want sleep.</td>\n",
       "      <td>Richmond</td>\n",
       "      <td>VA</td>\n",
       "      <td>2.0</td>\n",
       "      <td>currently bed writing past hr 1/2 dogs barking...</td>\n",
       "    </tr>\n",
       "    <tr>\n",
       "      <th>4</th>\n",
       "      <td>4</td>\n",
       "      <td>Aloft Arundel Mills</td>\n",
       "      <td>2016-07-09T00:00:00Z</td>\n",
       "      <td>5.0</td>\n",
       "      <td>www.tripadvisor.com</td>\n",
       "      <td>i live in md and the aloft is my home away fro...</td>\n",
       "      <td>ALWAYS GREAT STAY...</td>\n",
       "      <td>Laurel</td>\n",
       "      <td>MD</td>\n",
       "      <td>5.0</td>\n",
       "      <td>live md aloft home away home ... stayed 1 nigh...</td>\n",
       "    </tr>\n",
       "  </tbody>\n",
       "</table>\n",
       "</div>"
      ],
      "text/plain": [
       "  index                        name          reviews_date  reviews_rating  \\\n",
       "0     0  Rancho Valencia Resort Spa  2013-11-14T00:00:00Z             5.0   \n",
       "1     1  Rancho Valencia Resort Spa  2014-07-06T00:00:00Z             5.0   \n",
       "2     2  Rancho Valencia Resort Spa  2015-01-02T00:00:00Z             5.0   \n",
       "3     3         Aloft Arundel Mills  2016-05-15T00:00:00Z             2.0   \n",
       "4     4         Aloft Arundel Mills  2016-07-09T00:00:00Z             5.0   \n",
       "\n",
       "    reviews_sourceURLs                                       reviews_text  \\\n",
       "0       www.hotels.com  our experience at rancho valencia was absolute...   \n",
       "1       www.hotels.com  amazing place. everyone was extremely warm and...   \n",
       "2       www.hotels.com  we booked a 3 night stay at rancho valencia to...   \n",
       "3  www.tripadvisor.com  currently in bed writing this for the past hr ...   \n",
       "4  www.tripadvisor.com  i live in md and the aloft is my home away fro...   \n",
       "\n",
       "                              reviews_title reviews_userCity  \\\n",
       "0           Best romantic vacation ever!!!!             None   \n",
       "1                      Sweet sweet serenity             None   \n",
       "2           Amazing Property and Experience             None   \n",
       "3  Never again...beware, if you want sleep.         Richmond   \n",
       "4                      ALWAYS GREAT STAY...           Laurel   \n",
       "\n",
       "  reviews_userProvince  rating  \\\n",
       "0                 None     5.0   \n",
       "1                 None     5.0   \n",
       "2                 None     5.0   \n",
       "3                   VA     2.0   \n",
       "4                   MD     5.0   \n",
       "\n",
       "                                      filteredReview  \n",
       "0  experience rancho valencia absolutely perfect ...  \n",
       "1  amazing place everyone extremely warm welcomin...  \n",
       "2  booked 3 night stay rancho valencia play tenni...  \n",
       "3  currently bed writing past hr 1/2 dogs barking...  \n",
       "4  live md aloft home away home ... stayed 1 nigh...  "
      ]
     },
     "execution_count": 7,
     "metadata": {},
     "output_type": "execute_result"
    }
   ],
   "source": [
    "words_list = []\n",
    "preprocessed_text = []\n",
    "for review in ratings[\"reviews_text\"]:\n",
    "    \n",
    "    # Create a list of words per rating after the words are converted to lowercase    \n",
    "    words = word_tokenize(review)\n",
    "    \n",
    "    # Filter to remove stop words and punctuations    \n",
    "    words2 = [word for word in words if word not in stops and word not in exclude]\n",
    "    \n",
    "    # Add the filtered list of words\n",
    "    words_list.append(words2)\n",
    "    \n",
    "    # Convert the list of strings back to one string\n",
    "    words3 = \" \".join(words2)\n",
    "    \n",
    "    # Add the filtered list of words\n",
    "    preprocessed_text.append(words3)\n",
    "   \n",
    "ratings[\"filteredReview\"] = preprocessed_text\n",
    "ratings.head()"
   ]
  },
  {
   "cell_type": "code",
   "execution_count": 8,
   "metadata": {},
   "outputs": [
    {
     "data": {
      "text/html": [
       "<div>\n",
       "<style scoped>\n",
       "    .dataframe tbody tr th:only-of-type {\n",
       "        vertical-align: middle;\n",
       "    }\n",
       "\n",
       "    .dataframe tbody tr th {\n",
       "        vertical-align: top;\n",
       "    }\n",
       "\n",
       "    .dataframe thead th {\n",
       "        text-align: right;\n",
       "    }\n",
       "</style>\n",
       "<table border=\"1\" class=\"dataframe\">\n",
       "  <thead>\n",
       "    <tr style=\"text-align: right;\">\n",
       "      <th></th>\n",
       "      <th>index</th>\n",
       "      <th>name</th>\n",
       "      <th>reviews_rating</th>\n",
       "      <th>rating</th>\n",
       "      <th>filteredReview</th>\n",
       "    </tr>\n",
       "  </thead>\n",
       "  <tbody>\n",
       "    <tr>\n",
       "      <th>0</th>\n",
       "      <td>0</td>\n",
       "      <td>Rancho Valencia Resort Spa</td>\n",
       "      <td>5.0</td>\n",
       "      <td>5.0</td>\n",
       "      <td>experience rancho valencia absolutely perfect ...</td>\n",
       "    </tr>\n",
       "    <tr>\n",
       "      <th>1</th>\n",
       "      <td>1</td>\n",
       "      <td>Rancho Valencia Resort Spa</td>\n",
       "      <td>5.0</td>\n",
       "      <td>5.0</td>\n",
       "      <td>amazing place everyone extremely warm welcomin...</td>\n",
       "    </tr>\n",
       "    <tr>\n",
       "      <th>2</th>\n",
       "      <td>2</td>\n",
       "      <td>Rancho Valencia Resort Spa</td>\n",
       "      <td>5.0</td>\n",
       "      <td>5.0</td>\n",
       "      <td>booked 3 night stay rancho valencia play tenni...</td>\n",
       "    </tr>\n",
       "    <tr>\n",
       "      <th>3</th>\n",
       "      <td>3</td>\n",
       "      <td>Aloft Arundel Mills</td>\n",
       "      <td>2.0</td>\n",
       "      <td>2.0</td>\n",
       "      <td>currently bed writing past hr 1/2 dogs barking...</td>\n",
       "    </tr>\n",
       "    <tr>\n",
       "      <th>4</th>\n",
       "      <td>4</td>\n",
       "      <td>Aloft Arundel Mills</td>\n",
       "      <td>5.0</td>\n",
       "      <td>5.0</td>\n",
       "      <td>live md aloft home away home ... stayed 1 nigh...</td>\n",
       "    </tr>\n",
       "  </tbody>\n",
       "</table>\n",
       "</div>"
      ],
      "text/plain": [
       "  index                        name  reviews_rating  rating  \\\n",
       "0     0  Rancho Valencia Resort Spa             5.0     5.0   \n",
       "1     1  Rancho Valencia Resort Spa             5.0     5.0   \n",
       "2     2  Rancho Valencia Resort Spa             5.0     5.0   \n",
       "3     3         Aloft Arundel Mills             2.0     2.0   \n",
       "4     4         Aloft Arundel Mills             5.0     5.0   \n",
       "\n",
       "                                      filteredReview  \n",
       "0  experience rancho valencia absolutely perfect ...  \n",
       "1  amazing place everyone extremely warm welcomin...  \n",
       "2  booked 3 night stay rancho valencia play tenni...  \n",
       "3  currently bed writing past hr 1/2 dogs barking...  \n",
       "4  live md aloft home away home ... stayed 1 nigh...  "
      ]
     },
     "execution_count": 8,
     "metadata": {},
     "output_type": "execute_result"
    }
   ],
   "source": [
    "# Remove columns that will not be used in the analysis\n",
    "df = ratings.drop(columns=[\"reviews_text\",\"reviews_date\",\"reviews_sourceURLs\",\"reviews_title\",\"reviews_userCity\",\"reviews_userProvince\"],axis=1)\n",
    "df.head()"
   ]
  },
  {
   "cell_type": "markdown",
   "metadata": {},
   "source": [
    "## NLP - Natural Language Processing"
   ]
  },
  {
   "cell_type": "code",
   "execution_count": 9,
   "metadata": {},
   "outputs": [
    {
     "name": "stdout",
     "output_type": "stream",
     "text": [
      "+-----+--------------------+--------------+------+--------------------+\n",
      "|index|                name|reviews_rating|rating|      filteredReview|\n",
      "+-----+--------------------+--------------+------+--------------------+\n",
      "|    0|Rancho Valencia R...|           5.0|   5.0|experience rancho...|\n",
      "|    1|Rancho Valencia R...|           5.0|   5.0|amazing place eve...|\n",
      "|    2|Rancho Valencia R...|           5.0|   5.0|booked 3 night st...|\n",
      "+-----+--------------------+--------------+------+--------------------+\n",
      "only showing top 3 rows\n",
      "\n"
     ]
    }
   ],
   "source": [
    "#Convert Pandas DataFrame to Spark DataFrame\n",
    "spark_ratings = sqlContext.createDataFrame(df)\n",
    "spark_ratings.show(3)"
   ]
  },
  {
   "cell_type": "code",
   "execution_count": 10,
   "metadata": {},
   "outputs": [
    {
     "name": "stdout",
     "output_type": "stream",
     "text": [
      "+-----+--------------------+--------------+------+--------------------+------+\n",
      "|index|                name|reviews_rating|rating|      filteredReview|length|\n",
      "+-----+--------------------+--------------+------+--------------------+------+\n",
      "|    0|Rancho Valencia R...|           5.0|   5.0|experience rancho...|   112|\n",
      "|    1|Rancho Valencia R...|           5.0|   5.0|amazing place eve...|   202|\n",
      "|    2|Rancho Valencia R...|           5.0|   5.0|booked 3 night st...|   335|\n",
      "+-----+--------------------+--------------+------+--------------------+------+\n",
      "only showing top 3 rows\n",
      "\n"
     ]
    }
   ],
   "source": [
    "# Create a length column to be used as a future feature \n",
    "from pyspark.sql.functions import length\n",
    "data = spark_ratings.withColumn('length', length(spark_ratings['filteredReview']))\n",
    "data.show(3)"
   ]
  },
  {
   "cell_type": "markdown",
   "metadata": {},
   "source": [
    "### Feature Transformations"
   ]
  },
  {
   "cell_type": "code",
   "execution_count": 11,
   "metadata": {},
   "outputs": [],
   "source": [
    "from pyspark.ml.feature import Tokenizer, StopWordsRemover, HashingTF, IDF, StringIndexer\n",
    "from pyspark.ml.feature import VectorAssembler\n",
    "from pyspark.ml.linalg import Vector\n",
    "from pyspark.ml import Pipeline\n",
    "from pyspark.ml.classification import NaiveBayes\n",
    "from pyspark.ml.evaluation import MulticlassClassificationEvaluator"
   ]
  },
  {
   "cell_type": "code",
   "execution_count": 12,
   "metadata": {},
   "outputs": [],
   "source": [
    "# Create all the features to the data set\n",
    "pos_neg_to_num = StringIndexer(inputCol='rating',outputCol='label')\n",
    "tokenizer = Tokenizer(inputCol=\"filteredReview\", outputCol=\"token_text\")\n",
    "stopremove = StopWordsRemover(inputCol='token_text',outputCol='stop_tokens')\n",
    "hashingTF = HashingTF(inputCol=\"stop_tokens\", outputCol='hash_token',numFeatures=pow(2,4))\n",
    "idf = IDF(inputCol=\"hash_token\", outputCol=\"idf_token\")"
   ]
  },
  {
   "cell_type": "code",
   "execution_count": 13,
   "metadata": {},
   "outputs": [],
   "source": [
    "# Create feature vectors\n",
    "clean_up = VectorAssembler(inputCols=['label','idf_token', 'length'], outputCol='features')"
   ]
  },
  {
   "cell_type": "code",
   "execution_count": 14,
   "metadata": {},
   "outputs": [],
   "source": [
    "# Create a data processing Pipeline\n",
    "data_prep_pipeline = Pipeline(stages=[pos_neg_to_num, tokenizer, stopremove, hashingTF, idf, clean_up])"
   ]
  },
  {
   "cell_type": "code",
   "execution_count": 15,
   "metadata": {},
   "outputs": [
    {
     "name": "stdout",
     "output_type": "stream",
     "text": [
      "+-----+--------------------+--------------+------+--------------------+------+-----+--------------------+--------------------+--------------------+--------------------+--------------------+\n",
      "|index|                name|reviews_rating|rating|      filteredReview|length|label|          token_text|         stop_tokens|          hash_token|           idf_token|            features|\n",
      "+-----+--------------------+--------------+------+--------------------+------+-----+--------------------+--------------------+--------------------+--------------------+--------------------+\n",
      "|    0|Rancho Valencia R...|           5.0|   5.0|experience rancho...|   112|  0.0|[experience, ranc...|[experience, ranc...|(16,[1,4,5,6,8,9,...|(16,[1,4,5,6,8,9,...|[0.0,0.0,0.184744...|\n",
      "|    1|Rancho Valencia R...|           5.0|   5.0|amazing place eve...|   202|  0.0|[amazing, place, ...|[amazing, place, ...|(16,[2,3,4,5,6,7,...|(16,[2,3,4,5,6,7,...|[0.0,0.0,0.0,0.28...|\n",
      "|    2|Rancho Valencia R...|           5.0|   5.0|booked 3 night st...|   335|  0.0|[booked, 3, night...|[booked, 3, night...|(16,[0,1,2,3,4,5,...|(16,[0,1,2,3,4,5,...|[0.0,0.5991695591...|\n",
      "+-----+--------------------+--------------+------+--------------------+------+-----+--------------------+--------------------+--------------------+--------------------+--------------------+\n",
      "only showing top 3 rows\n",
      "\n"
     ]
    }
   ],
   "source": [
    " # Fit and transform the pipeline\n",
    "cleaner = data_prep_pipeline.fit(data)\n",
    "cleaned = cleaner.transform(data)\n",
    "cleaned.show(3)"
   ]
  },
  {
   "cell_type": "code",
   "execution_count": 16,
   "metadata": {},
   "outputs": [
    {
     "name": "stdout",
     "output_type": "stream",
     "text": [
      "+-----+--------------------+\n",
      "|label|            features|\n",
      "+-----+--------------------+\n",
      "|  0.0|[0.0,0.0,0.184744...|\n",
      "|  0.0|[0.0,0.0,0.0,0.28...|\n",
      "|  0.0|[0.0,0.5991695591...|\n",
      "|  3.0|[3.0,0.2995847795...|\n",
      "|  0.0|[0.0,1.4979238978...|\n",
      "|  0.0|[0.0,0.5991695591...|\n",
      "|  0.0|[0.0,0.5991695591...|\n",
      "|  0.0|(18,[2,3,4,5,10,1...|\n",
      "|  0.0|[0.0,0.5991695591...|\n",
      "|  0.0|[0.0,0.5991695591...|\n",
      "|  0.0|[0.0,0.2995847795...|\n",
      "|  0.0|[0.0,0.2995847795...|\n",
      "|  0.0|[0.0,1.4979238978...|\n",
      "|  0.0|[0.0,0.2995847795...|\n",
      "|  0.0|[0.0,0.8987543387...|\n",
      "|  1.0|[1.0,0.5991695591...|\n",
      "|  0.0|[0.0,0.5991695591...|\n",
      "|  2.0|[2.0,0.5991695591...|\n",
      "|  0.0|[0.0,0.5991695591...|\n",
      "|  1.0|[1.0,0.0,0.738976...|\n",
      "+-----+--------------------+\n",
      "only showing top 20 rows\n",
      "\n"
     ]
    }
   ],
   "source": [
    "# Show label and resulting features\n",
    "cleaned.select(['label', 'features']).show()"
   ]
  },
  {
   "cell_type": "code",
   "execution_count": 17,
   "metadata": {},
   "outputs": [],
   "source": [
    "# Break data down into a training set and a testing set\n",
    "training, testing = cleaned.randomSplit([0.7, 0.3])"
   ]
  },
  {
   "cell_type": "code",
   "execution_count": 18,
   "metadata": {},
   "outputs": [],
   "source": [
    "# Create a Naive Bayes model and fit training data\n",
    "nb = NaiveBayes()\n",
    "predictor = nb.fit(training)"
   ]
  },
  {
   "cell_type": "code",
   "execution_count": 19,
   "metadata": {},
   "outputs": [
    {
     "name": "stdout",
     "output_type": "stream",
     "text": [
      "+-----+--------------------+--------------+------+--------------------+------+-----+--------------------+--------------------+--------------------+--------------------+--------------------+--------------------+--------------------+----------+\n",
      "|index|                name|reviews_rating|rating|      filteredReview|length|label|          token_text|         stop_tokens|          hash_token|           idf_token|            features|       rawPrediction|         probability|prediction|\n",
      "+-----+--------------------+--------------+------+--------------------+------+-----+--------------------+--------------------+--------------------+--------------------+--------------------+--------------------+--------------------+----------+\n",
      "|    1|Rancho Valencia R...|           5.0|   5.0|amazing place eve...|   202|  0.0|[amazing, place, ...|[amazing, place, ...|(16,[2,3,4,5,6,7,...|(16,[2,3,4,5,6,7,...|[0.0,0.0,0.0,0.28...|[-63.563472902385...|[0.79889470223004...|       0.0|\n",
      "| 1004|Hotel Zetta San F...|           2.7|   2.0|bad staff particu...|    90|  3.0|[bad, staff, part...|[bad, staff, part...|(16,[1,2,4,7,8,11...|(16,[1,2,4,7,8,11...|(18,[0,2,3,5,8,9,...|[-62.623135311996...|[9.94998792808626...|       2.0|\n",
      "| 1005|Hotel Zetta San F...|           2.5|   2.0|bad property trie...|   703|  3.0|[bad, property, t...|[bad, property, t...|(16,[0,1,2,3,4,5,...|(16,[0,1,2,3,4,5,...|[3.0,2.9958477957...|[-252.66200079248...|[1.19248657163503...|       1.0|\n",
      "+-----+--------------------+--------------+------+--------------------+------+-----+--------------------+--------------------+--------------------+--------------------+--------------------+--------------------+--------------------+----------+\n",
      "only showing top 3 rows\n",
      "\n"
     ]
    }
   ],
   "source": [
    "# Tranform the model with the testing data\n",
    "test_results = predictor.transform(testing)\n",
    "test_results.show(3)"
   ]
  },
  {
   "cell_type": "code",
   "execution_count": 44,
   "metadata": {},
   "outputs": [
    {
     "name": "stdout",
     "output_type": "stream",
     "text": [
      "+-----+----------+\n",
      "|label|prediction|\n",
      "+-----+----------+\n",
      "|  0.0|       0.0|\n",
      "|  3.0|       2.0|\n",
      "|  3.0|       1.0|\n",
      "|  1.0|       1.0|\n",
      "|  3.0|       4.0|\n",
      "|  1.0|       1.0|\n",
      "|  1.0|       1.0|\n",
      "|  1.0|       1.0|\n",
      "|  0.0|       0.0|\n",
      "|  2.0|       2.0|\n",
      "|  0.0|       0.0|\n",
      "|  0.0|       0.0|\n",
      "|  0.0|       0.0|\n",
      "|  0.0|       0.0|\n",
      "|  0.0|       0.0|\n",
      "|  2.0|       2.0|\n",
      "|  0.0|       0.0|\n",
      "|  1.0|       1.0|\n",
      "|  3.0|       2.0|\n",
      "|  2.0|       2.0|\n",
      "+-----+----------+\n",
      "only showing top 20 rows\n",
      "\n"
     ]
    }
   ],
   "source": [
    "# rating: 5 - 0.0, 4 - 1.0, 3 - 2.0, 2 - 3.0, 1 - 4.0\n",
    "test_results.select(['label', 'prediction']).show(20)"
   ]
  },
  {
   "cell_type": "code",
   "execution_count": 21,
   "metadata": {},
   "outputs": [
    {
     "name": "stdout",
     "output_type": "stream",
     "text": [
      "Accuracy of model at predicting ratings was:  0.7545075158776297\n"
     ]
    }
   ],
   "source": [
    " # Use the Class Evaluator for a cleaner description\n",
    "acc_eval = MulticlassClassificationEvaluator()\n",
    "acc = acc_eval.evaluate(test_results)\n",
    "print(\"Accuracy of model at predicting ratings was: \", acc)"
   ]
  },
  {
   "cell_type": "markdown",
   "metadata": {},
   "source": [
    "## Popular Words"
   ]
  },
  {
   "cell_type": "code",
   "execution_count": 22,
   "metadata": {},
   "outputs": [
    {
     "data": {
      "text/html": [
       "<div>\n",
       "<style scoped>\n",
       "    .dataframe tbody tr th:only-of-type {\n",
       "        vertical-align: middle;\n",
       "    }\n",
       "\n",
       "    .dataframe tbody tr th {\n",
       "        vertical-align: top;\n",
       "    }\n",
       "\n",
       "    .dataframe thead th {\n",
       "        text-align: right;\n",
       "    }\n",
       "</style>\n",
       "<table border=\"1\" class=\"dataframe\">\n",
       "  <thead>\n",
       "    <tr style=\"text-align: right;\">\n",
       "      <th></th>\n",
       "      <th>index</th>\n",
       "      <th>name</th>\n",
       "      <th>reviews_rating</th>\n",
       "      <th>rating</th>\n",
       "      <th>filteredReview</th>\n",
       "    </tr>\n",
       "  </thead>\n",
       "  <tbody>\n",
       "    <tr>\n",
       "      <th>0</th>\n",
       "      <td>0</td>\n",
       "      <td>Rancho Valencia Resort Spa</td>\n",
       "      <td>5.0</td>\n",
       "      <td>5.0</td>\n",
       "      <td>experience rancho valencia absolutely perfect ...</td>\n",
       "    </tr>\n",
       "    <tr>\n",
       "      <th>1</th>\n",
       "      <td>1</td>\n",
       "      <td>Rancho Valencia Resort Spa</td>\n",
       "      <td>5.0</td>\n",
       "      <td>5.0</td>\n",
       "      <td>amazing place everyone extremely warm welcomin...</td>\n",
       "    </tr>\n",
       "    <tr>\n",
       "      <th>2</th>\n",
       "      <td>2</td>\n",
       "      <td>Rancho Valencia Resort Spa</td>\n",
       "      <td>5.0</td>\n",
       "      <td>5.0</td>\n",
       "      <td>booked 3 night stay rancho valencia play tenni...</td>\n",
       "    </tr>\n",
       "    <tr>\n",
       "      <th>3</th>\n",
       "      <td>3</td>\n",
       "      <td>Aloft Arundel Mills</td>\n",
       "      <td>2.0</td>\n",
       "      <td>2.0</td>\n",
       "      <td>currently bed writing past hr 1/2 dogs barking...</td>\n",
       "    </tr>\n",
       "    <tr>\n",
       "      <th>4</th>\n",
       "      <td>4</td>\n",
       "      <td>Aloft Arundel Mills</td>\n",
       "      <td>5.0</td>\n",
       "      <td>5.0</td>\n",
       "      <td>live md aloft home away home ... stayed 1 nigh...</td>\n",
       "    </tr>\n",
       "  </tbody>\n",
       "</table>\n",
       "</div>"
      ],
      "text/plain": [
       "  index                        name  reviews_rating  rating  \\\n",
       "0     0  Rancho Valencia Resort Spa             5.0     5.0   \n",
       "1     1  Rancho Valencia Resort Spa             5.0     5.0   \n",
       "2     2  Rancho Valencia Resort Spa             5.0     5.0   \n",
       "3     3         Aloft Arundel Mills             2.0     2.0   \n",
       "4     4         Aloft Arundel Mills             5.0     5.0   \n",
       "\n",
       "                                      filteredReview  \n",
       "0  experience rancho valencia absolutely perfect ...  \n",
       "1  amazing place everyone extremely warm welcomin...  \n",
       "2  booked 3 night stay rancho valencia play tenni...  \n",
       "3  currently bed writing past hr 1/2 dogs barking...  \n",
       "4  live md aloft home away home ... stayed 1 nigh...  "
      ]
     },
     "execution_count": 22,
     "metadata": {},
     "output_type": "execute_result"
    }
   ],
   "source": [
    "df.head()"
   ]
  },
  {
   "cell_type": "code",
   "execution_count": 23,
   "metadata": {},
   "outputs": [],
   "source": [
    "#Filtering Rating 5.0\n",
    "filtered_5 = df[df['rating'] == 5.0]\n",
    "list_filtered_5 = filtered_5[\"filteredReview\"].tolist()\n",
    "list_filtered_5_new = ''.join(list_filtered_5)\n",
    "#Filtering Rating 4.0\n",
    "filtered_4 = df[df['rating'] == 4.0]\n",
    "list_filtered_4 = filtered_4[\"filteredReview\"].tolist()\n",
    "list_filtered_4_new = ''.join(list_filtered_4)\n",
    "#Filtering Rating 3.0\n",
    "filtered_3 = df[df['rating'] == 3.0]\n",
    "list_filtered_3 = filtered_3[\"filteredReview\"].tolist()\n",
    "list_filtered_3_new = ''.join(list_filtered_3)\n",
    "#Filtering Rating 2.0\n",
    "filtered_2 = df[df['rating'] == 2.0]\n",
    "list_filtered_2 = filtered_2[\"filteredReview\"].tolist()\n",
    "list_filtered_2_new = ''.join(list_filtered_2)\n",
    "#Filtering Rating 1.0\n",
    "filtered_1 = df[df['rating'] == 1.0]\n",
    "list_filtered_1 = filtered_1[\"filteredReview\"].tolist()\n",
    "list_filtered_1_new = ''.join(list_filtered_1)\n"
   ]
  },
  {
   "cell_type": "code",
   "execution_count": 24,
   "metadata": {},
   "outputs": [],
   "source": [
    "#Extending stop words list to avoid useless words \n",
    "stops_hotel = stopwords.words(\"english\")\n",
    "newStopWords = ['hotel','room','staff','rooms', 'stay', 'stayed' 'breakfast','location', \"n't\", \"\", \"one\", \"us\", 'desk', 'night', 'front', 'would', 'could', 'like', \"'s\"]\n",
    "stops_hotel.extend(newStopWords)"
   ]
  },
  {
   "cell_type": "code",
   "execution_count": 25,
   "metadata": {},
   "outputs": [],
   "source": [
    "#Counting words for rating 5.0\n",
    "wordcount5 = {}\n",
    "for word in list_filtered_5_new.lower().split():\n",
    "    word = word.replace(\".\",\"\")\n",
    "    word = word.replace(\",\",\"\")\n",
    "    word = word.replace(\":\",\"\")\n",
    "    word = word.replace(\"\\\"\",\"\")\n",
    "    word = word.replace(\"!\",\"\")\n",
    "    word = word.replace(\"â€œ\",\"\")\n",
    "    word = word.replace(\"â€˜\",\"\")\n",
    "    word = word.replace(\"*\",\"\")\n",
    "    if word not in stops_hotel:\n",
    "        if word not in wordcount5:\n",
    "            wordcount5[word] = 1\n",
    "        else:\n",
    "            wordcount5[word] += 1\n",
    "\n",
    "sorted_by_value5 = sorted(wordcount5.items(), key=lambda kv: kv[1], reverse=True)[:20]\n",
    "word_list5 = []\n",
    "count_list5 = []\n",
    "for element in sorted_by_value5:\n",
    "    word_list5.append(element[0])\n",
    "    count_list5.append(element[1])"
   ]
  },
  {
   "cell_type": "code",
   "execution_count": 26,
   "metadata": {},
   "outputs": [],
   "source": [
    "#Counting words for rating 4.0\n",
    "wordcount4 = {}\n",
    "for word in list_filtered_4_new.lower().split():\n",
    "    word = word.replace(\".\",\"\")\n",
    "    word = word.replace(\",\",\"\")\n",
    "    word = word.replace(\":\",\"\")\n",
    "    word = word.replace(\"\\\"\",\"\")\n",
    "    word = word.replace(\"!\",\"\")\n",
    "    word = word.replace(\"â€œ\",\"\")\n",
    "    word = word.replace(\"â€˜\",\"\")\n",
    "    word = word.replace(\"*\",\"\")\n",
    "    if word not in stops_hotel:\n",
    "        if word not in wordcount4:\n",
    "            wordcount4[word] = 1\n",
    "        else:\n",
    "            wordcount4[word] += 1\n",
    "sorted_by_value4 = sorted(wordcount4.items(), key=lambda kv: kv[1], reverse=True)[:20]\n",
    "word_list4 = []\n",
    "count_list4 = []\n",
    "for element in sorted_by_value4:\n",
    "    word_list4.append(element[0])\n",
    "    count_list4.append(element[1])"
   ]
  },
  {
   "cell_type": "code",
   "execution_count": 27,
   "metadata": {},
   "outputs": [],
   "source": [
    "#Counting words for rating 3.0\n",
    "wordcount3 = {}\n",
    "for word in list_filtered_3_new.lower().split():\n",
    "    word = word.replace(\".\",\"\")\n",
    "    word = word.replace(\",\",\"\")\n",
    "    word = word.replace(\":\",\"\")\n",
    "    word = word.replace(\"\\\"\",\"\")\n",
    "    word = word.replace(\"!\",\"\")\n",
    "    word = word.replace(\"â€œ\",\"\")\n",
    "    word = word.replace(\"â€˜\",\"\")\n",
    "    word = word.replace(\"*\",\"\")\n",
    "    if word not in stops_hotel:\n",
    "        if word not in wordcount3:\n",
    "            wordcount3[word] = 1\n",
    "        else:\n",
    "            wordcount3[word] += 1\n",
    "sorted_by_value3 = sorted(wordcount3.items(), key=lambda kv: kv[1], reverse=True)[:20]\n",
    "word_list3 = []\n",
    "count_list3 = []\n",
    "for element in sorted_by_value3:\n",
    "    word_list3.append(element[0])\n",
    "    count_list3.append(element[1])"
   ]
  },
  {
   "cell_type": "code",
   "execution_count": 28,
   "metadata": {},
   "outputs": [],
   "source": [
    "#Counting words for rating 2.0\n",
    "wordcount2 = {}\n",
    "for word in list_filtered_2_new.lower().split():\n",
    "    word = word.replace(\".\",\"\")\n",
    "    word = word.replace(\",\",\"\")\n",
    "    word = word.replace(\":\",\"\")\n",
    "    word = word.replace(\"\\\"\",\"\")\n",
    "    word = word.replace(\"!\",\"\")\n",
    "    word = word.replace(\"â€œ\",\"\")\n",
    "    word = word.replace(\"â€˜\",\"\")\n",
    "    word = word.replace(\"*\",\"\")\n",
    "    if word not in stops_hotel:\n",
    "        if word not in wordcount2:\n",
    "            wordcount2[word] = 1\n",
    "        else:\n",
    "            wordcount2[word] += 1\n",
    "sorted_by_value2 = sorted(wordcount2.items(), key=lambda kv: kv[1], reverse=True)[:20]\n",
    "word_list2 = []\n",
    "count_list2 = []\n",
    "for element in sorted_by_value2:\n",
    "    word_list2.append(element[0])\n",
    "    count_list2.append(element[1])"
   ]
  },
  {
   "cell_type": "code",
   "execution_count": 29,
   "metadata": {},
   "outputs": [],
   "source": [
    "#Counting words for rating 1.0\n",
    "wordcount1 = {}\n",
    "for word in list_filtered_1_new.lower().split():\n",
    "    word = word.replace(\".\",\"\")\n",
    "    word = word.replace(\",\",\"\")\n",
    "    word = word.replace(\":\",\"\")\n",
    "    word = word.replace(\"\\\"\",\"\")\n",
    "    word = word.replace(\"!\",\"\")\n",
    "    word = word.replace(\"â€œ\",\"\")\n",
    "    word = word.replace(\"â€˜\",\"\")\n",
    "    word = word.replace(\"*\",\"\")\n",
    "    if word not in stops_hotel:\n",
    "        if word not in wordcount1:\n",
    "            wordcount1[word] = 1\n",
    "        else:\n",
    "            wordcount1[word] += 1\n",
    "sorted_by_value1 = sorted(wordcount1.items(), key=lambda kv: kv[1], reverse=True)[:20]\n",
    "word_list1 = []\n",
    "count_list1 = []\n",
    "for element in sorted_by_value1:\n",
    "    word_list1.append(element[0])\n",
    "    count_list1.append(element[1])"
   ]
  },
  {
   "cell_type": "code",
   "execution_count": 30,
   "metadata": {},
   "outputs": [],
   "source": [
    "#Creating DF for rating 5.0\n",
    "df5 = pd.DataFrame(list(zip(word_list5, count_list5)), \n",
    "               columns =['word', 'count'])\n",
    "df5['rating'] = '5.0'\n",
    "#Creating DF for rating 4.0\n",
    "df4 = pd.DataFrame(list(zip(word_list4, count_list4)), \n",
    "               columns =['word', 'count'])\n",
    "df4['rating'] = '4.0'\n",
    "#Creating DF for rating 3.0\n",
    "df3 = pd.DataFrame(list(zip(word_list3, count_list3)), \n",
    "               columns =['word', 'count'])\n",
    "df3['rating'] = '3.0'\n",
    "#Creating DF for rating 2.0\n",
    "df2 = pd.DataFrame(list(zip(word_list2, count_list2)), \n",
    "               columns =['word', 'count'])\n",
    "df2['rating'] = '2.0'\n",
    "#Creating DF for rating 1.0\n",
    "df1 = pd.DataFrame(list(zip(word_list1, count_list1)), \n",
    "               columns =['word', 'count'])\n",
    "df1['rating'] = '1.0'\n"
   ]
  },
  {
   "cell_type": "code",
   "execution_count": 31,
   "metadata": {},
   "outputs": [
    {
     "data": {
      "text/html": [
       "<div>\n",
       "<style scoped>\n",
       "    .dataframe tbody tr th:only-of-type {\n",
       "        vertical-align: middle;\n",
       "    }\n",
       "\n",
       "    .dataframe tbody tr th {\n",
       "        vertical-align: top;\n",
       "    }\n",
       "\n",
       "    .dataframe thead th {\n",
       "        text-align: right;\n",
       "    }\n",
       "</style>\n",
       "<table border=\"1\" class=\"dataframe\">\n",
       "  <thead>\n",
       "    <tr style=\"text-align: right;\">\n",
       "      <th></th>\n",
       "      <th>word</th>\n",
       "      <th>count</th>\n",
       "      <th>rating</th>\n",
       "    </tr>\n",
       "  </thead>\n",
       "  <tbody>\n",
       "    <tr>\n",
       "      <th>0</th>\n",
       "      <td>great</td>\n",
       "      <td>1929</td>\n",
       "      <td>5.0</td>\n",
       "    </tr>\n",
       "    <tr>\n",
       "      <th>1</th>\n",
       "      <td>clean</td>\n",
       "      <td>1530</td>\n",
       "      <td>5.0</td>\n",
       "    </tr>\n",
       "    <tr>\n",
       "      <th>2</th>\n",
       "      <td>breakfast</td>\n",
       "      <td>1259</td>\n",
       "      <td>5.0</td>\n",
       "    </tr>\n",
       "    <tr>\n",
       "      <th>3</th>\n",
       "      <td>nice</td>\n",
       "      <td>1175</td>\n",
       "      <td>5.0</td>\n",
       "    </tr>\n",
       "    <tr>\n",
       "      <th>4</th>\n",
       "      <td>friendly</td>\n",
       "      <td>1094</td>\n",
       "      <td>5.0</td>\n",
       "    </tr>\n",
       "  </tbody>\n",
       "</table>\n",
       "</div>"
      ],
      "text/plain": [
       "        word  count rating\n",
       "0      great   1929    5.0\n",
       "1      clean   1530    5.0\n",
       "2  breakfast   1259    5.0\n",
       "3       nice   1175    5.0\n",
       "4   friendly   1094    5.0"
      ]
     },
     "execution_count": 31,
     "metadata": {},
     "output_type": "execute_result"
    }
   ],
   "source": [
    "#Common Data Frame\n",
    "frames = [df5, df4, df3, df2, df1]\n",
    "df = pd.concat(frames)\n",
    "df.head()"
   ]
  },
  {
   "cell_type": "markdown",
   "metadata": {},
   "source": [
    "## Data Visualisation"
   ]
  },
  {
   "cell_type": "code",
   "execution_count": 32,
   "metadata": {},
   "outputs": [],
   "source": [
    "import seaborn as sns\n",
    "from ipywidgets import widgets, interactive\n",
    "from wordcloud import WordCloud\n",
    "from PIL import Image"
   ]
  },
  {
   "cell_type": "code",
   "execution_count": 33,
   "metadata": {},
   "outputs": [
    {
     "data": {
      "text/html": [
       "<div>\n",
       "<style scoped>\n",
       "    .dataframe tbody tr th:only-of-type {\n",
       "        vertical-align: middle;\n",
       "    }\n",
       "\n",
       "    .dataframe tbody tr th {\n",
       "        vertical-align: top;\n",
       "    }\n",
       "\n",
       "    .dataframe thead th {\n",
       "        text-align: right;\n",
       "    }\n",
       "</style>\n",
       "<table border=\"1\" class=\"dataframe\">\n",
       "  <thead>\n",
       "    <tr style=\"text-align: right;\">\n",
       "      <th></th>\n",
       "      <th>word</th>\n",
       "      <th>count</th>\n",
       "      <th>rating</th>\n",
       "    </tr>\n",
       "  </thead>\n",
       "  <tbody>\n",
       "    <tr>\n",
       "      <th>0</th>\n",
       "      <td>great</td>\n",
       "      <td>1929</td>\n",
       "      <td>5.0</td>\n",
       "    </tr>\n",
       "    <tr>\n",
       "      <th>1</th>\n",
       "      <td>clean</td>\n",
       "      <td>1530</td>\n",
       "      <td>5.0</td>\n",
       "    </tr>\n",
       "    <tr>\n",
       "      <th>2</th>\n",
       "      <td>breakfast</td>\n",
       "      <td>1259</td>\n",
       "      <td>5.0</td>\n",
       "    </tr>\n",
       "    <tr>\n",
       "      <th>3</th>\n",
       "      <td>nice</td>\n",
       "      <td>1175</td>\n",
       "      <td>5.0</td>\n",
       "    </tr>\n",
       "    <tr>\n",
       "      <th>4</th>\n",
       "      <td>friendly</td>\n",
       "      <td>1094</td>\n",
       "      <td>5.0</td>\n",
       "    </tr>\n",
       "  </tbody>\n",
       "</table>\n",
       "</div>"
      ],
      "text/plain": [
       "        word  count rating\n",
       "0      great   1929    5.0\n",
       "1      clean   1530    5.0\n",
       "2  breakfast   1259    5.0\n",
       "3       nice   1175    5.0\n",
       "4   friendly   1094    5.0"
      ]
     },
     "execution_count": 33,
     "metadata": {},
     "output_type": "execute_result"
    }
   ],
   "source": [
    "short_frames = [df5[:10], df4[:10], df3[:10], df2[:10], df1[:10]]\n",
    "short_df = pd.concat(short_frames)\n",
    "short_df.head()"
   ]
  },
  {
   "cell_type": "code",
   "execution_count": 34,
   "metadata": {},
   "outputs": [
    {
     "data": {
      "image/png": "[encoded data removed]",
      "text/plain": [
       "<Figure size 432x288 with 2 Axes>"
      ]
     },
     "metadata": {},
     "output_type": "display_data"
    }
   ],
   "source": [
    "#Creating a heatmap\n",
    "heat_map_data = short_df.pivot(\"rating\",'word','count')\n",
    "heat_map = sns.heatmap(heat_map_data, cmap=\"YlGnBu\")"
   ]
  },
  {
   "cell_type": "code",
   "execution_count": 35,
   "metadata": {},
   "outputs": [],
   "source": [
    "# Create a widget containing ratings (sorted alphabetically)\n",
    "ratings = list(short_df.rating.unique())\n",
    "ratings.sort()\n",
    "\n",
    "rating_title = widgets.Dropdown(options = [\"Choose a rating...\"] + ratings, value = \"Choose a rating...\", \n",
    "                              description = \"rating:\", disabled = False)"
   ]
  },
  {
   "cell_type": "code",
   "execution_count": 36,
   "metadata": {},
   "outputs": [],
   "source": [
    "# Create a filter based on title\n",
    "def plot_it(rating_title):\n",
    "    if rating_title != \"Choose a rating...\":\n",
    "        df1 = short_df[short_df[\"rating\"] == rating_title]\n",
    "        \n",
    "        plt.figure(figsize = (10, 6))\n",
    "        sns.set(font_scale = 1.5)\n",
    "        graph = sns.barplot(y = \"word\", x = \"count\", data = df1, palette = \"YlGnBu\")"
   ]
  },
  {
   "cell_type": "code",
   "execution_count": 37,
   "metadata": {},
   "outputs": [
    {
     "data": {
      "application/vnd.jupyter.widget-view+json": {
       "model_id": "3e94f75bb3a941f7ae04c3996f88f917",
       "version_major": 2,
       "version_minor": 0
      },
      "text/plain": [
       "interactive(children=(Dropdown(description='rating:', options=('Choose a rating...', '1.0', '2.0', '3.0', '4.0…"
      ]
     },
     "metadata": {},
     "output_type": "display_data"
    }
   ],
   "source": [
    "# Plot the data by poem title\n",
    "interactive(plot_it, rating_title = rating_title)"
   ]
  },
  {
   "cell_type": "markdown",
   "metadata": {},
   "source": [
    "## Word Clouds"
   ]
  },
  {
   "cell_type": "code",
   "execution_count": 38,
   "metadata": {},
   "outputs": [
    {
     "data": {
      "image/png": "[encoded data removed]",
      "text/plain": [
       "<Figure size 1080x432 with 1 Axes>"
      ]
     },
     "metadata": {},
     "output_type": "display_data"
    }
   ],
   "source": [
    "#world cloud preparation\n",
    "wc_prep = df[\"word\"].tolist()\n",
    "wcloud_prep = ' '.join(wc_prep)\n",
    "# read the mask image\n",
    "case_mask = np.array(Image.open(\"images/case.jpg\"))\n",
    "# Make the figure\n",
    "wordcloud = WordCloud(mask=case_mask, background_color=\"white\", contour_color='steelblue', \n",
    "                      min_font_size=16).generate(wcloud_prep)\n",
    "plt.figure(figsize = (15, 6))\n",
    "plt.imshow(wordcloud, interpolation=\"bilinear\")\n",
    "plt.axis(\"off\")\n",
    "plt.margins(x=0, y=0)\n",
    "plt.show()"
   ]
  },
  {
   "cell_type": "markdown",
   "metadata": {},
   "source": [
    "#### Word Cloud Rating 5.0"
   ]
  },
  {
   "cell_type": "code",
   "execution_count": 39,
   "metadata": {},
   "outputs": [
    {
     "data": {
      "image/png": "[encoded data removed]",
      "text/plain": [
       "<Figure size 1080x432 with 1 Axes>"
      ]
     },
     "metadata": {},
     "output_type": "display_data"
    }
   ],
   "source": [
    "#world cloud preparation\n",
    "wcloud_prep = ' '.join(word_list5)\n",
    "# read the mask image\n",
    "case_mask = np.array(Image.open(\"images/5.jpg\"))\n",
    "# Make the figure\n",
    "wordcloud = WordCloud(mask=case_mask, background_color=\"white\", contour_color='steelblue', min_font_size=16).generate(wcloud_prep)\n",
    "plt.figure(figsize = (15, 6))\n",
    "plt.imshow(wordcloud, interpolation=\"bilinear\")\n",
    "plt.axis(\"off\")\n",
    "plt.margins(x=0, y=0)\n",
    "plt.show()"
   ]
  },
  {
   "cell_type": "markdown",
   "metadata": {},
   "source": [
    "#### Word Cloud Rating 4.0"
   ]
  },
  {
   "cell_type": "code",
   "execution_count": 40,
   "metadata": {},
   "outputs": [
    {
     "data": {
      "image/png": "[encoded data removed]",
      "text/plain": [
       "<Figure size 1080x432 with 1 Axes>"
      ]
     },
     "metadata": {},
     "output_type": "display_data"
    }
   ],
   "source": [
    "#world cloud preparation\n",
    "wcloud_prep = ' '.join(word_list4)\n",
    "# read the mask image\n",
    "case_mask = np.array(Image.open(\"images/4.jpg\"))\n",
    "# Make the figure\n",
    "wordcloud = WordCloud(mask=case_mask, background_color=\"white\", contour_color='steelblue', min_font_size=16).generate(wcloud_prep)\n",
    "plt.figure(figsize = (15, 6))\n",
    "plt.imshow(wordcloud, interpolation=\"bilinear\")\n",
    "plt.axis(\"off\")\n",
    "plt.margins(x=0, y=0)\n",
    "plt.show()"
   ]
  },
  {
   "cell_type": "markdown",
   "metadata": {},
   "source": [
    "#### Word Cloud Rating 3.0"
   ]
  },
  {
   "cell_type": "code",
   "execution_count": 41,
   "metadata": {},
   "outputs": [
    {
     "data": {
      "image/png": "[encoded data removed]",
      "text/plain": [
       "<Figure size 1080x432 with 1 Axes>"
      ]
     },
     "metadata": {},
     "output_type": "display_data"
    }
   ],
   "source": [
    "#world cloud preparation\n",
    "wcloud_prep = ' '.join(word_list3)\n",
    "# read the mask image\n",
    "case_mask = np.array(Image.open(\"images/3.jpg\"))\n",
    "# Make the figure\n",
    "wordcloud = WordCloud(mask=case_mask, background_color=\"white\", contour_color='steelblue', min_font_size=16).generate(wcloud_prep)\n",
    "plt.figure(figsize = (15, 6))\n",
    "plt.imshow(wordcloud, interpolation=\"bilinear\")\n",
    "plt.axis(\"off\")\n",
    "plt.margins(x=0, y=0)\n",
    "plt.show()"
   ]
  },
  {
   "cell_type": "markdown",
   "metadata": {},
   "source": [
    "#### Word Cloud Rating 2.0"
   ]
  },
  {
   "cell_type": "code",
   "execution_count": 42,
   "metadata": {},
   "outputs": [
    {
     "data": {
      "image/png": "[encoded data removed]",
      "text/plain": [
       "<Figure size 1080x432 with 1 Axes>"
      ]
     },
     "metadata": {},
     "output_type": "display_data"
    }
   ],
   "source": [
    "#world cloud preparation\n",
    "wcloud_prep = ' '.join(word_list2)\n",
    "# read the mask image\n",
    "case_mask = np.array(Image.open(\"images/2.jpg\"))\n",
    "# Make the figure\n",
    "wordcloud = WordCloud(mask=case_mask, background_color=\"white\", contour_color='steelblue', min_font_size=16).generate(wcloud_prep)\n",
    "plt.figure(figsize = (15, 6))\n",
    "plt.imshow(wordcloud, interpolation=\"bilinear\")\n",
    "plt.axis(\"off\")\n",
    "plt.margins(x=0, y=0)\n",
    "plt.show()"
   ]
  },
  {
   "cell_type": "markdown",
   "metadata": {},
   "source": [
    "#### Word Cloud Rating 1.0"
   ]
  },
  {
   "cell_type": "code",
   "execution_count": 43,
   "metadata": {},
   "outputs": [
    {
     "data": {
      "image/png": "[encoded data removed]",
      "text/plain": [
       "<Figure size 1080x432 with 1 Axes>"
      ]
     },
     "metadata": {},
     "output_type": "display_data"
    }
   ],
   "source": [
    "#world cloud preparation\n",
    "wcloud_prep = ' '.join(word_list1)\n",
    "# read the mask image\n",
    "case_mask = np.array(Image.open(\"images/1.jpg\"))\n",
    "# Make the figure\n",
    "wordcloud = WordCloud(mask=case_mask, background_color=\"white\", contour_color='steelblue', min_font_size=16).generate(wcloud_prep)\n",
    "plt.figure(figsize = (15, 6))\n",
    "plt.imshow(wordcloud, interpolation=\"bilinear\")\n",
    "plt.axis(\"off\")\n",
    "plt.margins(x=0, y=0)\n",
    "plt.show()"
   ]
  }
 ],
 "metadata": {
  "kernel_info": {
   "name": "python3"
  },
  "kernelspec": {
   "display_name": "Python 3",
   "language": "python",
   "name": "python3"
  },
  "language_info": {
   "codemirror_mode": {
    "name": "ipython",
    "version": 3
   },
   "file_extension": ".py",
   "mimetype": "text/x-python",
   "name": "python",
   "nbconvert_exporter": "python",
   "pygments_lexer": "ipython3",
   "version": "3.6.5"
  },
  "nteract": {
   "version": "0.12.3"
  }
 },
 "nbformat": 4,
 "nbformat_minor": 2
}
