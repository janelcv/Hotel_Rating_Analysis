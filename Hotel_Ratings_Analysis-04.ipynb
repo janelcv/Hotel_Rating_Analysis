{
 "cells": [
  {
   "cell_type": "code",
   "execution_count": 1,
   "metadata": {},
   "outputs": [],
   "source": [
    "# Dependencies\n",
    "import pandas as pd\n",
    "import sqlite3\n",
    "from pyspark import SparkContext\n",
    "sc =SparkContext()\n",
    "from pyspark.sql import SQLContext\n",
    "sqlContext = SQLContext(sc)"
   ]
  },
  {
   "cell_type": "code",
   "execution_count": 2,
   "metadata": {},
   "outputs": [
    {
     "data": {
      "text/html": [
       "<div>\n",
       "<style scoped>\n",
       "    .dataframe tbody tr th:only-of-type {\n",
       "        vertical-align: middle;\n",
       "    }\n",
       "\n",
       "    .dataframe tbody tr th {\n",
       "        vertical-align: top;\n",
       "    }\n",
       "\n",
       "    .dataframe thead th {\n",
       "        text-align: right;\n",
       "    }\n",
       "</style>\n",
       "<table border=\"1\" class=\"dataframe\">\n",
       "  <thead>\n",
       "    <tr style=\"text-align: right;\">\n",
       "      <th></th>\n",
       "      <th>index</th>\n",
       "      <th>name</th>\n",
       "      <th>reviews_date</th>\n",
       "      <th>reviews_rating</th>\n",
       "      <th>reviews_sourceURLs</th>\n",
       "      <th>reviews_text</th>\n",
       "      <th>reviews_title</th>\n",
       "      <th>reviews_userCity</th>\n",
       "      <th>reviews_userProvince</th>\n",
       "    </tr>\n",
       "  </thead>\n",
       "  <tbody>\n",
       "    <tr>\n",
       "      <th>0</th>\n",
       "      <td>0</td>\n",
       "      <td>Rancho Valencia Resort Spa</td>\n",
       "      <td>2013-11-14T00:00:00Z</td>\n",
       "      <td>5.0</td>\n",
       "      <td>www.hotels.com</td>\n",
       "      <td>Our experience at Rancho Valencia was absolute...</td>\n",
       "      <td>Best romantic vacation ever!!!!</td>\n",
       "      <td>None</td>\n",
       "      <td>None</td>\n",
       "    </tr>\n",
       "    <tr>\n",
       "      <th>1</th>\n",
       "      <td>1</td>\n",
       "      <td>Rancho Valencia Resort Spa</td>\n",
       "      <td>2014-07-06T00:00:00Z</td>\n",
       "      <td>5.0</td>\n",
       "      <td>www.hotels.com</td>\n",
       "      <td>Amazing place. Everyone was extremely warm and...</td>\n",
       "      <td>Sweet sweet serenity</td>\n",
       "      <td>None</td>\n",
       "      <td>None</td>\n",
       "    </tr>\n",
       "    <tr>\n",
       "      <th>2</th>\n",
       "      <td>2</td>\n",
       "      <td>Rancho Valencia Resort Spa</td>\n",
       "      <td>2015-01-02T00:00:00Z</td>\n",
       "      <td>5.0</td>\n",
       "      <td>www.hotels.com</td>\n",
       "      <td>We booked a 3 night stay at Rancho Valencia to...</td>\n",
       "      <td>Amazing Property and Experience</td>\n",
       "      <td>None</td>\n",
       "      <td>None</td>\n",
       "    </tr>\n",
       "    <tr>\n",
       "      <th>3</th>\n",
       "      <td>3</td>\n",
       "      <td>Aloft Arundel Mills</td>\n",
       "      <td>2016-05-15T00:00:00Z</td>\n",
       "      <td>2.0</td>\n",
       "      <td>www.tripadvisor.com</td>\n",
       "      <td>Currently in bed writing this for the past hr ...</td>\n",
       "      <td>Never again...beware, if you want sleep.</td>\n",
       "      <td>Richmond</td>\n",
       "      <td>VA</td>\n",
       "    </tr>\n",
       "    <tr>\n",
       "      <th>4</th>\n",
       "      <td>4</td>\n",
       "      <td>Aloft Arundel Mills</td>\n",
       "      <td>2016-07-09T00:00:00Z</td>\n",
       "      <td>5.0</td>\n",
       "      <td>www.tripadvisor.com</td>\n",
       "      <td>I live in Md and the Aloft is my Home away fro...</td>\n",
       "      <td>ALWAYS GREAT STAY...</td>\n",
       "      <td>Laurel</td>\n",
       "      <td>MD</td>\n",
       "    </tr>\n",
       "  </tbody>\n",
       "</table>\n",
       "</div>"
      ],
      "text/plain": [
       "  index                        name          reviews_date  reviews_rating  \\\n",
       "0     0  Rancho Valencia Resort Spa  2013-11-14T00:00:00Z             5.0   \n",
       "1     1  Rancho Valencia Resort Spa  2014-07-06T00:00:00Z             5.0   \n",
       "2     2  Rancho Valencia Resort Spa  2015-01-02T00:00:00Z             5.0   \n",
       "3     3         Aloft Arundel Mills  2016-05-15T00:00:00Z             2.0   \n",
       "4     4         Aloft Arundel Mills  2016-07-09T00:00:00Z             5.0   \n",
       "\n",
       "    reviews_sourceURLs                                       reviews_text  \\\n",
       "0       www.hotels.com  Our experience at Rancho Valencia was absolute...   \n",
       "1       www.hotels.com  Amazing place. Everyone was extremely warm and...   \n",
       "2       www.hotels.com  We booked a 3 night stay at Rancho Valencia to...   \n",
       "3  www.tripadvisor.com  Currently in bed writing this for the past hr ...   \n",
       "4  www.tripadvisor.com  I live in Md and the Aloft is my Home away fro...   \n",
       "\n",
       "                              reviews_title reviews_userCity  \\\n",
       "0           Best romantic vacation ever!!!!             None   \n",
       "1                      Sweet sweet serenity             None   \n",
       "2           Amazing Property and Experience             None   \n",
       "3  Never again...beware, if you want sleep.         Richmond   \n",
       "4                      ALWAYS GREAT STAY...           Laurel   \n",
       "\n",
       "  reviews_userProvince  \n",
       "0                 None  \n",
       "1                 None  \n",
       "2                 None  \n",
       "3                   VA  \n",
       "4                   MD  "
      ]
     },
     "execution_count": 2,
     "metadata": {},
     "output_type": "execute_result"
    }
   ],
   "source": [
    "# Create connections to database\n",
    "conn = sqlite3.connect(\"Data/Hotels.db\")\n",
    "\n",
    "#Load the database table into a pandas dataframe\n",
    "ratings = pd.read_sql_query(\"select * from ratings;\", conn)\n",
    "conn.close()\n",
    "\n",
    "# Preview the dataframe\n",
    "ratings.head()"
   ]
  },
  {
   "cell_type": "code",
   "execution_count": 3,
   "metadata": {},
   "outputs": [
    {
     "data": {
      "text/html": [
       "<div>\n",
       "<style scoped>\n",
       "    .dataframe tbody tr th:only-of-type {\n",
       "        vertical-align: middle;\n",
       "    }\n",
       "\n",
       "    .dataframe tbody tr th {\n",
       "        vertical-align: top;\n",
       "    }\n",
       "\n",
       "    .dataframe thead th {\n",
       "        text-align: right;\n",
       "    }\n",
       "</style>\n",
       "<table border=\"1\" class=\"dataframe\">\n",
       "  <thead>\n",
       "    <tr style=\"text-align: right;\">\n",
       "      <th></th>\n",
       "      <th>index</th>\n",
       "      <th>name</th>\n",
       "      <th>reviews_date</th>\n",
       "      <th>reviews_rating</th>\n",
       "      <th>reviews_sourceURLs</th>\n",
       "      <th>reviews_text</th>\n",
       "      <th>reviews_title</th>\n",
       "      <th>reviews_userCity</th>\n",
       "      <th>reviews_userProvince</th>\n",
       "    </tr>\n",
       "  </thead>\n",
       "  <tbody>\n",
       "    <tr>\n",
       "      <th>0</th>\n",
       "      <td>0</td>\n",
       "      <td>Rancho Valencia Resort Spa</td>\n",
       "      <td>2013-11-14T00:00:00Z</td>\n",
       "      <td>5.0</td>\n",
       "      <td>www.hotels.com</td>\n",
       "      <td>our experience at rancho valencia was absolute...</td>\n",
       "      <td>Best romantic vacation ever!!!!</td>\n",
       "      <td>None</td>\n",
       "      <td>None</td>\n",
       "    </tr>\n",
       "    <tr>\n",
       "      <th>1</th>\n",
       "      <td>1</td>\n",
       "      <td>Rancho Valencia Resort Spa</td>\n",
       "      <td>2014-07-06T00:00:00Z</td>\n",
       "      <td>5.0</td>\n",
       "      <td>www.hotels.com</td>\n",
       "      <td>amazing place. everyone was extremely warm and...</td>\n",
       "      <td>Sweet sweet serenity</td>\n",
       "      <td>None</td>\n",
       "      <td>None</td>\n",
       "    </tr>\n",
       "    <tr>\n",
       "      <th>2</th>\n",
       "      <td>2</td>\n",
       "      <td>Rancho Valencia Resort Spa</td>\n",
       "      <td>2015-01-02T00:00:00Z</td>\n",
       "      <td>5.0</td>\n",
       "      <td>www.hotels.com</td>\n",
       "      <td>we booked a 3 night stay at rancho valencia to...</td>\n",
       "      <td>Amazing Property and Experience</td>\n",
       "      <td>None</td>\n",
       "      <td>None</td>\n",
       "    </tr>\n",
       "    <tr>\n",
       "      <th>3</th>\n",
       "      <td>3</td>\n",
       "      <td>Aloft Arundel Mills</td>\n",
       "      <td>2016-05-15T00:00:00Z</td>\n",
       "      <td>2.0</td>\n",
       "      <td>www.tripadvisor.com</td>\n",
       "      <td>currently in bed writing this for the past hr ...</td>\n",
       "      <td>Never again...beware, if you want sleep.</td>\n",
       "      <td>Richmond</td>\n",
       "      <td>VA</td>\n",
       "    </tr>\n",
       "    <tr>\n",
       "      <th>4</th>\n",
       "      <td>4</td>\n",
       "      <td>Aloft Arundel Mills</td>\n",
       "      <td>2016-07-09T00:00:00Z</td>\n",
       "      <td>5.0</td>\n",
       "      <td>www.tripadvisor.com</td>\n",
       "      <td>i live in md and the aloft is my home away fro...</td>\n",
       "      <td>ALWAYS GREAT STAY...</td>\n",
       "      <td>Laurel</td>\n",
       "      <td>MD</td>\n",
       "    </tr>\n",
       "  </tbody>\n",
       "</table>\n",
       "</div>"
      ],
      "text/plain": [
       "  index                        name          reviews_date  reviews_rating  \\\n",
       "0     0  Rancho Valencia Resort Spa  2013-11-14T00:00:00Z             5.0   \n",
       "1     1  Rancho Valencia Resort Spa  2014-07-06T00:00:00Z             5.0   \n",
       "2     2  Rancho Valencia Resort Spa  2015-01-02T00:00:00Z             5.0   \n",
       "3     3         Aloft Arundel Mills  2016-05-15T00:00:00Z             2.0   \n",
       "4     4         Aloft Arundel Mills  2016-07-09T00:00:00Z             5.0   \n",
       "\n",
       "    reviews_sourceURLs                                       reviews_text  \\\n",
       "0       www.hotels.com  our experience at rancho valencia was absolute...   \n",
       "1       www.hotels.com  amazing place. everyone was extremely warm and...   \n",
       "2       www.hotels.com  we booked a 3 night stay at rancho valencia to...   \n",
       "3  www.tripadvisor.com  currently in bed writing this for the past hr ...   \n",
       "4  www.tripadvisor.com  i live in md and the aloft is my home away fro...   \n",
       "\n",
       "                              reviews_title reviews_userCity  \\\n",
       "0           Best romantic vacation ever!!!!             None   \n",
       "1                      Sweet sweet serenity             None   \n",
       "2           Amazing Property and Experience             None   \n",
       "3  Never again...beware, if you want sleep.         Richmond   \n",
       "4                      ALWAYS GREAT STAY...           Laurel   \n",
       "\n",
       "  reviews_userProvince  \n",
       "0                 None  \n",
       "1                 None  \n",
       "2                 None  \n",
       "3                   VA  \n",
       "4                   MD  "
      ]
     },
     "execution_count": 3,
     "metadata": {},
     "output_type": "execute_result"
    }
   ],
   "source": [
    "# Put all letters in lower case\n",
    "ratings[\"reviews_text\"] = ratings[\"reviews_text\"].str.lower()\n",
    "ratings.head()"
   ]
  },
  {
   "cell_type": "code",
   "execution_count": 4,
   "metadata": {},
   "outputs": [],
   "source": [
    "ratings['reviews_text'] = ratings['reviews_text'].astype(str)"
   ]
  },
  {
   "cell_type": "code",
   "execution_count": 5,
   "metadata": {},
   "outputs": [
    {
     "name": "stdout",
     "output_type": "stream",
     "text": [
      "[nltk_data] Downloading package punkt to\n",
      "[nltk_data]     /Users/janelchadiarova/nltk_data...\n",
      "[nltk_data]   Package punkt is already up-to-date!\n",
      "[nltk_data] Downloading package stopwords to\n",
      "[nltk_data]     /Users/janelchadiarova/nltk_data...\n",
      "[nltk_data]   Package stopwords is already up-to-date!\n",
      "[nltk_data] Downloading package wordnet to\n",
      "[nltk_data]     /Users/janelchadiarova/nltk_data...\n",
      "[nltk_data]   Package wordnet is already up-to-date!\n"
     ]
    }
   ],
   "source": [
    "# Dependencies\n",
    "import re, string\n",
    "\n",
    "import nltk\n",
    "nltk.download(\"punkt\")\n",
    "nltk.download('stopwords')\n",
    "nltk.download('wordnet')\n",
    "\n",
    "from nltk.tokenize import word_tokenize\n",
    "from nltk.corpus import stopwords\n",
    "from nltk.stem import WordNetLemmatizer\n"
   ]
  },
  {
   "cell_type": "code",
   "execution_count": 6,
   "metadata": {},
   "outputs": [],
   "source": [
    "# Remove stop words from the list\n",
    "stops = stopwords.words(\"english\")\n",
    "exclude = set(string.punctuation)"
   ]
  },
  {
   "cell_type": "code",
   "execution_count": 7,
   "metadata": {},
   "outputs": [
    {
     "data": {
      "text/html": [
       "<div>\n",
       "<style scoped>\n",
       "    .dataframe tbody tr th:only-of-type {\n",
       "        vertical-align: middle;\n",
       "    }\n",
       "\n",
       "    .dataframe tbody tr th {\n",
       "        vertical-align: top;\n",
       "    }\n",
       "\n",
       "    .dataframe thead th {\n",
       "        text-align: right;\n",
       "    }\n",
       "</style>\n",
       "<table border=\"1\" class=\"dataframe\">\n",
       "  <thead>\n",
       "    <tr style=\"text-align: right;\">\n",
       "      <th></th>\n",
       "      <th>index</th>\n",
       "      <th>name</th>\n",
       "      <th>reviews_date</th>\n",
       "      <th>reviews_rating</th>\n",
       "      <th>reviews_sourceURLs</th>\n",
       "      <th>reviews_text</th>\n",
       "      <th>reviews_title</th>\n",
       "      <th>reviews_userCity</th>\n",
       "      <th>reviews_userProvince</th>\n",
       "      <th>filteredReview</th>\n",
       "    </tr>\n",
       "  </thead>\n",
       "  <tbody>\n",
       "    <tr>\n",
       "      <th>0</th>\n",
       "      <td>0</td>\n",
       "      <td>Rancho Valencia Resort Spa</td>\n",
       "      <td>2013-11-14T00:00:00Z</td>\n",
       "      <td>5.0</td>\n",
       "      <td>www.hotels.com</td>\n",
       "      <td>our experience at rancho valencia was absolute...</td>\n",
       "      <td>Best romantic vacation ever!!!!</td>\n",
       "      <td>None</td>\n",
       "      <td>None</td>\n",
       "      <td>experience rancho valencia absolutely perfect ...</td>\n",
       "    </tr>\n",
       "    <tr>\n",
       "      <th>1</th>\n",
       "      <td>1</td>\n",
       "      <td>Rancho Valencia Resort Spa</td>\n",
       "      <td>2014-07-06T00:00:00Z</td>\n",
       "      <td>5.0</td>\n",
       "      <td>www.hotels.com</td>\n",
       "      <td>amazing place. everyone was extremely warm and...</td>\n",
       "      <td>Sweet sweet serenity</td>\n",
       "      <td>None</td>\n",
       "      <td>None</td>\n",
       "      <td>amazing place everyone extremely warm welcomin...</td>\n",
       "    </tr>\n",
       "    <tr>\n",
       "      <th>2</th>\n",
       "      <td>2</td>\n",
       "      <td>Rancho Valencia Resort Spa</td>\n",
       "      <td>2015-01-02T00:00:00Z</td>\n",
       "      <td>5.0</td>\n",
       "      <td>www.hotels.com</td>\n",
       "      <td>we booked a 3 night stay at rancho valencia to...</td>\n",
       "      <td>Amazing Property and Experience</td>\n",
       "      <td>None</td>\n",
       "      <td>None</td>\n",
       "      <td>booked 3 night stay rancho valencia play tenni...</td>\n",
       "    </tr>\n",
       "    <tr>\n",
       "      <th>3</th>\n",
       "      <td>3</td>\n",
       "      <td>Aloft Arundel Mills</td>\n",
       "      <td>2016-05-15T00:00:00Z</td>\n",
       "      <td>2.0</td>\n",
       "      <td>www.tripadvisor.com</td>\n",
       "      <td>currently in bed writing this for the past hr ...</td>\n",
       "      <td>Never again...beware, if you want sleep.</td>\n",
       "      <td>Richmond</td>\n",
       "      <td>VA</td>\n",
       "      <td>currently bed writing past hr 1/2 dogs barking...</td>\n",
       "    </tr>\n",
       "    <tr>\n",
       "      <th>4</th>\n",
       "      <td>4</td>\n",
       "      <td>Aloft Arundel Mills</td>\n",
       "      <td>2016-07-09T00:00:00Z</td>\n",
       "      <td>5.0</td>\n",
       "      <td>www.tripadvisor.com</td>\n",
       "      <td>i live in md and the aloft is my home away fro...</td>\n",
       "      <td>ALWAYS GREAT STAY...</td>\n",
       "      <td>Laurel</td>\n",
       "      <td>MD</td>\n",
       "      <td>live md aloft home away home ... stayed 1 nigh...</td>\n",
       "    </tr>\n",
       "  </tbody>\n",
       "</table>\n",
       "</div>"
      ],
      "text/plain": [
       "  index                        name          reviews_date  reviews_rating  \\\n",
       "0     0  Rancho Valencia Resort Spa  2013-11-14T00:00:00Z             5.0   \n",
       "1     1  Rancho Valencia Resort Spa  2014-07-06T00:00:00Z             5.0   \n",
       "2     2  Rancho Valencia Resort Spa  2015-01-02T00:00:00Z             5.0   \n",
       "3     3         Aloft Arundel Mills  2016-05-15T00:00:00Z             2.0   \n",
       "4     4         Aloft Arundel Mills  2016-07-09T00:00:00Z             5.0   \n",
       "\n",
       "    reviews_sourceURLs                                       reviews_text  \\\n",
       "0       www.hotels.com  our experience at rancho valencia was absolute...   \n",
       "1       www.hotels.com  amazing place. everyone was extremely warm and...   \n",
       "2       www.hotels.com  we booked a 3 night stay at rancho valencia to...   \n",
       "3  www.tripadvisor.com  currently in bed writing this for the past hr ...   \n",
       "4  www.tripadvisor.com  i live in md and the aloft is my home away fro...   \n",
       "\n",
       "                              reviews_title reviews_userCity  \\\n",
       "0           Best romantic vacation ever!!!!             None   \n",
       "1                      Sweet sweet serenity             None   \n",
       "2           Amazing Property and Experience             None   \n",
       "3  Never again...beware, if you want sleep.         Richmond   \n",
       "4                      ALWAYS GREAT STAY...           Laurel   \n",
       "\n",
       "  reviews_userProvince                                     filteredReview  \n",
       "0                 None  experience rancho valencia absolutely perfect ...  \n",
       "1                 None  amazing place everyone extremely warm welcomin...  \n",
       "2                 None  booked 3 night stay rancho valencia play tenni...  \n",
       "3                   VA  currently bed writing past hr 1/2 dogs barking...  \n",
       "4                   MD  live md aloft home away home ... stayed 1 nigh...  "
      ]
     },
     "execution_count": 7,
     "metadata": {},
     "output_type": "execute_result"
    }
   ],
   "source": [
    "# Transform the poem in preparation for word counts\n",
    "words_list = []\n",
    "preprocessed_text = []\n",
    "for review in ratings[\"reviews_text\"]:\n",
    "    \n",
    "    # Create a list of words per poem after the words are converted to lowercase    \n",
    "    words = word_tokenize(review)\n",
    "    \n",
    "    # Filter to remove stop words and punctuations    \n",
    "    words2 = [word for word in words if word not in stops and word not in exclude]\n",
    "    \n",
    "    # Add the filtered list of words (representing each poem)\n",
    "    words_list.append(words2)\n",
    "    \n",
    "    # Convert the list of strings back to one string\n",
    "    words3 = \" \".join(words2)\n",
    "    \n",
    "    # Add the filtered list of words (representing each poem)\n",
    "    preprocessed_text.append(words3)\n",
    "   \n",
    "ratings[\"filteredReview\"] = preprocessed_text\n",
    "ratings.head()"
   ]
  },
  {
   "cell_type": "code",
   "execution_count": 8,
   "metadata": {},
   "outputs": [
    {
     "data": {
      "text/html": [
       "<div>\n",
       "<style scoped>\n",
       "    .dataframe tbody tr th:only-of-type {\n",
       "        vertical-align: middle;\n",
       "    }\n",
       "\n",
       "    .dataframe tbody tr th {\n",
       "        vertical-align: top;\n",
       "    }\n",
       "\n",
       "    .dataframe thead th {\n",
       "        text-align: right;\n",
       "    }\n",
       "</style>\n",
       "<table border=\"1\" class=\"dataframe\">\n",
       "  <thead>\n",
       "    <tr style=\"text-align: right;\">\n",
       "      <th></th>\n",
       "      <th>index</th>\n",
       "      <th>name</th>\n",
       "      <th>label</th>\n",
       "      <th>filteredReview</th>\n",
       "    </tr>\n",
       "  </thead>\n",
       "  <tbody>\n",
       "    <tr>\n",
       "      <th>0</th>\n",
       "      <td>0</td>\n",
       "      <td>Rancho Valencia Resort Spa</td>\n",
       "      <td>5.0</td>\n",
       "      <td>experience rancho valencia absolutely perfect ...</td>\n",
       "    </tr>\n",
       "    <tr>\n",
       "      <th>1</th>\n",
       "      <td>1</td>\n",
       "      <td>Rancho Valencia Resort Spa</td>\n",
       "      <td>5.0</td>\n",
       "      <td>amazing place everyone extremely warm welcomin...</td>\n",
       "    </tr>\n",
       "    <tr>\n",
       "      <th>2</th>\n",
       "      <td>2</td>\n",
       "      <td>Rancho Valencia Resort Spa</td>\n",
       "      <td>5.0</td>\n",
       "      <td>booked 3 night stay rancho valencia play tenni...</td>\n",
       "    </tr>\n",
       "    <tr>\n",
       "      <th>3</th>\n",
       "      <td>3</td>\n",
       "      <td>Aloft Arundel Mills</td>\n",
       "      <td>2.0</td>\n",
       "      <td>currently bed writing past hr 1/2 dogs barking...</td>\n",
       "    </tr>\n",
       "    <tr>\n",
       "      <th>4</th>\n",
       "      <td>4</td>\n",
       "      <td>Aloft Arundel Mills</td>\n",
       "      <td>5.0</td>\n",
       "      <td>live md aloft home away home ... stayed 1 nigh...</td>\n",
       "    </tr>\n",
       "  </tbody>\n",
       "</table>\n",
       "</div>"
      ],
      "text/plain": [
       "  index                        name  label  \\\n",
       "0     0  Rancho Valencia Resort Spa    5.0   \n",
       "1     1  Rancho Valencia Resort Spa    5.0   \n",
       "2     2  Rancho Valencia Resort Spa    5.0   \n",
       "3     3         Aloft Arundel Mills    2.0   \n",
       "4     4         Aloft Arundel Mills    5.0   \n",
       "\n",
       "                                      filteredReview  \n",
       "0  experience rancho valencia absolutely perfect ...  \n",
       "1  amazing place everyone extremely warm welcomin...  \n",
       "2  booked 3 night stay rancho valencia play tenni...  \n",
       "3  currently bed writing past hr 1/2 dogs barking...  \n",
       "4  live md aloft home away home ... stayed 1 nigh...  "
      ]
     },
     "execution_count": 8,
     "metadata": {},
     "output_type": "execute_result"
    }
   ],
   "source": [
    "# Remove columns that will not be used in the analysis\n",
    "df = ratings.drop(columns=[\"reviews_text\",\"reviews_date\",\"reviews_sourceURLs\",\"reviews_title\",\"reviews_userCity\",\"reviews_userProvince\"],axis=1)\n",
    "df = df.rename(index=str, columns={\"reviews_rating\": \"label\"})\n",
    "# Preview the dataframe\n",
    "df.head()"
   ]
  },
  {
   "cell_type": "code",
   "execution_count": 9,
   "metadata": {},
   "outputs": [
    {
     "name": "stdout",
     "output_type": "stream",
     "text": [
      "+-----+--------------------+-----+--------------------+\n",
      "|index|                name|label|      filteredReview|\n",
      "+-----+--------------------+-----+--------------------+\n",
      "|    0|Rancho Valencia R...|  5.0|experience rancho...|\n",
      "|    1|Rancho Valencia R...|  5.0|amazing place eve...|\n",
      "|    2|Rancho Valencia R...|  5.0|booked 3 night st...|\n",
      "|    3| Aloft Arundel Mills|  2.0|currently bed wri...|\n",
      "|    4| Aloft Arundel Mills|  5.0|live md aloft hom...|\n",
      "+-----+--------------------+-----+--------------------+\n",
      "only showing top 5 rows\n",
      "\n"
     ]
    }
   ],
   "source": [
    "spark_ratings = sqlContext.createDataFrame(df)\n",
    "spark_ratings.show(5)"
   ]
  },
  {
   "cell_type": "code",
   "execution_count": 10,
   "metadata": {},
   "outputs": [
    {
     "name": "stdout",
     "output_type": "stream",
     "text": [
      "+-----+--------------------+-----+--------------------+------+\n",
      "|index|                name|label|      filteredReview|length|\n",
      "+-----+--------------------+-----+--------------------+------+\n",
      "|    0|Rancho Valencia R...|  5.0|experience rancho...|   112|\n",
      "|    1|Rancho Valencia R...|  5.0|amazing place eve...|   202|\n",
      "|    2|Rancho Valencia R...|  5.0|booked 3 night st...|   335|\n",
      "|    3| Aloft Arundel Mills|  2.0|currently bed wri...|   125|\n",
      "|    4| Aloft Arundel Mills|  5.0|live md aloft hom...|   186|\n",
      "+-----+--------------------+-----+--------------------+------+\n",
      "only showing top 5 rows\n",
      "\n"
     ]
    }
   ],
   "source": [
    "from pyspark.sql.functions import length\n",
    "data = spark_ratings.withColumn('length', length(spark_ratings['filteredReview']))\n",
    "data.show(5)"
   ]
  },
  {
   "cell_type": "code",
   "execution_count": 11,
   "metadata": {},
   "outputs": [],
   "source": [
    "from pyspark.ml.feature import Tokenizer, StopWordsRemover, HashingTF, IDF, StringIndexer"
   ]
  },
  {
   "cell_type": "code",
   "execution_count": 12,
   "metadata": {},
   "outputs": [
    {
     "name": "stdout",
     "output_type": "stream",
     "text": [
      "+-----+--------------------------+-----+-----------------------------------------------------------------------------------------------------------------------------------------------------------------------------------------------------------------------------------------------------------------------------------------------------------------------------------------------+------------------------------------------------------------------------------------------------------------------------------------------------------------------------------------------------------------------------------------------------------------------------------------------------------------------------------------------------------------------------------------------------+\n",
      "|index|name                      |label|filteredReview                                                                                                                                                                                                                                                                                                                                 |token_text                                                                                                                                                                                                                                                                                                                                                                                      |\n",
      "+-----+--------------------------+-----+-----------------------------------------------------------------------------------------------------------------------------------------------------------------------------------------------------------------------------------------------------------------------------------------------------------------------------------------------+------------------------------------------------------------------------------------------------------------------------------------------------------------------------------------------------------------------------------------------------------------------------------------------------------------------------------------------------------------------------------------------------+\n",
      "|0    |Rancho Valencia Resort Spa|5.0  |experience rancho valencia absolutely perfect beginning end felt special happy stayed would come back heart beat                                                                                                                                                                                                                               |[experience, rancho, valencia, absolutely, perfect, beginning, end, felt, special, happy, stayed, would, come, back, heart, beat]                                                                                                                                                                                                                                                               |\n",
      "|1    |Rancho Valencia Resort Spa|5.0  |amazing place everyone extremely warm welcoming 've stayed top notch places definitely top 2. great romantic getaway take kids along couple stuffed animals waiting girls upon arrival ca n't wait go back                                                                                                                                     |[amazing, place, everyone, extremely, warm, welcoming, 've, stayed, top, notch, places, definitely, top, 2., great, romantic, getaway, take, kids, along, couple, stuffed, animals, waiting, girls, upon, arrival, ca, n't, wait, go, back]                                                                                                                                                     |\n",
      "|2    |Rancho Valencia Resort Spa|5.0  |booked 3 night stay rancho valencia play tennis since one highest rated tennis resorts america place really top luxury standpoint overall experience villas really perfect staff great attention details includes fresh squeezed orange juice morning restaurants bar room service amazing tennis program really impressive well want come back|[booked, 3, night, stay, rancho, valencia, play, tennis, since, one, highest, rated, tennis, resorts, america, place, really, top, luxury, standpoint, overall, experience, villas, really, perfect, staff, great, attention, details, includes, fresh, squeezed, orange, juice, morning, restaurants, bar, room, service, amazing, tennis, program, really, impressive, well, want, come, back]|\n",
      "+-----+--------------------------+-----+-----------------------------------------------------------------------------------------------------------------------------------------------------------------------------------------------------------------------------------------------------------------------------------------------------------------------------------------------+------------------------------------------------------------------------------------------------------------------------------------------------------------------------------------------------------------------------------------------------------------------------------------------------------------------------------------------------------------------------------------------------+\n",
      "only showing top 3 rows\n",
      "\n"
     ]
    }
   ],
   "source": [
    "tokenizer = Tokenizer(inputCol=\"filteredReview\", outputCol=\"token_text\")\n",
    "tokenized = tokenizer.transform(spark_ratings)\n",
    "tokenized.show(3, truncate=False)"
   ]
  },
  {
   "cell_type": "code",
   "execution_count": 13,
   "metadata": {},
   "outputs": [
    {
     "name": "stdout",
     "output_type": "stream",
     "text": [
      "+-----+--------------------------+-----+-----------------------------------------------------------------------------------------------------------------------------------------------------------------------------------------------------------------------------------------------------------------------------------------------------------------------------------------------+------------------------------------------------------------------------------------------------------------------------------------------------------------------------------------------------------------------------------------------------------------------------------------------------------------------------------------------------------------------------------------------------+------------------------------------------------------------------------------------------------------------------------------------------------------------------------------------------------------------------------------------------------------------------------------------------------------------------------------------------------------------------------------------------------+\n",
      "|index|name                      |label|filteredReview                                                                                                                                                                                                                                                                                                                                 |token_text                                                                                                                                                                                                                                                                                                                                                                                      |stop_tokens                                                                                                                                                                                                                                                                                                                                                                                     |\n",
      "+-----+--------------------------+-----+-----------------------------------------------------------------------------------------------------------------------------------------------------------------------------------------------------------------------------------------------------------------------------------------------------------------------------------------------+------------------------------------------------------------------------------------------------------------------------------------------------------------------------------------------------------------------------------------------------------------------------------------------------------------------------------------------------------------------------------------------------+------------------------------------------------------------------------------------------------------------------------------------------------------------------------------------------------------------------------------------------------------------------------------------------------------------------------------------------------------------------------------------------------+\n",
      "|0    |Rancho Valencia Resort Spa|5.0  |experience rancho valencia absolutely perfect beginning end felt special happy stayed would come back heart beat                                                                                                                                                                                                                               |[experience, rancho, valencia, absolutely, perfect, beginning, end, felt, special, happy, stayed, would, come, back, heart, beat]                                                                                                                                                                                                                                                               |[experience, rancho, valencia, absolutely, perfect, beginning, end, felt, special, happy, stayed, come, back, heart, beat]                                                                                                                                                                                                                                                                      |\n",
      "|1    |Rancho Valencia Resort Spa|5.0  |amazing place everyone extremely warm welcoming 've stayed top notch places definitely top 2. great romantic getaway take kids along couple stuffed animals waiting girls upon arrival ca n't wait go back                                                                                                                                     |[amazing, place, everyone, extremely, warm, welcoming, 've, stayed, top, notch, places, definitely, top, 2., great, romantic, getaway, take, kids, along, couple, stuffed, animals, waiting, girls, upon, arrival, ca, n't, wait, go, back]                                                                                                                                                     |[amazing, place, everyone, extremely, warm, welcoming, 've, stayed, top, notch, places, definitely, top, 2., great, romantic, getaway, take, kids, along, couple, stuffed, animals, waiting, girls, upon, arrival, ca, n't, wait, go, back]                                                                                                                                                     |\n",
      "|2    |Rancho Valencia Resort Spa|5.0  |booked 3 night stay rancho valencia play tennis since one highest rated tennis resorts america place really top luxury standpoint overall experience villas really perfect staff great attention details includes fresh squeezed orange juice morning restaurants bar room service amazing tennis program really impressive well want come back|[booked, 3, night, stay, rancho, valencia, play, tennis, since, one, highest, rated, tennis, resorts, america, place, really, top, luxury, standpoint, overall, experience, villas, really, perfect, staff, great, attention, details, includes, fresh, squeezed, orange, juice, morning, restaurants, bar, room, service, amazing, tennis, program, really, impressive, well, want, come, back]|[booked, 3, night, stay, rancho, valencia, play, tennis, since, one, highest, rated, tennis, resorts, america, place, really, top, luxury, standpoint, overall, experience, villas, really, perfect, staff, great, attention, details, includes, fresh, squeezed, orange, juice, morning, restaurants, bar, room, service, amazing, tennis, program, really, impressive, well, want, come, back]|\n",
      "+-----+--------------------------+-----+-----------------------------------------------------------------------------------------------------------------------------------------------------------------------------------------------------------------------------------------------------------------------------------------------------------------------------------------------+------------------------------------------------------------------------------------------------------------------------------------------------------------------------------------------------------------------------------------------------------------------------------------------------------------------------------------------------------------------------------------------------+------------------------------------------------------------------------------------------------------------------------------------------------------------------------------------------------------------------------------------------------------------------------------------------------------------------------------------------------------------------------------------------------+\n",
      "only showing top 3 rows\n",
      "\n"
     ]
    }
   ],
   "source": [
    "stopremove = StopWordsRemover(inputCol='token_text',outputCol='stop_tokens')\n",
    "filtered = stopremove.transform(tokenized)\n",
    "filtered.show(3, truncate=False)"
   ]
  },
  {
   "cell_type": "code",
   "execution_count": 14,
   "metadata": {},
   "outputs": [
    {
     "name": "stdout",
     "output_type": "stream",
     "text": [
      "+-----+--------------------------+-----+-----------------------------------------------------------------------------------------------------------------------------------------------------------------------------------------------------------------------------------------------------------------------------------------------------------------------------------------------+------------------------------------------------------------------------------------------------------------------------------------------------------------------------------------------------------------------------------------------------------------------------------------------------------------------------------------------------------------------------------------------------+------------------------------------------------------------------------------------------------------------------------------------------------------------------------------------------------------------------------------------------------------------------------------------------------------------------------------------------------------------------------------------------------+--------------------------------------------------------------------------------------------------------+\n",
      "|index|name                      |label|filteredReview                                                                                                                                                                                                                                                                                                                                 |token_text                                                                                                                                                                                                                                                                                                                                                                                      |stop_tokens                                                                                                                                                                                                                                                                                                                                                                                     |hash_token                                                                                              |\n",
      "+-----+--------------------------+-----+-----------------------------------------------------------------------------------------------------------------------------------------------------------------------------------------------------------------------------------------------------------------------------------------------------------------------------------------------+------------------------------------------------------------------------------------------------------------------------------------------------------------------------------------------------------------------------------------------------------------------------------------------------------------------------------------------------------------------------------------------------+------------------------------------------------------------------------------------------------------------------------------------------------------------------------------------------------------------------------------------------------------------------------------------------------------------------------------------------------------------------------------------------------+--------------------------------------------------------------------------------------------------------+\n",
      "|0    |Rancho Valencia Resort Spa|5.0  |experience rancho valencia absolutely perfect beginning end felt special happy stayed would come back heart beat                                                                                                                                                                                                                               |[experience, rancho, valencia, absolutely, perfect, beginning, end, felt, special, happy, stayed, would, come, back, heart, beat]                                                                                                                                                                                                                                                               |[experience, rancho, valencia, absolutely, perfect, beginning, end, felt, special, happy, stayed, come, back, heart, beat]                                                                                                                                                                                                                                                                      |(16,[1,4,5,6,8,9,12,13,14,15],[1.0,1.0,1.0,1.0,1.0,4.0,3.0,1.0,1.0,1.0])                                |\n",
      "|1    |Rancho Valencia Resort Spa|5.0  |amazing place everyone extremely warm welcoming 've stayed top notch places definitely top 2. great romantic getaway take kids along couple stuffed animals waiting girls upon arrival ca n't wait go back                                                                                                                                     |[amazing, place, everyone, extremely, warm, welcoming, 've, stayed, top, notch, places, definitely, top, 2., great, romantic, getaway, take, kids, along, couple, stuffed, animals, waiting, girls, upon, arrival, ca, n't, wait, go, back]                                                                                                                                                     |[amazing, place, everyone, extremely, warm, welcoming, 've, stayed, top, notch, places, definitely, top, 2., great, romantic, getaway, take, kids, along, couple, stuffed, animals, waiting, girls, upon, arrival, ca, n't, wait, go, back]                                                                                                                                                     |(16,[2,3,4,5,6,7,9,10,12,13,14,15],[1.0,4.0,5.0,2.0,1.0,1.0,3.0,5.0,2.0,3.0,1.0,4.0])                   |\n",
      "|2    |Rancho Valencia Resort Spa|5.0  |booked 3 night stay rancho valencia play tennis since one highest rated tennis resorts america place really top luxury standpoint overall experience villas really perfect staff great attention details includes fresh squeezed orange juice morning restaurants bar room service amazing tennis program really impressive well want come back|[booked, 3, night, stay, rancho, valencia, play, tennis, since, one, highest, rated, tennis, resorts, america, place, really, top, luxury, standpoint, overall, experience, villas, really, perfect, staff, great, attention, details, includes, fresh, squeezed, orange, juice, morning, restaurants, bar, room, service, amazing, tennis, program, really, impressive, well, want, come, back]|[booked, 3, night, stay, rancho, valencia, play, tennis, since, one, highest, rated, tennis, resorts, america, place, really, top, luxury, standpoint, overall, experience, villas, really, perfect, staff, great, attention, details, includes, fresh, squeezed, orange, juice, morning, restaurants, bar, room, service, amazing, tennis, program, really, impressive, well, want, come, back]|(16,[0,1,2,3,4,5,6,8,9,10,11,12,13,14,15],[2.0,4.0,4.0,2.0,3.0,4.0,3.0,1.0,5.0,2.0,1.0,5.0,4.0,5.0,3.0])|\n",
      "+-----+--------------------------+-----+-----------------------------------------------------------------------------------------------------------------------------------------------------------------------------------------------------------------------------------------------------------------------------------------------------------------------------------------------+------------------------------------------------------------------------------------------------------------------------------------------------------------------------------------------------------------------------------------------------------------------------------------------------------------------------------------------------------------------------------------------------+------------------------------------------------------------------------------------------------------------------------------------------------------------------------------------------------------------------------------------------------------------------------------------------------------------------------------------------------------------------------------------------------+--------------------------------------------------------------------------------------------------------+\n",
      "only showing top 3 rows\n",
      "\n"
     ]
    }
   ],
   "source": [
    "hashingTF = HashingTF(inputCol=\"stop_tokens\", outputCol='hash_token',numFeatures=pow(2,4))\n",
    "hashed_df = hashingTF.transform(filtered)\n",
    "hashed_df.show(3, truncate=False)"
   ]
  },
  {
   "cell_type": "code",
   "execution_count": 15,
   "metadata": {},
   "outputs": [],
   "source": [
    "idf = IDF(inputCol=\"hash_token\", outputCol=\"idf_token\")\n",
    "idfModel = idf.fit(hashed_df)\n",
    "rescaledData = idfModel.transform(hashed_df)"
   ]
  },
  {
   "cell_type": "code",
   "execution_count": 16,
   "metadata": {},
   "outputs": [],
   "source": [
    "tokenizer = Tokenizer(inputCol=\"filteredReview\", outputCol=\"token_text\")\n",
    "stopremove = StopWordsRemover(inputCol='token_text',outputCol='stop_tokens')\n",
    "hashingTF = HashingTF(inputCol=\"stop_tokens\", outputCol='hash_token',numFeatures=pow(2,4))\n",
    "idf = IDF(inputCol=\"hash_token\", outputCol=\"idf_token\")"
   ]
  },
  {
   "cell_type": "code",
   "execution_count": 17,
   "metadata": {},
   "outputs": [],
   "source": [
    " from pyspark.ml.feature import VectorAssembler\n",
    "from pyspark.ml.linalg import Vector\n",
    "\n",
    "# Create feature vectors\n",
    "clean_up = VectorAssembler(inputCols=['idf_token', 'length'], outputCol='features')"
   ]
  },
  {
   "cell_type": "code",
   "execution_count": 18,
   "metadata": {},
   "outputs": [],
   "source": [
    "# Create a and run a data processing Pipeline\n",
    "from pyspark.ml import Pipeline\n",
    "data_prep_pipeline = Pipeline(stages=[tokenizer, stopremove, hashingTF, idf, clean_up])"
   ]
  },
  {
   "cell_type": "code",
   "execution_count": 19,
   "metadata": {},
   "outputs": [
    {
     "name": "stdout",
     "output_type": "stream",
     "text": [
      "+-----+--------------------+-----+--------------------+------+--------------------+--------------------+--------------------+--------------------+--------------------+\n",
      "|index|                name|label|      filteredReview|length|          token_text|         stop_tokens|          hash_token|           idf_token|            features|\n",
      "+-----+--------------------+-----+--------------------+------+--------------------+--------------------+--------------------+--------------------+--------------------+\n",
      "|    0|Rancho Valencia R...|  5.0|experience rancho...|   112|[experience, ranc...|[experience, ranc...|(16,[1,4,5,6,8,9,...|(16,[1,4,5,6,8,9,...|[0.0,0.1847442471...|\n",
      "|    1|Rancho Valencia R...|  5.0|amazing place eve...|   202|[amazing, place, ...|[amazing, place, ...|(16,[2,3,4,5,6,7,...|(16,[2,3,4,5,6,7,...|[0.0,0.0,0.289650...|\n",
      "|    2|Rancho Valencia R...|  5.0|booked 3 night st...|   335|[booked, 3, night...|[booked, 3, night...|(16,[0,1,2,3,4,5,...|(16,[0,1,2,3,4,5,...|[0.59916955914253...|\n",
      "+-----+--------------------+-----+--------------------+------+--------------------+--------------------+--------------------+--------------------+--------------------+\n",
      "only showing top 3 rows\n",
      "\n"
     ]
    }
   ],
   "source": [
    " # Fit and transform the pipeline\n",
    "cleaner = data_prep_pipeline.fit(data)\n",
    "cleaned = cleaner.transform(data)\n",
    "cleaned.show(3)"
   ]
  },
  {
   "cell_type": "code",
   "execution_count": 21,
   "metadata": {},
   "outputs": [
    {
     "name": "stdout",
     "output_type": "stream",
     "text": [
      "+-----+--------------------+\n",
      "|label|            features|\n",
      "+-----+--------------------+\n",
      "|  5.0|[0.0,0.1847442471...|\n",
      "|  5.0|[0.0,0.0,0.289650...|\n",
      "|  5.0|[0.59916955914253...|\n",
      "|  2.0|[0.29958477957126...|\n",
      "|  5.0|[1.49792389785632...|\n",
      "|  5.0|[0.59916955914253...|\n",
      "|  5.0|[0.59916955914253...|\n",
      "|  5.0|(17,[1,2,3,4,9,10...|\n",
      "|  5.0|[0.59916955914253...|\n",
      "|  5.0|[0.59916955914253...|\n",
      "|  5.0|[0.29958477957126...|\n",
      "|  5.0|[0.29958477957126...|\n",
      "|  5.0|[1.49792389785632...|\n",
      "|  5.0|[0.29958477957126...|\n",
      "|  5.0|[0.89875433871379...|\n",
      "|  4.0|[0.59916955914253...|\n",
      "|  5.0|[0.59916955914253...|\n",
      "|  3.0|[0.59916955914253...|\n",
      "|  5.0|[0.59916955914253...|\n",
      "|  4.0|[0.0,0.7389769886...|\n",
      "+-----+--------------------+\n",
      "only showing top 20 rows\n",
      "\n"
     ]
    }
   ],
   "source": [
    "cleaned.select(['label', 'features']).show()"
   ]
  },
  {
   "cell_type": "code",
   "execution_count": 22,
   "metadata": {},
   "outputs": [],
   "source": [
    "from pyspark.ml.classification import NaiveBayes\n",
    "# Break data down into a training set and a testing set\n",
    "training, testing = cleaned.randomSplit([0.7, 0.3])"
   ]
  },
  {
   "cell_type": "code",
   "execution_count": 34,
   "metadata": {},
   "outputs": [],
   "source": [
    "# Create a Naive Bayes model and fit training data\n",
    "nb = NaiveBayes()\n",
    "predictor = nb.fit(training)"
   ]
  },
  {
   "cell_type": "code",
   "execution_count": 31,
   "metadata": {},
   "outputs": [
    {
     "name": "stdout",
     "output_type": "stream",
     "text": [
      "+-----+--------------------+-----+--------------------+------+--------------------+--------------------+--------------------+--------------------+--------------------+--------------------+--------------------+----------+\n",
      "|index|                name|label|      filteredReview|length|          token_text|         stop_tokens|          hash_token|           idf_token|            features|       rawPrediction|         probability|prediction|\n",
      "+-----+--------------------+-----+--------------------+------+--------------------+--------------------+--------------------+--------------------+--------------------+--------------------+--------------------+----------+\n",
      "|    1|Rancho Valencia R...|  5.0|amazing place eve...|   202|[amazing, place, ...|[amazing, place, ...|(16,[2,3,4,5,6,7,...|(16,[2,3,4,5,6,7,...|[0.0,0.0,0.289650...|[-65.991521015058...|[0.04315214343598...|      27.0|\n",
      "| 1009|Hotel Zetta San F...|  4.6|good really quiet...|   195|[good, really, qu...|[good, really, qu...|(16,[0,2,3,4,5,6,...|(16,[0,2,3,4,5,6,...|[0.59916955914253...|[-59.708104068869...|[0.04943803186284...|      27.0|\n",
      "| 1012|Hotel Zetta San F...|  4.8|bad n/a good mode...|    28|[bad, n/a, good, ...|[bad, n/a, good, ...|(16,[8,9,10,14],[...|(16,[8,9,10,14],[...|(17,[8,9,10,14,16...|[-11.771583183157...|[0.05403735160741...|      27.0|\n",
      "| 1015|Hotel Zetta San F...|  4.6|bad location wise...|   132|[bad, location, w...|[bad, location, w...|(16,[0,1,3,5,6,8,...|(16,[0,1,3,5,6,8,...|[0.59916955914253...|[-41.472404597213...|[0.04744896942488...|      27.0|\n",
      "| 1016|Hotel Zetta San F...|  4.8|bad rooms connect...|   107|[bad, rooms, conn...|[bad, rooms, conn...|(16,[0,1,2,4,7,8,...|(16,[0,1,2,4,7,8,...|(17,[0,1,2,4,7,8,...|[-34.068835108797...|[0.04379719784240...|      27.0|\n",
      "| 1020|Hotel Zetta San F...|  4.4|good hotel staff ...|   101|[good, hotel, sta...|[good, hotel, sta...|(16,[1,3,4,6,8,9,...|(16,[1,3,4,6,8,9,...|[0.0,0.7389769886...|[-29.496355708451...|[0.04204086373714...|      27.0|\n",
      "| 1021|Hotel Zetta San F...|  4.6|good room lovely ...|    96|[good, room, love...|[good, room, love...|(16,[4,6,7,8,9,10...|(16,[4,6,7,8,9,10...|[0.0,0.0,0.0,0.0,...|[-33.041398904384...|[0.04585695035326...|      27.0|\n",
      "|  103|           The Boxer| 3.95|bad cost valet go...|    35|[bad, cost, valet...|[bad, cost, valet...|(16,[8,10,12,13,1...|(16,[8,10,12,13,1...|(17,[8,10,12,13,1...|[-14.496941446881...|[0.05249032748419...|      27.0|\n",
      "|  106|           The Boxer|  5.0|great location ex...|    73|[great, location,...|[great, location,...|(16,[1,2,4,5,9,12...|(16,[1,2,4,5,9,12...|(17,[1,2,4,5,9,12...|[-19.422686216397...|[0.04830147766360...|      27.0|\n",
      "|  109|           The Boxer|  2.9|bad booked 2 room...|   974|[bad, booked, 2, ...|[bad, booked, 2, ...|(16,[0,1,2,3,4,5,...|(16,[0,1,2,3,4,5,...|[1.49792389785632...|[-313.28759294596...|[0.13543200447398...|      19.0|\n",
      "|   11|Hampton Inn Suite...|  5.0|friendly staff gr...|   177|[friendly, staff,...|[friendly, staff,...|(16,[0,1,2,4,5,6,...|(16,[0,1,2,4,5,6,...|[0.29958477957126...|[-45.687955263067...|[0.04356100105701...|      27.0|\n",
      "|  114|           The Boxer| 3.35|fitness center sm...|    48|[fitness, center,...|[fitness, center,...|(16,[5,8,13,14],[...|(16,[5,8,13,14],[...|(17,[5,8,13,14,16...|[-16.085433497077...|[0.04918982901065...|      27.0|\n",
      "|  117|           The Boxer|  5.0|good quaint hotel...|    60|[good, quaint, ho...|[good, quaint, ho...|(16,[0,1,3,4,8,10...|(16,[0,1,3,4,8,10...|(17,[0,1,3,4,8,10...|[-21.671113079619...|[0.04077200339157...|      27.0|\n",
      "|  118|           The Boxer| 3.75|bad breakfast two...|   271|[bad, breakfast, ...|[bad, breakfast, ...|(16,[0,1,2,3,4,5,...|(16,[0,1,2,3,4,5,...|[0.59916955914253...|[-91.445748350552...|[0.06485827951233...|      27.0|\n",
      "|  122|           The Boxer|  5.0|good hotel enviro...|   211|[good, hotel, env...|[good, hotel, env...|(16,[0,1,2,3,4,5,...|(16,[0,1,2,3,4,5,...|[0.89875433871379...|[-63.141560876561...|[0.04057182243013...|      27.0|\n",
      "|  124|           The Boxer| 3.95|bad room small go...|    68|[bad, room, small...|[bad, room, small...|(16,[0,1,4,5,8,9,...|(16,[0,1,4,5,8,9,...|(17,[0,1,4,5,8,9,...|[-23.946295056115...|[0.06031150104157...|      27.0|\n",
      "|  125|           The Boxer|  5.0|good marvelous lo...|    64|[good, marvelous,...|[good, marvelous,...|(16,[3,4,6,8,9,11...|(16,[3,4,6,8,9,11...|(17,[3,4,6,8,9,11...|[-22.818094426429...|[0.04380015453518...|      27.0|\n",
      "|  129|           The Boxer|  5.0|     bed comfortable|    15|  [bed, comfortable]|  [bed, comfortable]|(16,[2,9],[1.0,1.0])|(16,[2,9],[0.2896...|(17,[2,9,16],[0.2...|[-6.6450978114871...|[0.05636965950095...|      27.0|\n",
      "|  132|           The Boxer|  4.6|bad pillows flat ...|    84|[bad, pillows, fl...|[bad, pillows, fl...|(16,[1,2,3,5,6,7,...|(16,[1,2,3,5,6,7,...|[0.0,0.1847442471...|[-27.904964238157...|[0.06399201037645...|      27.0|\n",
      "|  135|           The Boxer| 4.15|bad minibar heati...|   338|[bad, minibar, he...|[bad, minibar, he...|(16,[0,1,2,3,4,6,...|(16,[0,1,2,3,4,6,...|[0.29958477957126...|[-95.715695299819...|[0.04775745666069...|      27.0|\n",
      "+-----+--------------------+-----+--------------------+------+--------------------+--------------------+--------------------+--------------------+--------------------+--------------------+--------------------+----------+\n",
      "only showing top 20 rows\n",
      "\n"
     ]
    }
   ],
   "source": [
    "# Tranform the model with the testing data\n",
    "test_results = predictor.transform(testing)\n",
    "test_results.show(20)"
   ]
  },
  {
   "cell_type": "code",
   "execution_count": 29,
   "metadata": {},
   "outputs": [
    {
     "data": {
      "text/plain": [
       "array([5.  , 2.  , 4.  , 3.  , 1.  , 4.8 , 4.6 , 3.55, 4.4 , 4.15, 2.5 ,\n",
       "       3.95, 2.9 , 3.35, 3.75, 4.5 , 2.1 , 1.65, 3.15, 2.7 , 1.45, 2.75,\n",
       "       2.3 , 3.5 , 4.25, 1.25, 1.9 , 3.45, 3.25, 4.75])"
      ]
     },
     "execution_count": 29,
     "metadata": {},
     "output_type": "execute_result"
    }
   ],
   "source": [
    "df[\"label\"].unique()"
   ]
  },
  {
   "cell_type": "code",
   "execution_count": null,
   "metadata": {},
   "outputs": [],
   "source": []
  }
 ],
 "metadata": {
  "kernel_info": {
   "name": "python3"
  },
  "kernelspec": {
   "display_name": "Python 3",
   "language": "python",
   "name": "python3"
  },
  "language_info": {
   "codemirror_mode": {
    "name": "ipython",
    "version": 3
   },
   "file_extension": ".py",
   "mimetype": "text/x-python",
   "name": "python",
   "nbconvert_exporter": "python",
   "pygments_lexer": "ipython3",
   "version": "3.6.5"
  },
  "nteract": {
   "version": "0.12.3"
  }
 },
 "nbformat": 4,
 "nbformat_minor": 2
}
