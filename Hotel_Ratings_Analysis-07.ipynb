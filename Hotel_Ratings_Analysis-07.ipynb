{
 "cells": [
  {
   "cell_type": "markdown",
   "metadata": {},
   "source": [
    "# Machine Learning: Supervised Learning"
   ]
  },
  {
   "cell_type": "code",
   "execution_count": 1,
   "metadata": {},
   "outputs": [],
   "source": [
    "# Dependencies\n",
    "import pandas as pd\n",
    "import sqlite3"
   ]
  },
  {
   "cell_type": "code",
   "execution_count": 2,
   "metadata": {
    "scrolled": true
   },
   "outputs": [
    {
     "data": {
      "text/html": [
       "<div>\n",
       "<style scoped>\n",
       "    .dataframe tbody tr th:only-of-type {\n",
       "        vertical-align: middle;\n",
       "    }\n",
       "\n",
       "    .dataframe tbody tr th {\n",
       "        vertical-align: top;\n",
       "    }\n",
       "\n",
       "    .dataframe thead th {\n",
       "        text-align: right;\n",
       "    }\n",
       "</style>\n",
       "<table border=\"1\" class=\"dataframe\">\n",
       "  <thead>\n",
       "    <tr style=\"text-align: right;\">\n",
       "      <th></th>\n",
       "      <th>Name</th>\n",
       "      <th>reviews_rating</th>\n",
       "      <th>airportDistance_km</th>\n",
       "      <th>airport</th>\n",
       "      <th>apartment</th>\n",
       "      <th>attractions</th>\n",
       "      <th>bars</th>\n",
       "      <th>beach</th>\n",
       "      <th>boutique</th>\n",
       "      <th>breakfast</th>\n",
       "      <th>...</th>\n",
       "      <th>2009</th>\n",
       "      <th>2010</th>\n",
       "      <th>2011</th>\n",
       "      <th>2012</th>\n",
       "      <th>2013</th>\n",
       "      <th>2014</th>\n",
       "      <th>2015</th>\n",
       "      <th>2016</th>\n",
       "      <th>2017</th>\n",
       "      <th>2018</th>\n",
       "    </tr>\n",
       "  </thead>\n",
       "  <tbody>\n",
       "    <tr>\n",
       "      <th>0</th>\n",
       "      <td>Rancho Valencia Resort Spa</td>\n",
       "      <td>5.0</td>\n",
       "      <td>14.308848055373579</td>\n",
       "      <td>0.0</td>\n",
       "      <td>0.0</td>\n",
       "      <td>0.0</td>\n",
       "      <td>0.0</td>\n",
       "      <td>0.0</td>\n",
       "      <td>0.0</td>\n",
       "      <td>0.0</td>\n",
       "      <td>...</td>\n",
       "      <td>0</td>\n",
       "      <td>0</td>\n",
       "      <td>0</td>\n",
       "      <td>0</td>\n",
       "      <td>1</td>\n",
       "      <td>0</td>\n",
       "      <td>0</td>\n",
       "      <td>0</td>\n",
       "      <td>0</td>\n",
       "      <td>0</td>\n",
       "    </tr>\n",
       "    <tr>\n",
       "      <th>1</th>\n",
       "      <td>Rancho Valencia Resort Spa</td>\n",
       "      <td>5.0</td>\n",
       "      <td>14.308848055373579</td>\n",
       "      <td>0.0</td>\n",
       "      <td>0.0</td>\n",
       "      <td>0.0</td>\n",
       "      <td>0.0</td>\n",
       "      <td>0.0</td>\n",
       "      <td>0.0</td>\n",
       "      <td>0.0</td>\n",
       "      <td>...</td>\n",
       "      <td>0</td>\n",
       "      <td>0</td>\n",
       "      <td>0</td>\n",
       "      <td>0</td>\n",
       "      <td>0</td>\n",
       "      <td>1</td>\n",
       "      <td>0</td>\n",
       "      <td>0</td>\n",
       "      <td>0</td>\n",
       "      <td>0</td>\n",
       "    </tr>\n",
       "    <tr>\n",
       "      <th>2</th>\n",
       "      <td>Rancho Valencia Resort Spa</td>\n",
       "      <td>5.0</td>\n",
       "      <td>14.308848055373579</td>\n",
       "      <td>0.0</td>\n",
       "      <td>0.0</td>\n",
       "      <td>0.0</td>\n",
       "      <td>0.0</td>\n",
       "      <td>0.0</td>\n",
       "      <td>0.0</td>\n",
       "      <td>0.0</td>\n",
       "      <td>...</td>\n",
       "      <td>0</td>\n",
       "      <td>0</td>\n",
       "      <td>0</td>\n",
       "      <td>0</td>\n",
       "      <td>0</td>\n",
       "      <td>0</td>\n",
       "      <td>1</td>\n",
       "      <td>0</td>\n",
       "      <td>0</td>\n",
       "      <td>0</td>\n",
       "    </tr>\n",
       "    <tr>\n",
       "      <th>3</th>\n",
       "      <td>Aloft Arundel Mills</td>\n",
       "      <td>2.0</td>\n",
       "      <td>4.668331572785505</td>\n",
       "      <td>0.0</td>\n",
       "      <td>0.0</td>\n",
       "      <td>0.0</td>\n",
       "      <td>0.0</td>\n",
       "      <td>0.0</td>\n",
       "      <td>0.0</td>\n",
       "      <td>0.0</td>\n",
       "      <td>...</td>\n",
       "      <td>0</td>\n",
       "      <td>0</td>\n",
       "      <td>0</td>\n",
       "      <td>0</td>\n",
       "      <td>0</td>\n",
       "      <td>0</td>\n",
       "      <td>0</td>\n",
       "      <td>1</td>\n",
       "      <td>0</td>\n",
       "      <td>0</td>\n",
       "    </tr>\n",
       "    <tr>\n",
       "      <th>4</th>\n",
       "      <td>Aloft Arundel Mills</td>\n",
       "      <td>5.0</td>\n",
       "      <td>4.668331572785505</td>\n",
       "      <td>0.0</td>\n",
       "      <td>0.0</td>\n",
       "      <td>0.0</td>\n",
       "      <td>0.0</td>\n",
       "      <td>0.0</td>\n",
       "      <td>0.0</td>\n",
       "      <td>0.0</td>\n",
       "      <td>...</td>\n",
       "      <td>0</td>\n",
       "      <td>0</td>\n",
       "      <td>0</td>\n",
       "      <td>0</td>\n",
       "      <td>0</td>\n",
       "      <td>0</td>\n",
       "      <td>0</td>\n",
       "      <td>1</td>\n",
       "      <td>0</td>\n",
       "      <td>0</td>\n",
       "    </tr>\n",
       "  </tbody>\n",
       "</table>\n",
       "<p>5 rows × 126 columns</p>\n",
       "</div>"
      ],
      "text/plain": [
       "                         Name  reviews_rating  airportDistance_km airport  \\\n",
       "0  Rancho Valencia Resort Spa             5.0  14.308848055373579     0.0   \n",
       "1  Rancho Valencia Resort Spa             5.0  14.308848055373579     0.0   \n",
       "2  Rancho Valencia Resort Spa             5.0  14.308848055373579     0.0   \n",
       "3         Aloft Arundel Mills             2.0   4.668331572785505     0.0   \n",
       "4         Aloft Arundel Mills             5.0   4.668331572785505     0.0   \n",
       "\n",
       "  apartment attractions bars beach boutique breakfast ...  2009 2010 2011  \\\n",
       "0       0.0         0.0  0.0   0.0      0.0       0.0 ...     0    0    0   \n",
       "1       0.0         0.0  0.0   0.0      0.0       0.0 ...     0    0    0   \n",
       "2       0.0         0.0  0.0   0.0      0.0       0.0 ...     0    0    0   \n",
       "3       0.0         0.0  0.0   0.0      0.0       0.0 ...     0    0    0   \n",
       "4       0.0         0.0  0.0   0.0      0.0       0.0 ...     0    0    0   \n",
       "\n",
       "  2012 2013 2014 2015 2016 2017 2018  \n",
       "0    0    1    0    0    0    0    0  \n",
       "1    0    0    1    0    0    0    0  \n",
       "2    0    0    0    1    0    0    0  \n",
       "3    0    0    0    0    1    0    0  \n",
       "4    0    0    0    0    1    0    0  \n",
       "\n",
       "[5 rows x 126 columns]"
      ]
     },
     "execution_count": 2,
     "metadata": {},
     "output_type": "execute_result"
    }
   ],
   "source": [
    "# Connect to a sqlite database\n",
    "conn = sqlite3.connect(\"Data/Hotels.db\")\n",
    "\n",
    "# Get the data from alldata table\n",
    "alldata = pd.read_sql_query(\"select * from alldata;\", conn)\n",
    "conn.close()\n",
    "\n",
    "# Preview the dataframe\n",
    "alldata.head()"
   ]
  },
  {
   "cell_type": "code",
   "execution_count": 3,
   "metadata": {},
   "outputs": [],
   "source": [
    "# Convert hotel features and locations from string to float\n",
    "col_headers = list(alldata.columns)[2:]\n",
    "\n",
    "alldata[col_headers] = alldata[col_headers].apply(pd.to_numeric, errors = \"coerce\", axis = 1)\n",
    "\n",
    "# Convert ratings, hotel features, locations, years from float to int\n",
    "col_headers2 = list(alldata.columns)[1:]\n",
    "\n",
    "alldata[col_headers2] = alldata[col_headers2].astype(int)"
   ]
  },
  {
   "cell_type": "code",
   "execution_count": 4,
   "metadata": {},
   "outputs": [
    {
     "data": {
      "text/html": [
       "<div>\n",
       "<style scoped>\n",
       "    .dataframe tbody tr th:only-of-type {\n",
       "        vertical-align: middle;\n",
       "    }\n",
       "\n",
       "    .dataframe tbody tr th {\n",
       "        vertical-align: top;\n",
       "    }\n",
       "\n",
       "    .dataframe thead th {\n",
       "        text-align: right;\n",
       "    }\n",
       "</style>\n",
       "<table border=\"1\" class=\"dataframe\">\n",
       "  <thead>\n",
       "    <tr style=\"text-align: right;\">\n",
       "      <th></th>\n",
       "      <th>reviews_rating</th>\n",
       "      <th>airportDistance_km</th>\n",
       "      <th>airport</th>\n",
       "      <th>apartment</th>\n",
       "      <th>attractions</th>\n",
       "      <th>bars</th>\n",
       "      <th>beach</th>\n",
       "      <th>boutique</th>\n",
       "      <th>breakfast</th>\n",
       "      <th>cabins</th>\n",
       "      <th>...</th>\n",
       "      <th>2009</th>\n",
       "      <th>2010</th>\n",
       "      <th>2011</th>\n",
       "      <th>2012</th>\n",
       "      <th>2013</th>\n",
       "      <th>2014</th>\n",
       "      <th>2015</th>\n",
       "      <th>2016</th>\n",
       "      <th>2017</th>\n",
       "      <th>2018</th>\n",
       "    </tr>\n",
       "    <tr>\n",
       "      <th>Name</th>\n",
       "      <th></th>\n",
       "      <th></th>\n",
       "      <th></th>\n",
       "      <th></th>\n",
       "      <th></th>\n",
       "      <th></th>\n",
       "      <th></th>\n",
       "      <th></th>\n",
       "      <th></th>\n",
       "      <th></th>\n",
       "      <th></th>\n",
       "      <th></th>\n",
       "      <th></th>\n",
       "      <th></th>\n",
       "      <th></th>\n",
       "      <th></th>\n",
       "      <th></th>\n",
       "      <th></th>\n",
       "      <th></th>\n",
       "      <th></th>\n",
       "      <th></th>\n",
       "    </tr>\n",
       "  </thead>\n",
       "  <tbody>\n",
       "    <tr>\n",
       "      <th>1906 Lodge At Coronado Beach</th>\n",
       "      <td>5.0</td>\n",
       "      <td>4.0</td>\n",
       "      <td>0.0</td>\n",
       "      <td>0.0</td>\n",
       "      <td>0.0</td>\n",
       "      <td>0.0</td>\n",
       "      <td>0.0</td>\n",
       "      <td>0.0</td>\n",
       "      <td>0.0</td>\n",
       "      <td>0.0</td>\n",
       "      <td>...</td>\n",
       "      <td>0.0</td>\n",
       "      <td>0.0</td>\n",
       "      <td>0.0</td>\n",
       "      <td>0.0</td>\n",
       "      <td>0.0</td>\n",
       "      <td>0.0</td>\n",
       "      <td>1.0</td>\n",
       "      <td>0.0</td>\n",
       "      <td>0.0</td>\n",
       "      <td>0.0</td>\n",
       "    </tr>\n",
       "    <tr>\n",
       "      <th>250 Main Hotel</th>\n",
       "      <td>5.0</td>\n",
       "      <td>4.0</td>\n",
       "      <td>0.0</td>\n",
       "      <td>0.0</td>\n",
       "      <td>0.0</td>\n",
       "      <td>0.0</td>\n",
       "      <td>0.0</td>\n",
       "      <td>0.0</td>\n",
       "      <td>0.0</td>\n",
       "      <td>0.0</td>\n",
       "      <td>...</td>\n",
       "      <td>0.0</td>\n",
       "      <td>0.0</td>\n",
       "      <td>0.0</td>\n",
       "      <td>0.0</td>\n",
       "      <td>0.0</td>\n",
       "      <td>0.0</td>\n",
       "      <td>0.0</td>\n",
       "      <td>1.0</td>\n",
       "      <td>0.0</td>\n",
       "      <td>0.0</td>\n",
       "    </tr>\n",
       "    <tr>\n",
       "      <th>AC Hotel Chicago Downtown</th>\n",
       "      <td>4.0</td>\n",
       "      <td>15.0</td>\n",
       "      <td>0.0</td>\n",
       "      <td>0.0</td>\n",
       "      <td>0.0</td>\n",
       "      <td>0.0</td>\n",
       "      <td>0.0</td>\n",
       "      <td>0.0</td>\n",
       "      <td>0.0</td>\n",
       "      <td>0.0</td>\n",
       "      <td>...</td>\n",
       "      <td>0.0</td>\n",
       "      <td>0.0</td>\n",
       "      <td>0.0</td>\n",
       "      <td>0.0</td>\n",
       "      <td>0.0</td>\n",
       "      <td>0.0</td>\n",
       "      <td>0.0</td>\n",
       "      <td>0.0</td>\n",
       "      <td>1.0</td>\n",
       "      <td>0.0</td>\n",
       "    </tr>\n",
       "    <tr>\n",
       "      <th>AC Hotel Miami Beach</th>\n",
       "      <td>5.0</td>\n",
       "      <td>16.0</td>\n",
       "      <td>0.0</td>\n",
       "      <td>0.0</td>\n",
       "      <td>0.0</td>\n",
       "      <td>0.0</td>\n",
       "      <td>0.0</td>\n",
       "      <td>0.0</td>\n",
       "      <td>0.0</td>\n",
       "      <td>0.0</td>\n",
       "      <td>...</td>\n",
       "      <td>0.0</td>\n",
       "      <td>0.0</td>\n",
       "      <td>0.0</td>\n",
       "      <td>0.0</td>\n",
       "      <td>0.0</td>\n",
       "      <td>0.0</td>\n",
       "      <td>0.0</td>\n",
       "      <td>1.0</td>\n",
       "      <td>0.0</td>\n",
       "      <td>0.0</td>\n",
       "    </tr>\n",
       "    <tr>\n",
       "      <th>AC Hotel by Marriott Boston Downtown</th>\n",
       "      <td>5.0</td>\n",
       "      <td>4.0</td>\n",
       "      <td>0.0</td>\n",
       "      <td>0.0</td>\n",
       "      <td>0.0</td>\n",
       "      <td>0.0</td>\n",
       "      <td>0.0</td>\n",
       "      <td>0.0</td>\n",
       "      <td>0.0</td>\n",
       "      <td>0.0</td>\n",
       "      <td>...</td>\n",
       "      <td>0.0</td>\n",
       "      <td>0.0</td>\n",
       "      <td>0.0</td>\n",
       "      <td>0.0</td>\n",
       "      <td>0.0</td>\n",
       "      <td>0.0</td>\n",
       "      <td>0.0</td>\n",
       "      <td>0.0</td>\n",
       "      <td>0.0</td>\n",
       "      <td>1.0</td>\n",
       "    </tr>\n",
       "  </tbody>\n",
       "</table>\n",
       "<p>5 rows × 125 columns</p>\n",
       "</div>"
      ],
      "text/plain": [
       "                                      reviews_rating  airportDistance_km  \\\n",
       "Name                                                                       \n",
       "1906 Lodge At Coronado Beach                     5.0                 4.0   \n",
       "250 Main Hotel                                   5.0                 4.0   \n",
       "AC Hotel Chicago Downtown                        4.0                15.0   \n",
       "AC Hotel Miami Beach                             5.0                16.0   \n",
       "AC Hotel by Marriott Boston Downtown             5.0                 4.0   \n",
       "\n",
       "                                      airport  apartment  attractions  bars  \\\n",
       "Name                                                                          \n",
       "1906 Lodge At Coronado Beach              0.0        0.0          0.0   0.0   \n",
       "250 Main Hotel                            0.0        0.0          0.0   0.0   \n",
       "AC Hotel Chicago Downtown                 0.0        0.0          0.0   0.0   \n",
       "AC Hotel Miami Beach                      0.0        0.0          0.0   0.0   \n",
       "AC Hotel by Marriott Boston Downtown      0.0        0.0          0.0   0.0   \n",
       "\n",
       "                                      beach  boutique  breakfast  cabins  \\\n",
       "Name                                                                       \n",
       "1906 Lodge At Coronado Beach            0.0       0.0        0.0     0.0   \n",
       "250 Main Hotel                          0.0       0.0        0.0     0.0   \n",
       "AC Hotel Chicago Downtown               0.0       0.0        0.0     0.0   \n",
       "AC Hotel Miami Beach                    0.0       0.0        0.0     0.0   \n",
       "AC Hotel by Marriott Boston Downtown    0.0       0.0        0.0     0.0   \n",
       "\n",
       "                                      ...   2009  2010  2011  2012  2013  \\\n",
       "Name                                  ...                                  \n",
       "1906 Lodge At Coronado Beach          ...    0.0   0.0   0.0   0.0   0.0   \n",
       "250 Main Hotel                        ...    0.0   0.0   0.0   0.0   0.0   \n",
       "AC Hotel Chicago Downtown             ...    0.0   0.0   0.0   0.0   0.0   \n",
       "AC Hotel Miami Beach                  ...    0.0   0.0   0.0   0.0   0.0   \n",
       "AC Hotel by Marriott Boston Downtown  ...    0.0   0.0   0.0   0.0   0.0   \n",
       "\n",
       "                                      2014  2015  2016  2017  2018  \n",
       "Name                                                                \n",
       "1906 Lodge At Coronado Beach           0.0   1.0   0.0   0.0   0.0  \n",
       "250 Main Hotel                         0.0   0.0   1.0   0.0   0.0  \n",
       "AC Hotel Chicago Downtown              0.0   0.0   0.0   1.0   0.0  \n",
       "AC Hotel Miami Beach                   0.0   0.0   1.0   0.0   0.0  \n",
       "AC Hotel by Marriott Boston Downtown   0.0   0.0   0.0   0.0   1.0  \n",
       "\n",
       "[5 rows x 125 columns]"
      ]
     },
     "execution_count": 4,
     "metadata": {},
     "output_type": "execute_result"
    }
   ],
   "source": [
    "# Group the hotels by name\n",
    "df = alldata.groupby(\"Name\").median()\n",
    "df.head()"
   ]
  },
  {
   "cell_type": "markdown",
   "metadata": {},
   "source": [
    "## Scale the data"
   ]
  },
  {
   "cell_type": "code",
   "execution_count": 5,
   "metadata": {},
   "outputs": [],
   "source": [
    "# Dependencies\n",
    "from sklearn.preprocessing import StandardScaler\n",
    "from sklearn.feature_selection import VarianceThreshold"
   ]
  },
  {
   "cell_type": "code",
   "execution_count": 6,
   "metadata": {},
   "outputs": [
    {
     "name": "stdout",
     "output_type": "stream",
     "text": [
      "(1670, 124) (1670,)\n"
     ]
    }
   ],
   "source": [
    "# Define the response (y) and the explanatory (X) variables\n",
    "X = df.drop(columns = [\"reviews_rating\"], axis = 1)\n",
    "y = df[\"reviews_rating\"]\n",
    "\n",
    "# Standardise the explanatory variables\n",
    "scaler = StandardScaler()\n",
    "X_standard = scaler.fit_transform(X)\n",
    "\n",
    "# Convert review rating into whole number\n",
    "y = y.astype(int)\n",
    "\n",
    "print(X_standard.shape, y.shape)"
   ]
  },
  {
   "cell_type": "code",
   "execution_count": 7,
   "metadata": {},
   "outputs": [
    {
     "name": "stdout",
     "output_type": "stream",
     "text": [
      "Number of variables before thresholding: 125\n",
      "Number of variables after thresholding: 121\n"
     ]
    }
   ],
   "source": [
    "# Create a thresholder model\n",
    "thresholder = VarianceThreshold(threshold = 0.5)\n",
    "\n",
    "# Conduct variance thresholding\n",
    "Xstd_high_var = thresholder.fit_transform(X_standard)\n",
    "\n",
    "print(f\"Number of variables before thresholding: {df.shape[1]}\")\n",
    "print(f\"Number of variables after thresholding: {len(Xstd_high_var[0])}\")"
   ]
  },
  {
   "cell_type": "markdown",
   "metadata": {},
   "source": [
    "## Visualise the data"
   ]
  },
  {
   "cell_type": "code",
   "execution_count": 8,
   "metadata": {},
   "outputs": [],
   "source": [
    "# Dependencies\n",
    "import matplotlib.pyplot as plt\n",
    "import seaborn as sns"
   ]
  },
  {
   "cell_type": "code",
   "execution_count": 9,
   "metadata": {},
   "outputs": [
    {
     "data": {
      "image/png": "[encoded data removed]",
      "text/plain": [
       "<Figure size 432x288 with 1 Axes>"
      ]
     },
     "metadata": {},
     "output_type": "display_data"
    }
   ],
   "source": [
    "# Hotel ratings\n",
    "g1 = sns.countplot(x = y, color = \"#0abab5\")"
   ]
  },
  {
   "cell_type": "code",
   "execution_count": 10,
   "metadata": {},
   "outputs": [
    {
     "data": {
      "image/png": "[encoded data removed]",
      "text/plain": [
       "<Figure size 432x288 with 1 Axes>"
      ]
     },
     "metadata": {},
     "output_type": "display_data"
    }
   ],
   "source": [
    "# Distances from nearest airport\n",
    "g2 = sns.distplot(df[\"airportDistance_km\"], color = \"#0abab5\")"
   ]
  },
  {
   "cell_type": "markdown",
   "metadata": {},
   "source": [
    "## Random Forest"
   ]
  },
  {
   "cell_type": "code",
   "execution_count": 11,
   "metadata": {},
   "outputs": [],
   "source": [
    "# Dependencies\n",
    "import mord\n",
    "from sklearn.ensemble import RandomForestRegressor"
   ]
  },
  {
   "cell_type": "code",
   "execution_count": 12,
   "metadata": {},
   "outputs": [
    {
     "name": "stdout",
     "output_type": "stream",
     "text": [
      "R^2 using random forest: 0.7606791518932264\n"
     ]
    }
   ],
   "source": [
    "# Create a random forest regressor (for continuous explanatory variables, like scaled values)\n",
    "rf = RandomForestRegressor(n_estimators = 500)\n",
    "rf_reg = rf.fit(Xstd_high_var, y)\n",
    "\n",
    "# Get the coefficient of determination (R^2) of the random forest prediction\n",
    "rf_reg.score(Xstd_high_var, y)\n",
    "\n",
    "print(f\"R^2 using random forest: {rf_reg.score(Xstd_high_var, y)}\")"
   ]
  },
  {
   "cell_type": "code",
   "execution_count": 13,
   "metadata": {},
   "outputs": [
    {
     "data": {
      "text/plain": [
       "[(0.2894942751215188, 'airportDistance_km'),\n",
       " (0.039548441721609616, 'reservations'),\n",
       " (0.037688762187307843, '2013'),\n",
       " (0.028483131017287822, 'CA'),\n",
       " (0.028430034223141026, '2011'),\n",
       " (0.0253877448706694, '2012'),\n",
       " (0.021284900246334212, 'family-friendly'),\n",
       " (0.02093786742958561, 'FL'),\n",
       " (0.020394334241520647, '2010'),\n",
       " (0.018280662490658274, 'TX')]"
      ]
     },
     "execution_count": 13,
     "metadata": {},
     "output_type": "execute_result"
    }
   ],
   "source": [
    "# Variable importance\n",
    "impt = rf_reg.feature_importances_\n",
    "impt_var = sorted(zip(impt, list(X.columns)), reverse = True)[0:10]\n",
    "impt_var"
   ]
  },
  {
   "cell_type": "markdown",
   "metadata": {},
   "source": [
    "## Split the data into training and test sets"
   ]
  },
  {
   "cell_type": "code",
   "execution_count": 14,
   "metadata": {},
   "outputs": [],
   "source": [
    "# Dependencies\n",
    "from sklearn.model_selection import train_test_split"
   ]
  },
  {
   "cell_type": "code",
   "execution_count": 16,
   "metadata": {},
   "outputs": [
    {
     "name": "stdout",
     "output_type": "stream",
     "text": [
      "(1670, 10) (1670,)\n"
     ]
    }
   ],
   "source": [
    "# Create a list of the top 10 important variables\n",
    "top10 = [var[1] for var in impt_var]\n",
    "\n",
    "# Choose variables with high importance\n",
    "X2 = X[top10]\n",
    "\n",
    "X2_standard = scaler.fit_transform(X2)\n",
    "\n",
    "print(X2_standard.shape, y.shape)"
   ]
  },
  {
   "cell_type": "code",
   "execution_count": 17,
   "metadata": {},
   "outputs": [
    {
     "name": "stdout",
     "output_type": "stream",
     "text": [
      "(1252, 10) (418, 10)\n"
     ]
    }
   ],
   "source": [
    "# Divide the data into training and testing data\n",
    "Xstd_train, Xstd_test, y_train, y_test = train_test_split(X2_standard, y, random_state = 42, stratify = y)\n",
    "\n",
    "print(Xstd_train.shape, Xstd_test.shape)"
   ]
  },
  {
   "cell_type": "markdown",
   "metadata": {},
   "source": [
    "## Regression Models"
   ]
  },
  {
   "cell_type": "code",
   "execution_count": 18,
   "metadata": {},
   "outputs": [],
   "source": [
    "# Create lists\n",
    "ratings = list(set(y))\n",
    "models = [\"multinomial logistic regression\", \"ridge regression\", \"ordinal logistic regression (IT)\", \n",
    "          \"ordinal logistic regression (AT)\", \"lasso\"]\n",
    "predictions = []\n",
    "mean_abs_error = []\n",
    "mean_acc_test = []\n",
    "mean_acc_train = []\n",
    "R2 = []"
   ]
  },
  {
   "cell_type": "code",
   "execution_count": 19,
   "metadata": {},
   "outputs": [],
   "source": [
    "# Dependencies\n",
    "import mord\n",
    "from sklearn.linear_model import LogisticRegression, RidgeCV, Ridge, Lasso, ElasticNet\n",
    "from sklearn.metrics import mean_absolute_error, mean_squared_error, r2_score, confusion_matrix, classification_report"
   ]
  },
  {
   "cell_type": "markdown",
   "metadata": {},
   "source": [
    "### Model 1: Multinomial logistic regression"
   ]
  },
  {
   "cell_type": "code",
   "execution_count": 20,
   "metadata": {},
   "outputs": [
    {
     "data": {
      "text/plain": [
       "array([[  1,   1,   0,   4,  19],\n",
       "       [  0,   0,   0,   0,  23],\n",
       "       [  1,   0,   0,  16,  42],\n",
       "       [  3,   0,   0,  34, 111],\n",
       "       [  1,   2,   0,  26, 134]])"
      ]
     },
     "execution_count": 20,
     "metadata": {},
     "output_type": "execute_result"
    }
   ],
   "source": [
    "# Create a multinomial logistic regression model\n",
    "classifier1 = LogisticRegression(solver = \"lbfgs\", multi_class = \"multinomial\")\n",
    "\n",
    "# Fit the model to the data\n",
    "classifier1.fit(Xstd_train, y_train)\n",
    "\n",
    "# Make predictions\n",
    "pred = classifier1.predict(Xstd_test)\n",
    "predictions.append(pred)\n",
    "\n",
    "# Evaluate the model\n",
    "score_logistic = mean_absolute_error(y_test, pred)\n",
    "mean_abs_error.append(score_logistic)\n",
    "\n",
    "# Mean accuracy scores\n",
    "mean_acc_test.append(classifier1.score(Xstd_test, y_test))\n",
    "mean_acc_train.append(classifier1.score(Xstd_train, y_train))\n",
    "\n",
    "# Coefficient of determination (R^2)\n",
    "r2 = r2_score(y_test, pred)\n",
    "R2.append(r2)\n",
    "\n",
    "# Confusion matrix\n",
    "confusion_matrix(y_test, pred)"
   ]
  },
  {
   "cell_type": "markdown",
   "metadata": {},
   "source": [
    "### Model 2: Ridge regression"
   ]
  },
  {
   "cell_type": "code",
   "execution_count": 21,
   "metadata": {},
   "outputs": [
    {
     "data": {
      "text/plain": [
       "10.0"
      ]
     },
     "execution_count": 21,
     "metadata": {},
     "output_type": "execute_result"
    }
   ],
   "source": [
    "# Create a ridge regression with three possible alphas\n",
    "regression_cv = RidgeCV(alphas = [0.1, 1.0, 10.0])\n",
    "\n",
    "# Fit the ridge regression model\n",
    "model_cv = regression_cv.fit(Xstd_train, y_train)\n",
    "\n",
    "# View the best alpha value\n",
    "model_cv.alpha_"
   ]
  },
  {
   "cell_type": "code",
   "execution_count": 22,
   "metadata": {},
   "outputs": [],
   "source": [
    "# Use the best alpha value in the ridge regression model\n",
    "classifier2 = Ridge(alpha = 10.0)\n",
    "\n",
    "# Fit the model to the data\n",
    "classifier2.fit(Xstd_train, y_train)\n",
    "\n",
    "# Make predictions\n",
    "pred2 = classifier2.predict(Xstd_test)\n",
    "predictions.append(pred2)\n",
    "\n",
    "# Evaluate the model\n",
    "score_ridge = mean_absolute_error(y_test, pred2)\n",
    "mean_abs_error.append(score_ridge)\n",
    "\n",
    "# Mean accuracy scores\n",
    "mean_acc_test.append(classifier2.score(Xstd_test, y_test))\n",
    "mean_acc_train.append(classifier2.score(Xstd_train, y_train))\n",
    "\n",
    "# Coefficient of determination (R^2)\n",
    "r2 = r2_score(y_test, pred2)\n",
    "R2.append(r2)"
   ]
  },
  {
   "cell_type": "markdown",
   "metadata": {},
   "source": [
    "### Model 3: Ordinal logistic regression"
   ]
  },
  {
   "cell_type": "code",
   "execution_count": 23,
   "metadata": {},
   "outputs": [
    {
     "data": {
      "text/plain": [
       "array([[  1,   0,   0,   3,  21],\n",
       "       [  0,   0,   0,   1,  22],\n",
       "       [  2,   0,   0,   6,  51],\n",
       "       [  4,   0,   0,  13, 131],\n",
       "       [  5,   0,   0,  10, 148]])"
      ]
     },
     "execution_count": 23,
     "metadata": {},
     "output_type": "execute_result"
    }
   ],
   "source": [
    "# Create an ordinal logistic regression model (immediate-threshold)\n",
    "classifier3 = mord.LogisticIT(alpha = 1.0)\n",
    "\n",
    "# Fit the model to the data\n",
    "classifier3.fit(Xstd_train, y_train)\n",
    "\n",
    "# Make predictions\n",
    "pred3 = classifier3.predict(Xstd_test)\n",
    "predictions.append(pred3)\n",
    "\n",
    "# Evaluate the model\n",
    "score_logisticIT = mean_absolute_error(y_test, pred3)\n",
    "mean_abs_error.append(score_logisticIT)\n",
    "\n",
    "# Mean accuracy scores\n",
    "mean_acc_test.append(classifier3.score(Xstd_test, y_test))\n",
    "mean_acc_train.append(classifier3.score(Xstd_train, y_train))\n",
    "\n",
    "# Coefficient of determination (R^2)\n",
    "r2 = r2_score(y_test, pred3)\n",
    "R2.append(r2)\n",
    "\n",
    "# Confusion matrix\n",
    "confusion_matrix(y_test, pred3)"
   ]
  },
  {
   "cell_type": "markdown",
   "metadata": {},
   "source": [
    "### Model 4: Ordinal logistic regression"
   ]
  },
  {
   "cell_type": "code",
   "execution_count": 24,
   "metadata": {},
   "outputs": [
    {
     "data": {
      "text/plain": [
       "array([[  0,   0,   4,  21,   0],\n",
       "       [  0,   0,   0,  23,   0],\n",
       "       [  0,   0,   2,  57,   0],\n",
       "       [  0,   0,   5, 143,   0],\n",
       "       [  0,   1,   5, 156,   1]])"
      ]
     },
     "execution_count": 24,
     "metadata": {},
     "output_type": "execute_result"
    }
   ],
   "source": [
    "# Create an ordinal logistic regression model (all-threshold)\n",
    "classifier4 = mord.LogisticAT(alpha = 1.0)\n",
    "\n",
    "# Fit the model to the data\n",
    "classifier4.fit(Xstd_train, y_train)\n",
    "\n",
    "# Make predictions\n",
    "pred4 = classifier4.predict(Xstd_test)\n",
    "predictions.append(pred4)\n",
    "\n",
    "# Evaluate the model\n",
    "score_logisticAT = mean_absolute_error(y_test, pred4)\n",
    "mean_abs_error.append(score_logisticAT)\n",
    "\n",
    "# Mean accuracy scores\n",
    "mean_acc_test.append(classifier4.score(Xstd_test, y_test))\n",
    "mean_acc_train.append(classifier4.score(Xstd_train, y_train))\n",
    "\n",
    "# Coefficient of determination (R^2)\n",
    "r2 = r2_score(y_test, pred4)\n",
    "R2.append(r2)\n",
    "\n",
    "# Confusion matrix\n",
    "confusion_matrix(y_test, pred4)"
   ]
  },
  {
   "cell_type": "markdown",
   "metadata": {},
   "source": [
    "### Model 5: Lasso Regression"
   ]
  },
  {
   "cell_type": "code",
   "execution_count": 25,
   "metadata": {},
   "outputs": [],
   "source": [
    "# Use the best alpha value in the lasso regression model\n",
    "classifier5 = Lasso(alpha = 1.0)\n",
    "\n",
    "# Fit the model to the data\n",
    "classifier5.fit(Xstd_train, y_train)\n",
    "\n",
    "# Make predictions\n",
    "pred5 = classifier2.predict(Xstd_test)\n",
    "predictions.append(pred5)\n",
    "\n",
    "# Evaluate the model\n",
    "score_lasso = mean_absolute_error(y_test, pred5)\n",
    "mean_abs_error.append(score_lasso)\n",
    "\n",
    "# Mean accuracy scores\n",
    "mean_acc_test.append(classifier5.score(Xstd_test, y_test))\n",
    "mean_acc_train.append(classifier5.score(Xstd_train, y_train))\n",
    "\n",
    "# Coefficient of determination (R^2)\n",
    "r2 = r2_score(y_test, pred5)\n",
    "R2.append(r2)"
   ]
  },
  {
   "cell_type": "markdown",
   "metadata": {},
   "source": [
    "### Model comparisons"
   ]
  },
  {
   "cell_type": "code",
   "execution_count": 26,
   "metadata": {},
   "outputs": [
    {
     "data": {
      "text/html": [
       "<div>\n",
       "<style scoped>\n",
       "    .dataframe tbody tr th:only-of-type {\n",
       "        vertical-align: middle;\n",
       "    }\n",
       "\n",
       "    .dataframe tbody tr th {\n",
       "        vertical-align: top;\n",
       "    }\n",
       "\n",
       "    .dataframe thead th {\n",
       "        text-align: right;\n",
       "    }\n",
       "</style>\n",
       "<table border=\"1\" class=\"dataframe\">\n",
       "  <thead>\n",
       "    <tr style=\"text-align: right;\">\n",
       "      <th></th>\n",
       "      <th>Model</th>\n",
       "      <th>MAE</th>\n",
       "      <th>Train Mean Accuracy</th>\n",
       "      <th>Test Mean Accuracy</th>\n",
       "      <th>R^2</th>\n",
       "    </tr>\n",
       "  </thead>\n",
       "  <tbody>\n",
       "    <tr>\n",
       "      <th>0</th>\n",
       "      <td>multinomial logistic regression</td>\n",
       "      <td>0.995215</td>\n",
       "      <td>0.405751</td>\n",
       "      <td>0.404306</td>\n",
       "      <td>-0.735064</td>\n",
       "    </tr>\n",
       "    <tr>\n",
       "      <th>1</th>\n",
       "      <td>ridge regression</td>\n",
       "      <td>0.855946</td>\n",
       "      <td>0.055728</td>\n",
       "      <td>-0.014504</td>\n",
       "      <td>-0.014504</td>\n",
       "    </tr>\n",
       "    <tr>\n",
       "      <th>2</th>\n",
       "      <td>ordinal logistic regression (IT)</td>\n",
       "      <td>1.066986</td>\n",
       "      <td>0.396166</td>\n",
       "      <td>0.387560</td>\n",
       "      <td>-0.931977</td>\n",
       "    </tr>\n",
       "    <tr>\n",
       "      <th>3</th>\n",
       "      <td>ordinal logistic regression (AT)</td>\n",
       "      <td>0.832536</td>\n",
       "      <td>-0.807508</td>\n",
       "      <td>-0.832536</td>\n",
       "      <td>-0.010573</td>\n",
       "    </tr>\n",
       "    <tr>\n",
       "      <th>4</th>\n",
       "      <td>lasso</td>\n",
       "      <td>0.855946</td>\n",
       "      <td>0.000000</td>\n",
       "      <td>-0.000017</td>\n",
       "      <td>-0.014504</td>\n",
       "    </tr>\n",
       "  </tbody>\n",
       "</table>\n",
       "</div>"
      ],
      "text/plain": [
       "                              Model       MAE  Train Mean Accuracy  \\\n",
       "0   multinomial logistic regression  0.995215             0.405751   \n",
       "1                  ridge regression  0.855946             0.055728   \n",
       "2  ordinal logistic regression (IT)  1.066986             0.396166   \n",
       "3  ordinal logistic regression (AT)  0.832536            -0.807508   \n",
       "4                             lasso  0.855946             0.000000   \n",
       "\n",
       "   Test Mean Accuracy       R^2  \n",
       "0            0.404306 -0.735064  \n",
       "1           -0.014504 -0.014504  \n",
       "2            0.387560 -0.931977  \n",
       "3           -0.832536 -0.010573  \n",
       "4           -0.000017 -0.014504  "
      ]
     },
     "execution_count": 26,
     "metadata": {},
     "output_type": "execute_result"
    }
   ],
   "source": [
    "# Model accuracy\n",
    "df_acc = pd.DataFrame({\"Model\": models, \"MAE\": mean_abs_error, \"Train Mean Accuracy\": mean_acc_train, \n",
    "                       \"Test Mean Accuracy\": mean_acc_test, \"R^2\": R2})\n",
    "\n",
    "df_acc.head()"
   ]
  },
  {
   "cell_type": "code",
   "execution_count": 27,
   "metadata": {},
   "outputs": [
    {
     "data": {
      "text/html": [
       "<div>\n",
       "<style scoped>\n",
       "    .dataframe tbody tr th:only-of-type {\n",
       "        vertical-align: middle;\n",
       "    }\n",
       "\n",
       "    .dataframe tbody tr th {\n",
       "        vertical-align: top;\n",
       "    }\n",
       "\n",
       "    .dataframe thead th {\n",
       "        text-align: right;\n",
       "    }\n",
       "</style>\n",
       "<table border=\"1\" class=\"dataframe\">\n",
       "  <thead>\n",
       "    <tr style=\"text-align: right;\">\n",
       "      <th></th>\n",
       "      <th>Actual</th>\n",
       "      <th>MLR</th>\n",
       "      <th>RidgeReg</th>\n",
       "      <th>OLR_AT</th>\n",
       "      <th>OLR_IT</th>\n",
       "      <th>Lasso</th>\n",
       "    </tr>\n",
       "    <tr>\n",
       "      <th>Name</th>\n",
       "      <th></th>\n",
       "      <th></th>\n",
       "      <th></th>\n",
       "      <th></th>\n",
       "      <th></th>\n",
       "      <th></th>\n",
       "    </tr>\n",
       "  </thead>\n",
       "  <tbody>\n",
       "    <tr>\n",
       "      <th>Best Western Orange Plaza</th>\n",
       "      <td>4</td>\n",
       "      <td>4</td>\n",
       "      <td>3.811044</td>\n",
       "      <td>4</td>\n",
       "      <td>4</td>\n",
       "      <td>3.811044</td>\n",
       "    </tr>\n",
       "    <tr>\n",
       "      <th>The Roosevelt New Orleans, A Waldorf Astoria Hotel</th>\n",
       "      <td>4</td>\n",
       "      <td>5</td>\n",
       "      <td>4.055654</td>\n",
       "      <td>5</td>\n",
       "      <td>4</td>\n",
       "      <td>4.055654</td>\n",
       "    </tr>\n",
       "    <tr>\n",
       "      <th>America's Best Value Inn</th>\n",
       "      <td>1</td>\n",
       "      <td>5</td>\n",
       "      <td>4.011240</td>\n",
       "      <td>5</td>\n",
       "      <td>4</td>\n",
       "      <td>4.011240</td>\n",
       "    </tr>\n",
       "    <tr>\n",
       "      <th>Stonebrook Lodge</th>\n",
       "      <td>4</td>\n",
       "      <td>5</td>\n",
       "      <td>4.081033</td>\n",
       "      <td>5</td>\n",
       "      <td>4</td>\n",
       "      <td>4.081033</td>\n",
       "    </tr>\n",
       "    <tr>\n",
       "      <th>Hampton Inn Suites West Des Moines/SW Mall Area</th>\n",
       "      <td>5</td>\n",
       "      <td>5</td>\n",
       "      <td>4.061999</td>\n",
       "      <td>5</td>\n",
       "      <td>4</td>\n",
       "      <td>4.061999</td>\n",
       "    </tr>\n",
       "  </tbody>\n",
       "</table>\n",
       "</div>"
      ],
      "text/plain": [
       "                                                    Actual  MLR  RidgeReg  \\\n",
       "Name                                                                        \n",
       "Best Western Orange Plaza                                4    4  3.811044   \n",
       "The Roosevelt New Orleans, A Waldorf Astoria Hotel       4    5  4.055654   \n",
       "America's Best Value Inn                                 1    5  4.011240   \n",
       "Stonebrook Lodge                                         4    5  4.081033   \n",
       "Hampton Inn Suites West Des Moines/SW Mall Area          5    5  4.061999   \n",
       "\n",
       "                                                    OLR_AT  OLR_IT     Lasso  \n",
       "Name                                                                          \n",
       "Best Western Orange Plaza                                4       4  3.811044  \n",
       "The Roosevelt New Orleans, A Waldorf Astoria Hotel       5       4  4.055654  \n",
       "America's Best Value Inn                                 5       4  4.011240  \n",
       "Stonebrook Lodge                                         5       4  4.081033  \n",
       "Hampton Inn Suites West Des Moines/SW Mall Area          5       4  4.061999  "
      ]
     },
     "execution_count": 27,
     "metadata": {},
     "output_type": "execute_result"
    }
   ],
   "source": [
    "# Model predictions\n",
    "df_pred = pd.DataFrame({\"Actual\": y_test, \"MLR\": pred, \"RidgeReg\": pred2, \"OLR_AT\": pred3, \n",
    "                        \"OLR_IT\": pred4, \"Lasso\": pred5})\n",
    "\n",
    "df_pred.head()"
   ]
  },
  {
   "cell_type": "code",
   "execution_count": 28,
   "metadata": {},
   "outputs": [],
   "source": [
    "# Create a function that generates classification reports\n",
    "def class_report(model, prediction):\n",
    "    print(f\"Model: {model}\")\n",
    "    print(classification_report(y_test, prediction))\n",
    "    print(\"-----\")"
   ]
  },
  {
   "cell_type": "code",
   "execution_count": 29,
   "metadata": {
    "scrolled": true
   },
   "outputs": [
    {
     "name": "stdout",
     "output_type": "stream",
     "text": [
      "Model: multinomial logistic regression\n",
      "             precision    recall  f1-score   support\n",
      "\n",
      "          1       0.17      0.04      0.06        25\n",
      "          2       0.00      0.00      0.00        23\n",
      "          3       0.00      0.00      0.00        59\n",
      "          4       0.42      0.23      0.30       148\n",
      "          5       0.41      0.82      0.54       163\n",
      "\n",
      "avg / total       0.32      0.40      0.32       418\n",
      "\n",
      "-----\n",
      "Model: ordinal logistic regression (IT)\n",
      "             precision    recall  f1-score   support\n",
      "\n",
      "          1       0.08      0.04      0.05        25\n",
      "          2       0.00      0.00      0.00        23\n",
      "          3       0.00      0.00      0.00        59\n",
      "          4       0.39      0.09      0.14       148\n",
      "          5       0.40      0.91      0.55       163\n",
      "\n",
      "avg / total       0.30      0.39      0.27       418\n",
      "\n",
      "-----\n",
      "Model: ordinal logistic regression (AT)\n",
      "             precision    recall  f1-score   support\n",
      "\n",
      "          1       0.00      0.00      0.00        25\n",
      "          2       0.00      0.00      0.00        23\n",
      "          3       0.12      0.03      0.05        59\n",
      "          4       0.36      0.97      0.52       148\n",
      "          5       1.00      0.01      0.01       163\n",
      "\n",
      "avg / total       0.53      0.35      0.20       418\n",
      "\n",
      "-----\n"
     ]
    },
    {
     "name": "stderr",
     "output_type": "stream",
     "text": [
      "/anaconda3/envs/PythonData/lib/python3.6/site-packages/sklearn/metrics/classification.py:1135: UndefinedMetricWarning: Precision and F-score are ill-defined and being set to 0.0 in labels with no predicted samples.\n",
      "  'precision', 'predicted', average, warn_for)\n",
      "/anaconda3/envs/PythonData/lib/python3.6/site-packages/sklearn/metrics/classification.py:1135: UndefinedMetricWarning: Precision and F-score are ill-defined and being set to 0.0 in labels with no predicted samples.\n",
      "  'precision', 'predicted', average, warn_for)\n",
      "/anaconda3/envs/PythonData/lib/python3.6/site-packages/sklearn/metrics/classification.py:1135: UndefinedMetricWarning: Precision and F-score are ill-defined and being set to 0.0 in labels with no predicted samples.\n",
      "  'precision', 'predicted', average, warn_for)\n"
     ]
    }
   ],
   "source": [
    "# Choose only the models with categorical predictions\n",
    "# MLR, OLR_AT, OLR_IT\n",
    "idx = [0] + [2,3] \n",
    "\n",
    "# Loop through the idx to print their classification reports\n",
    "for i in idx:\n",
    "    class_report(models[i], predictions[i])"
   ]
  },
  {
   "cell_type": "markdown",
   "metadata": {},
   "source": [
    "## Principal Component Analysis"
   ]
  },
  {
   "cell_type": "code",
   "execution_count": 30,
   "metadata": {},
   "outputs": [],
   "source": [
    "# Dependencies\n",
    "import numpy as np\n",
    "from sklearn.decomposition import PCA"
   ]
  },
  {
   "cell_type": "code",
   "execution_count": 31,
   "metadata": {},
   "outputs": [
    {
     "name": "stdout",
     "output_type": "stream",
     "text": [
      "Covariance matrix\n",
      "[[ 1.00059916e+00  3.15373387e-02 -2.54227412e-02  7.45586850e-02\n",
      "  -2.04152860e-02  5.65212609e-02 -1.89765513e-02  3.10799937e-02\n",
      "   4.57382201e-03 -2.21671321e-02]\n",
      " [ 3.15373387e-02  1.00059916e+00 -8.01586021e-04  1.23472821e-01\n",
      "  -2.35502191e-02  2.59629437e-02  1.68688108e-01 -2.41517170e-03\n",
      "   1.81821079e-02  3.61812274e-02]\n",
      " [-2.54227412e-02 -8.01586021e-04  1.00059916e+00 -1.19747712e-02\n",
      "  -1.08026792e-02 -1.62033223e-02  5.93379869e-03  1.91586097e-02\n",
      "   9.11626459e-03 -2.65088342e-03]\n",
      " [ 7.45586850e-02  1.23472821e-01 -1.19747712e-02  1.00059916e+00\n",
      "  -2.59200125e-02  3.90825863e-02  3.15224854e-02 -9.12810764e-02\n",
      "   7.20685972e-03 -8.18731811e-02]\n",
      " [-2.04152860e-02 -2.35502191e-02 -1.08026792e-02 -2.59200125e-02\n",
      "   1.00059916e+00 -9.32708693e-03 -2.79258440e-02 -5.72408271e-03\n",
      "   2.72962534e-02  1.59542487e-02]\n",
      " [ 5.65212609e-02  2.59629437e-02 -1.62033223e-02  3.90825863e-02\n",
      "  -9.32708693e-03  1.00059916e+00 -5.19604892e-03 -1.03609451e-02\n",
      "   1.40842145e-02  2.00236358e-02]\n",
      " [-1.89765513e-02  1.68688108e-01  5.93379869e-03  3.15224854e-02\n",
      "  -2.79258440e-02 -5.19604892e-03  1.00059916e+00  3.52164857e-02\n",
      "  -2.72809065e-02  5.05923096e-02]\n",
      " [ 3.10799937e-02 -2.41517170e-03  1.91586097e-02 -9.12810764e-02\n",
      "  -5.72408271e-03 -1.03609451e-02  3.52164857e-02  1.00059916e+00\n",
      "  -2.13929892e-02 -6.66693593e-02]\n",
      " [ 4.57382201e-03  1.81821079e-02  9.11626459e-03  7.20685972e-03\n",
      "   2.72962534e-02  1.40842145e-02 -2.72809065e-02 -2.13929892e-02\n",
      "   1.00059916e+00  2.21058990e-02]\n",
      " [-2.21671321e-02  3.61812274e-02 -2.65088342e-03 -8.18731811e-02\n",
      "   1.59542487e-02  2.00236358e-02  5.05923096e-02 -6.66693593e-02\n",
      "   2.21058990e-02  1.00059916e+00]]\n"
     ]
    }
   ],
   "source": [
    "# Calculate covariance\n",
    "mean_vec = np.mean(X2_standard, axis = 0)\n",
    "covar_matrix = (X2_standard - mean_vec).T.dot((X2_standard - mean_vec)/ (X2_standard.shape[0]-1))\n",
    "print(f\"Covariance matrix\\n{covar_matrix}\")"
   ]
  },
  {
   "cell_type": "code",
   "execution_count": 32,
   "metadata": {},
   "outputs": [
    {
     "name": "stdout",
     "output_type": "stream",
     "text": [
      "Eigenvalues:\n",
      "[1.25612689 0.78378008 0.81427528 1.13150074 1.09875142 0.92816211\n",
      " 0.95496684 1.0309428  0.99606437 1.01142109]\n",
      "\n",
      "Eigenvectors: [[ 0.23892721  0.13644033  0.23021401 -0.44843918  0.11700838  0.68442905\n",
      "  -0.02556037  0.42955036 -0.02734798 -0.04639819]\n",
      " [ 0.62111968  0.51645594 -0.50685823  0.23104468  0.02334801 -0.0070223\n",
      "  -0.01273599  0.00248969  0.14108335 -0.12856649]\n",
      " [-0.052469    0.02053456  0.02859676  0.17346948  0.15694245  0.19428338\n",
      "   0.42834144 -0.23835668 -0.54797138 -0.6024749 ]\n",
      " [ 0.50849217 -0.62804678 -0.16460205 -0.39347208 -0.0782412  -0.00652792\n",
      "   0.10638266 -0.36941288  0.08397386 -0.06387319]\n",
      " [-0.17687166  0.0011291   0.03771951  0.04662364 -0.28660854  0.08674033\n",
      "   0.56662308  0.11343339  0.68141858 -0.27783113]\n",
      " [ 0.20214112  0.03451564  0.05936538 -0.2499522  -0.18774703 -0.56194161\n",
      "   0.37874343  0.536334   -0.32890145  0.04053463]\n",
      " [ 0.45786256 -0.15187743  0.67331081  0.50055899  0.19151892 -0.08139434\n",
      "   0.01477885  0.04508828  0.13041096  0.02873081]\n",
      " [-0.11304373 -0.37759827 -0.33419913  0.10437563  0.65170645 -0.10664523\n",
      "  -0.07845202  0.44373841  0.16568282 -0.23548574]\n",
      " [ 0.01647089 -0.04532037  0.13145093 -0.05037352 -0.38994497 -0.15956713\n",
      "  -0.57749885  0.13883085  0.04168133 -0.66769973]\n",
      " [ 0.03120791 -0.38845737 -0.27371842  0.48163035 -0.47345539  0.35630989\n",
      "  -0.00210821  0.32166516 -0.23091284  0.18255673]]\n"
     ]
    }
   ],
   "source": [
    "# Eigen decomposition of the covariance matrix\n",
    "eig_vals, eig_vecs = np.linalg.eig(covar_matrix)\n",
    "\n",
    "print(f\"Eigenvalues:\\n{eig_vals}\\n\\nEigenvectors: {eig_vecs}\")"
   ]
  },
  {
   "cell_type": "code",
   "execution_count": 33,
   "metadata": {},
   "outputs": [
    {
     "name": "stdout",
     "output_type": "stream",
     "text": [
      "Ok!\n"
     ]
    }
   ],
   "source": [
    "# Confirm that each eigenvector has the same unit length of 1.0\n",
    "for ev in eig_vecs:\n",
    "    np.testing.assert_array_almost_equal(1.0, np.linalg.norm(ev))\n",
    "print(\"Ok!\")    "
   ]
  },
  {
   "cell_type": "code",
   "execution_count": 34,
   "metadata": {},
   "outputs": [
    {
     "name": "stdout",
     "output_type": "stream",
     "text": [
      "Eigenvalues in descending order:\n",
      "1.2561268857943175\n",
      "1.1315007431729824\n",
      "1.0987514152152738\n",
      "1.0309427964032174\n",
      "1.011421093247731\n",
      "0.9960643658761473\n",
      "0.9549668400595661\n",
      "0.9281621136459388\n",
      "0.8142752795523133\n",
      "0.783780078776088\n"
     ]
    }
   ],
   "source": [
    "# Create eigenvalue, eigenvector tuples\n",
    "eig_pairs = [(np.abs(eig_vals[i]), eig_vecs[:, i]) for i in range(len(eig_vals))]\n",
    "\n",
    "# Sort the eig_pairs from high to low\n",
    "eig_pairs.sort()\n",
    "eig_pairs.reverse()\n",
    "\n",
    "print(\"Eigenvalues in descending order:\")\n",
    "\n",
    "for p in eig_pairs:\n",
    "    print(p[0])"
   ]
  },
  {
   "cell_type": "code",
   "execution_count": 35,
   "metadata": {},
   "outputs": [
    {
     "data": {
      "text/html": [
       "<div>\n",
       "<style scoped>\n",
       "    .dataframe tbody tr th:only-of-type {\n",
       "        vertical-align: middle;\n",
       "    }\n",
       "\n",
       "    .dataframe tbody tr th {\n",
       "        vertical-align: top;\n",
       "    }\n",
       "\n",
       "    .dataframe thead th {\n",
       "        text-align: right;\n",
       "    }\n",
       "</style>\n",
       "<table border=\"1\" class=\"dataframe\">\n",
       "  <thead>\n",
       "    <tr style=\"text-align: right;\">\n",
       "      <th></th>\n",
       "      <th>PC</th>\n",
       "      <th>explained variance</th>\n",
       "      <th>cumulative explained variance</th>\n",
       "    </tr>\n",
       "  </thead>\n",
       "  <tbody>\n",
       "    <tr>\n",
       "      <th>0</th>\n",
       "      <td>PC 1</td>\n",
       "      <td>12.553747</td>\n",
       "      <td>12.553747</td>\n",
       "    </tr>\n",
       "    <tr>\n",
       "      <th>1</th>\n",
       "      <td>PC 2</td>\n",
       "      <td>11.308232</td>\n",
       "      <td>23.861979</td>\n",
       "    </tr>\n",
       "    <tr>\n",
       "      <th>2</th>\n",
       "      <td>PC 3</td>\n",
       "      <td>10.980935</td>\n",
       "      <td>34.842914</td>\n",
       "    </tr>\n",
       "    <tr>\n",
       "      <th>3</th>\n",
       "      <td>PC 4</td>\n",
       "      <td>10.303255</td>\n",
       "      <td>45.146169</td>\n",
       "    </tr>\n",
       "    <tr>\n",
       "      <th>4</th>\n",
       "      <td>PC 5</td>\n",
       "      <td>10.108155</td>\n",
       "      <td>55.254323</td>\n",
       "    </tr>\n",
       "    <tr>\n",
       "      <th>5</th>\n",
       "      <td>PC 6</td>\n",
       "      <td>9.954679</td>\n",
       "      <td>65.209002</td>\n",
       "    </tr>\n",
       "    <tr>\n",
       "      <th>6</th>\n",
       "      <td>PC 7</td>\n",
       "      <td>9.543950</td>\n",
       "      <td>74.752952</td>\n",
       "    </tr>\n",
       "    <tr>\n",
       "      <th>7</th>\n",
       "      <td>PC 8</td>\n",
       "      <td>9.276063</td>\n",
       "      <td>84.029016</td>\n",
       "    </tr>\n",
       "    <tr>\n",
       "      <th>8</th>\n",
       "      <td>PC 9</td>\n",
       "      <td>8.137877</td>\n",
       "      <td>92.166893</td>\n",
       "    </tr>\n",
       "    <tr>\n",
       "      <th>9</th>\n",
       "      <td>PC 10</td>\n",
       "      <td>7.833107</td>\n",
       "      <td>100.000000</td>\n",
       "    </tr>\n",
       "  </tbody>\n",
       "</table>\n",
       "</div>"
      ],
      "text/plain": [
       "      PC  explained variance  cumulative explained variance\n",
       "0   PC 1           12.553747                      12.553747\n",
       "1   PC 2           11.308232                      23.861979\n",
       "2   PC 3           10.980935                      34.842914\n",
       "3   PC 4           10.303255                      45.146169\n",
       "4   PC 5           10.108155                      55.254323\n",
       "5   PC 6            9.954679                      65.209002\n",
       "6   PC 7            9.543950                      74.752952\n",
       "7   PC 8            9.276063                      84.029016\n",
       "8   PC 9            8.137877                      92.166893\n",
       "9  PC 10            7.833107                     100.000000"
      ]
     },
     "execution_count": 35,
     "metadata": {},
     "output_type": "execute_result"
    }
   ],
   "source": [
    "# How many PCs to use? Use cumulative explained variance\n",
    "tot = sum(eig_vals)\n",
    "var_exp = [(i/tot) * 100 for i in sorted(eig_vals, reverse = True)]\n",
    "cum_var_exp = np.cumsum(var_exp)\n",
    "\n",
    "x_axes = [f\"PC {i}\" for i in range(1, 11)]\n",
    "\n",
    "# Create a dataframe for PCA data\n",
    "df_PCA = pd.DataFrame({\"PC\":x_axes, \"explained variance\": var_exp, \n",
    "                       \"cumulative explained variance\": list(cum_var_exp)})\n",
    "df_PCA"
   ]
  },
  {
   "cell_type": "code",
   "execution_count": 36,
   "metadata": {},
   "outputs": [
    {
     "data": {
      "text/plain": [
       "Text(0.5,0,'Principal component')"
      ]
     },
     "execution_count": 36,
     "metadata": {},
     "output_type": "execute_result"
    },
    {
     "data": {
      "image/png": "[encoded data removed]",
      "text/plain": [
       "<Figure size 432x288 with 1 Axes>"
      ]
     },
     "metadata": {},
     "output_type": "display_data"
    }
   ],
   "source": [
    "# Plot the graph of PC and cumulative explained variance\n",
    "fig, ax = plt.subplots()\n",
    "sns.pointplot(x = df_PCA[\"PC\"], y = df_PCA[\"cumulative explained variance\"], color = \"orange\", \n",
    "              ax = ax, label = \"Cumulative Explained Variance (%)\")\n",
    "sns.barplot(x = df_PCA[\"PC\"], y = df_PCA[\"explained variance\"], color = \"#0abab5\", \n",
    "            ax = ax, label = \"Explained Variance (%)\")\n",
    "ax.set_ylabel(\"Explained variance (%)\")\n",
    "ax.set_xlabel(\"Principal component\")"
   ]
  },
  {
   "cell_type": "code",
   "execution_count": 37,
   "metadata": {},
   "outputs": [
    {
     "name": "stdout",
     "output_type": "stream",
     "text": [
      "Matrix W\n",
      "[[ 0.23892721 -0.44843918]\n",
      " [ 0.62111968  0.23104468]\n",
      " [-0.052469    0.17346948]\n",
      " [ 0.50849217 -0.39347208]\n",
      " [-0.17687166  0.04662364]\n",
      " [ 0.20214112 -0.2499522 ]\n",
      " [ 0.45786256  0.50055899]\n",
      " [-0.11304373  0.10437563]\n",
      " [ 0.01647089 -0.05037352]\n",
      " [ 0.03120791  0.48163035]]\n"
     ]
    }
   ],
   "source": [
    "# Reduce the 10-dimensional feature space to a 2-dimensional feature subspace\n",
    "# Use top 2 eigenvectors\n",
    "\n",
    "matrix = np.hstack((eig_pairs[0][1].reshape(10, 1), \n",
    "                    eig_pairs[1][1].reshape(10, 1)))\n",
    "\n",
    "print(f\"Matrix W\\n{matrix}\")"
   ]
  },
  {
   "cell_type": "code",
   "execution_count": 38,
   "metadata": {},
   "outputs": [
    {
     "data": {
      "text/html": [
       "<div>\n",
       "<style scoped>\n",
       "    .dataframe tbody tr th:only-of-type {\n",
       "        vertical-align: middle;\n",
       "    }\n",
       "\n",
       "    .dataframe tbody tr th {\n",
       "        vertical-align: top;\n",
       "    }\n",
       "\n",
       "    .dataframe thead th {\n",
       "        text-align: right;\n",
       "    }\n",
       "</style>\n",
       "<table border=\"1\" class=\"dataframe\">\n",
       "  <thead>\n",
       "    <tr style=\"text-align: right;\">\n",
       "      <th></th>\n",
       "      <th>rating</th>\n",
       "      <th>x_eig</th>\n",
       "      <th>y_eig</th>\n",
       "    </tr>\n",
       "    <tr>\n",
       "      <th>Name</th>\n",
       "      <th></th>\n",
       "      <th></th>\n",
       "      <th></th>\n",
       "    </tr>\n",
       "  </thead>\n",
       "  <tbody>\n",
       "    <tr>\n",
       "      <th>1906 Lodge At Coronado Beach</th>\n",
       "      <td>5</td>\n",
       "      <td>2.668788</td>\n",
       "      <td>-0.720044</td>\n",
       "    </tr>\n",
       "    <tr>\n",
       "      <th>250 Main Hotel</th>\n",
       "      <td>5</td>\n",
       "      <td>0.951608</td>\n",
       "      <td>0.608712</td>\n",
       "    </tr>\n",
       "    <tr>\n",
       "      <th>AC Hotel Chicago Downtown</th>\n",
       "      <td>4</td>\n",
       "      <td>-0.249953</td>\n",
       "      <td>-0.918930</td>\n",
       "    </tr>\n",
       "    <tr>\n",
       "      <th>AC Hotel Miami Beach</th>\n",
       "      <td>5</td>\n",
       "      <td>-0.646688</td>\n",
       "      <td>-0.594274</td>\n",
       "    </tr>\n",
       "    <tr>\n",
       "      <th>AC Hotel by Marriott Boston Downtown</th>\n",
       "      <td>5</td>\n",
       "      <td>-0.730500</td>\n",
       "      <td>-0.016999</td>\n",
       "    </tr>\n",
       "  </tbody>\n",
       "</table>\n",
       "</div>"
      ],
      "text/plain": [
       "                                      rating     x_eig     y_eig\n",
       "Name                                                            \n",
       "1906 Lodge At Coronado Beach               5  2.668788 -0.720044\n",
       "250 Main Hotel                             5  0.951608  0.608712\n",
       "AC Hotel Chicago Downtown                  4 -0.249953 -0.918930\n",
       "AC Hotel Miami Beach                       5 -0.646688 -0.594274\n",
       "AC Hotel by Marriott Boston Downtown       5 -0.730500 -0.016999"
      ]
     },
     "execution_count": 38,
     "metadata": {},
     "output_type": "execute_result"
    }
   ],
   "source": [
    "# 2-D feature subspace\n",
    "Y = X2_standard.dot(matrix)\n",
    "\n",
    "# Create a dataframe for the feature subspace\n",
    "x_eig = [pair[0] for pair in Y]\n",
    "y_eig = [pair[1] for pair in Y]   \n",
    "\n",
    "df_PCA2 = pd.DataFrame({\"rating\": y, \"x_eig\": x_eig, \"y_eig\": y_eig})\n",
    "df_PCA2.head()"
   ]
  },
  {
   "cell_type": "code",
   "execution_count": 39,
   "metadata": {
    "scrolled": true
   },
   "outputs": [
    {
     "data": {
      "text/plain": [
       "<matplotlib.axes._subplots.AxesSubplot at 0x1a2618cfd0>"
      ]
     },
     "execution_count": 39,
     "metadata": {},
     "output_type": "execute_result"
    },
    {
     "data": {
      "image/png": "[encoded data removed]",
      "text/plain": [
       "<Figure size 432x288 with 1 Axes>"
      ]
     },
     "metadata": {},
     "output_type": "display_data"
    }
   ],
   "source": [
    "# PCA projection on 2-dimensions\n",
    "sns.scatterplot(x = df_PCA2[\"x_eig\"], y = df_PCA2[\"y_eig\"], hue = df_PCA2[\"rating\"])"
   ]
  },
  {
   "cell_type": "markdown",
   "metadata": {},
   "source": [
    "## Using only hotel features; no years"
   ]
  },
  {
   "cell_type": "markdown",
   "metadata": {},
   "source": [
    "### Slice df to get hotel features only"
   ]
  },
  {
   "cell_type": "code",
   "execution_count": 40,
   "metadata": {},
   "outputs": [
    {
     "name": "stdout",
     "output_type": "stream",
     "text": [
      "(1670, 107) (1670,)\n"
     ]
    }
   ],
   "source": [
    "# Define the response (y) and the explanatory (X) variables (removing the years)\n",
    "columns = [\"reviews_rating\"] + list(df.columns[108:127])\n",
    "\n",
    "Xfeat = df.drop(columns = columns, axis = 1)\n",
    "y = df[\"reviews_rating\"]\n",
    "\n",
    "# Standardise the explanatory variables\n",
    "scaler = StandardScaler()\n",
    "Xfeat_standard = scaler.fit_transform(Xfeat)\n",
    "\n",
    "# Convert review rating into whole number\n",
    "y = y.astype(int)\n",
    "\n",
    "print(Xfeat_standard.shape, y.shape)"
   ]
  },
  {
   "cell_type": "markdown",
   "metadata": {},
   "source": [
    "### Remove zero-variance variables"
   ]
  },
  {
   "cell_type": "code",
   "execution_count": 41,
   "metadata": {},
   "outputs": [
    {
     "name": "stdout",
     "output_type": "stream",
     "text": [
      "Number of variables before thresholding: 107\n",
      "Number of variables after thresholding: 107\n"
     ]
    }
   ],
   "source": [
    "# Conduct variance thresholding\n",
    "Xfeat_std_high_var = thresholder.fit_transform(Xfeat_standard)\n",
    "\n",
    "print(f\"Number of variables before thresholding: {Xfeat.shape[1]}\")\n",
    "print(f\"Number of variables after thresholding: {Xfeat_std_high_var.shape[1]}\")"
   ]
  },
  {
   "cell_type": "markdown",
   "metadata": {},
   "source": [
    "### Use random forest to get the top 10 important variables"
   ]
  },
  {
   "cell_type": "code",
   "execution_count": 42,
   "metadata": {},
   "outputs": [
    {
     "name": "stdout",
     "output_type": "stream",
     "text": [
      "R^2 using random forest: 0.5277491655668434\n"
     ]
    }
   ],
   "source": [
    "# Use the random forest regressor (for continuous explanatory variables, like scaled values)\n",
    "feat_rf_reg = rf.fit(Xfeat_std_high_var, y)\n",
    "\n",
    "# Get the coefficient of determination (R^2) of the random forest prediction\n",
    "feat_rf_reg.score(Xfeat_std_high_var, y)\n",
    "\n",
    "print(f\"R^2 using random forest: {feat_rf_reg.score(Xfeat_std_high_var, y)}\")"
   ]
  },
  {
   "cell_type": "code",
   "execution_count": 45,
   "metadata": {},
   "outputs": [
    {
     "data": {
      "text/plain": [
       "[(0.3415513607410754, 'airportDistance_km'),\n",
       " (0.051589462132300305, 'reservations'),\n",
       " (0.03713660964849733, 'family-friendly'),\n",
       " (0.023007000653896013, 'breakfast'),\n",
       " (0.019821306123764454, 'FL'),\n",
       " (0.015981063424590672, 'TX'),\n",
       " (0.015139915363124434, 'CA'),\n",
       " (0.014587872218973945, 'meeting'),\n",
       " (0.014521824367281931, 'OH'),\n",
       " (0.01394804156491495, 'GA')]"
      ]
     },
     "execution_count": 45,
     "metadata": {},
     "output_type": "execute_result"
    }
   ],
   "source": [
    "# Variable importance\n",
    "feat_impt = feat_rf_reg.feature_importances_\n",
    "feat_impt_var = sorted(zip(feat_impt, list(Xfeat.columns)), reverse = True)[0:10]\n",
    "feat_impt_var"
   ]
  },
  {
   "cell_type": "markdown",
   "metadata": {},
   "source": [
    "### Split the data into training and test sets"
   ]
  },
  {
   "cell_type": "code",
   "execution_count": 52,
   "metadata": {},
   "outputs": [
    {
     "name": "stdout",
     "output_type": "stream",
     "text": [
      "(1670, 10) (1670,)\n"
     ]
    }
   ],
   "source": [
    "# Create a list of the top 10 important variables\n",
    "feat_top10 = [var[1] for var in feat_impt_var]\n",
    "\n",
    "# Choose variables with high importance\n",
    "Xfeat2 = Xfeat[feat_top10]\n",
    "\n",
    "Xfeat2_standard = scaler.fit_transform(Xfeat2)\n",
    "\n",
    "print(Xfeat2_standard.shape, y.shape)"
   ]
  },
  {
   "cell_type": "code",
   "execution_count": 54,
   "metadata": {},
   "outputs": [
    {
     "name": "stdout",
     "output_type": "stream",
     "text": [
      "(1252, 10) (418, 10)\n"
     ]
    }
   ],
   "source": [
    "# Divide the data into training and testing data\n",
    "Xstd1_train, Xstd1_test, y_train, y_test = train_test_split(Xfeat2_standard, y, random_state = 42, stratify = y)\n",
    "\n",
    "print(Xstd1_train.shape, Xstd1_test.shape)"
   ]
  },
  {
   "cell_type": "markdown",
   "metadata": {},
   "source": [
    "### Regression Models"
   ]
  },
  {
   "cell_type": "code",
   "execution_count": 56,
   "metadata": {},
   "outputs": [],
   "source": [
    "# Create lists\n",
    "ratings1 = list(set(y))\n",
    "models1 = [\"multinomial logistic regression\", \"ridge regression\", \"ordinal logistic regression (IT)\", \n",
    "          \"ordinal logistic regression (AT)\", \"lasso\"]\n",
    "predictions1 = []\n",
    "mean_abs_error1 = []\n",
    "mean_acc_test1 = []\n",
    "mean_acc_train1 = []\n",
    "R2_1 = []"
   ]
  },
  {
   "cell_type": "markdown",
   "metadata": {},
   "source": [
    "#### Model 1: Multinomial logistic regression"
   ]
  },
  {
   "cell_type": "code",
   "execution_count": 57,
   "metadata": {},
   "outputs": [
    {
     "data": {
      "text/plain": [
       "array([[  0,   0,   0,   5,  20],\n",
       "       [  0,   0,   0,   2,  21],\n",
       "       [  0,   0,   0,  19,  40],\n",
       "       [  0,   0,   0,  41, 107],\n",
       "       [  0,   0,   0,  29, 134]])"
      ]
     },
     "execution_count": 57,
     "metadata": {},
     "output_type": "execute_result"
    }
   ],
   "source": [
    "# Fit the model to the data\n",
    "classifier1.fit(Xstd1_train, y_train)\n",
    "\n",
    "# Make predictions\n",
    "pred = classifier1.predict(Xstd1_test)\n",
    "predictions1.append(pred)\n",
    "\n",
    "# Evaluate the model\n",
    "score_logistic = mean_absolute_error(y_test, pred)\n",
    "mean_abs_error1.append(score_logistic)\n",
    "\n",
    "# Mean accuracy scores\n",
    "mean_acc_test1.append(classifier1.score(Xstd1_test, y_test))\n",
    "mean_acc_train1.append(classifier1.score(Xstd1_train, y_train))\n",
    "\n",
    "# Coefficient of determination (R^2)\n",
    "r2 = r2_score(y_test, pred)\n",
    "R2_1.append(r2)\n",
    "\n",
    "# Confusion matrix\n",
    "confusion_matrix(y_test, pred)"
   ]
  },
  {
   "cell_type": "markdown",
   "metadata": {},
   "source": [
    "#### Model 2: Ridge regression"
   ]
  },
  {
   "cell_type": "code",
   "execution_count": 58,
   "metadata": {},
   "outputs": [],
   "source": [
    "# Fit the model to the data\n",
    "classifier2.fit(Xstd1_train, y_train)\n",
    "\n",
    "# Make predictions\n",
    "pred2 = classifier2.predict(Xstd1_test)\n",
    "predictions1.append(pred2)\n",
    "\n",
    "# Evaluate the model\n",
    "score_ridge = mean_absolute_error(y_test, pred2)\n",
    "mean_abs_error1.append(score_ridge)\n",
    "\n",
    "# Mean accuracy scores\n",
    "mean_acc_test1.append(classifier2.score(Xstd_test, y_test))\n",
    "mean_acc_train1.append(classifier2.score(Xstd_train, y_train))\n",
    "\n",
    "# Coefficient of determination (R^2)\n",
    "r2 = r2_score(y_test, pred2)\n",
    "R2_1.append(r2)"
   ]
  },
  {
   "cell_type": "markdown",
   "metadata": {},
   "source": [
    "#### Model 3: Ordinal logistic regression"
   ]
  },
  {
   "cell_type": "code",
   "execution_count": 59,
   "metadata": {},
   "outputs": [
    {
     "data": {
      "text/plain": [
       "array([[  0,   0,   0,   3,  22],\n",
       "       [  0,   0,   0,   1,  22],\n",
       "       [  0,   0,   0,  15,  44],\n",
       "       [  0,   0,   0,  24, 124],\n",
       "       [  0,   0,   0,  17, 146]])"
      ]
     },
     "execution_count": 59,
     "metadata": {},
     "output_type": "execute_result"
    }
   ],
   "source": [
    "# Fit the model to the data\n",
    "classifier3.fit(Xstd1_train, y_train)\n",
    "\n",
    "# Make predictions\n",
    "pred3 = classifier3.predict(Xstd1_test)\n",
    "predictions1.append(pred3)\n",
    "\n",
    "# Evaluate the model\n",
    "score_logisticIT = mean_absolute_error(y_test, pred3)\n",
    "mean_abs_error1.append(score_logisticIT)\n",
    "\n",
    "# Mean accuracy scores\n",
    "mean_acc_test1.append(classifier3.score(Xstd1_test, y_test))\n",
    "mean_acc_train1.append(classifier3.score(Xstd1_train, y_train))\n",
    "\n",
    "# Coefficient of determination (R^2)\n",
    "r2 = r2_score(y_test, pred3)\n",
    "R2_1.append(r2)\n",
    "\n",
    "# Confusion matrix\n",
    "confusion_matrix(y_test, pred3)"
   ]
  },
  {
   "cell_type": "markdown",
   "metadata": {},
   "source": [
    "#### Model 4: Ordinal logistic regression"
   ]
  },
  {
   "cell_type": "code",
   "execution_count": 60,
   "metadata": {},
   "outputs": [
    {
     "data": {
      "text/plain": [
       "array([[  0,   0,   0,  25,   0],\n",
       "       [  0,   0,   0,  23,   0],\n",
       "       [  0,   0,   0,  58,   1],\n",
       "       [  0,   0,   0, 136,  12],\n",
       "       [  0,   0,   0, 157,   6]])"
      ]
     },
     "execution_count": 60,
     "metadata": {},
     "output_type": "execute_result"
    }
   ],
   "source": [
    "# Fit the model to the data\n",
    "classifier4.fit(Xstd1_train, y_train)\n",
    "\n",
    "# Make predictions\n",
    "pred4 = classifier4.predict(Xstd1_test)\n",
    "predictions1.append(pred4)\n",
    "\n",
    "# Evaluate the model\n",
    "score_logisticAT = mean_absolute_error(y_test, pred4)\n",
    "mean_abs_error1.append(score_logisticAT)\n",
    "\n",
    "# Mean accuracy scores\n",
    "mean_acc_test1.append(classifier4.score(Xstd1_test, y_test))\n",
    "mean_acc_train1.append(classifier4.score(Xstd1_train, y_train))\n",
    "\n",
    "# Coefficient of determination (R^2)\n",
    "r2 = r2_score(y_test, pred4)\n",
    "R2_1.append(r2)\n",
    "\n",
    "# Confusion matrix\n",
    "confusion_matrix(y_test, pred4)"
   ]
  },
  {
   "cell_type": "markdown",
   "metadata": {},
   "source": [
    "#### Model 5: Lasso Regression"
   ]
  },
  {
   "cell_type": "code",
   "execution_count": 61,
   "metadata": {},
   "outputs": [],
   "source": [
    "# Fit the model to the data\n",
    "classifier5.fit(Xstd1_train, y_train)\n",
    "\n",
    "# Make predictions\n",
    "pred5 = classifier2.predict(Xstd1_test)\n",
    "predictions1.append(pred5)\n",
    "\n",
    "# Evaluate the model\n",
    "score_lasso = mean_absolute_error(y_test, pred5)\n",
    "mean_abs_error1.append(score_lasso)\n",
    "\n",
    "# Mean accuracy scores\n",
    "mean_acc_test1.append(classifier5.score(Xstd_test, y_test))\n",
    "mean_acc_train1.append(classifier5.score(Xstd_train, y_train))\n",
    "\n",
    "# Coefficient of determination (R^2)\n",
    "r2 = r2_score(y_test, pred5)\n",
    "R2_1.append(r2)"
   ]
  },
  {
   "cell_type": "markdown",
   "metadata": {},
   "source": [
    "#### Model comparisons"
   ]
  },
  {
   "cell_type": "code",
   "execution_count": 62,
   "metadata": {},
   "outputs": [
    {
     "data": {
      "text/html": [
       "<div>\n",
       "<style scoped>\n",
       "    .dataframe tbody tr th:only-of-type {\n",
       "        vertical-align: middle;\n",
       "    }\n",
       "\n",
       "    .dataframe tbody tr th {\n",
       "        vertical-align: top;\n",
       "    }\n",
       "\n",
       "    .dataframe thead th {\n",
       "        text-align: right;\n",
       "    }\n",
       "</style>\n",
       "<table border=\"1\" class=\"dataframe\">\n",
       "  <thead>\n",
       "    <tr style=\"text-align: right;\">\n",
       "      <th></th>\n",
       "      <th>Model</th>\n",
       "      <th>MAE</th>\n",
       "      <th>Train Mean Accuracy</th>\n",
       "      <th>Test Mean Accuracy</th>\n",
       "      <th>R^2</th>\n",
       "    </tr>\n",
       "  </thead>\n",
       "  <tbody>\n",
       "    <tr>\n",
       "      <th>0</th>\n",
       "      <td>multinomial logistic regression</td>\n",
       "      <td>0.949761</td>\n",
       "      <td>0.419329</td>\n",
       "      <td>0.418660</td>\n",
       "      <td>-0.629177</td>\n",
       "    </tr>\n",
       "    <tr>\n",
       "      <th>1</th>\n",
       "      <td>ridge regression</td>\n",
       "      <td>0.847563</td>\n",
       "      <td>-0.009152</td>\n",
       "      <td>-0.005988</td>\n",
       "      <td>0.006674</td>\n",
       "    </tr>\n",
       "    <tr>\n",
       "      <th>2</th>\n",
       "      <td>ordinal logistic regression (IT)</td>\n",
       "      <td>0.978469</td>\n",
       "      <td>0.400160</td>\n",
       "      <td>0.406699</td>\n",
       "      <td>-0.696053</td>\n",
       "    </tr>\n",
       "    <tr>\n",
       "      <th>3</th>\n",
       "      <td>ordinal logistic regression (AT)</td>\n",
       "      <td>0.837321</td>\n",
       "      <td>-0.821086</td>\n",
       "      <td>-0.837321</td>\n",
       "      <td>-0.018003</td>\n",
       "    </tr>\n",
       "    <tr>\n",
       "      <th>4</th>\n",
       "      <td>lasso</td>\n",
       "      <td>0.847563</td>\n",
       "      <td>0.000000</td>\n",
       "      <td>-0.000017</td>\n",
       "      <td>0.006674</td>\n",
       "    </tr>\n",
       "  </tbody>\n",
       "</table>\n",
       "</div>"
      ],
      "text/plain": [
       "                              Model       MAE  Train Mean Accuracy  \\\n",
       "0   multinomial logistic regression  0.949761             0.419329   \n",
       "1                  ridge regression  0.847563            -0.009152   \n",
       "2  ordinal logistic regression (IT)  0.978469             0.400160   \n",
       "3  ordinal logistic regression (AT)  0.837321            -0.821086   \n",
       "4                             lasso  0.847563             0.000000   \n",
       "\n",
       "   Test Mean Accuracy       R^2  \n",
       "0            0.418660 -0.629177  \n",
       "1           -0.005988  0.006674  \n",
       "2            0.406699 -0.696053  \n",
       "3           -0.837321 -0.018003  \n",
       "4           -0.000017  0.006674  "
      ]
     },
     "execution_count": 62,
     "metadata": {},
     "output_type": "execute_result"
    }
   ],
   "source": [
    "# Model accuracy\n",
    "df_acc1 = pd.DataFrame({\"Model\": models, \"MAE\": mean_abs_error1, \"Train Mean Accuracy\": mean_acc_train1, \n",
    "                       \"Test Mean Accuracy\": mean_acc_test1, \"R^2\": R2_1})\n",
    "\n",
    "df_acc1"
   ]
  },
  {
   "cell_type": "code",
   "execution_count": 65,
   "metadata": {},
   "outputs": [
    {
     "data": {
      "text/html": [
       "<div>\n",
       "<style scoped>\n",
       "    .dataframe tbody tr th:only-of-type {\n",
       "        vertical-align: middle;\n",
       "    }\n",
       "\n",
       "    .dataframe tbody tr th {\n",
       "        vertical-align: top;\n",
       "    }\n",
       "\n",
       "    .dataframe thead th {\n",
       "        text-align: right;\n",
       "    }\n",
       "</style>\n",
       "<table border=\"1\" class=\"dataframe\">\n",
       "  <thead>\n",
       "    <tr style=\"text-align: right;\">\n",
       "      <th></th>\n",
       "      <th>Model</th>\n",
       "      <th>MAE</th>\n",
       "      <th>Train Mean Accuracy</th>\n",
       "      <th>Test Mean Accuracy</th>\n",
       "      <th>R^2</th>\n",
       "    </tr>\n",
       "  </thead>\n",
       "  <tbody>\n",
       "    <tr>\n",
       "      <th>0</th>\n",
       "      <td>multinomial logistic regression</td>\n",
       "      <td>0.995215</td>\n",
       "      <td>0.405751</td>\n",
       "      <td>0.404306</td>\n",
       "      <td>-0.735064</td>\n",
       "    </tr>\n",
       "    <tr>\n",
       "      <th>1</th>\n",
       "      <td>ridge regression</td>\n",
       "      <td>0.855946</td>\n",
       "      <td>0.055728</td>\n",
       "      <td>-0.014504</td>\n",
       "      <td>-0.014504</td>\n",
       "    </tr>\n",
       "    <tr>\n",
       "      <th>2</th>\n",
       "      <td>ordinal logistic regression (IT)</td>\n",
       "      <td>1.066986</td>\n",
       "      <td>0.396166</td>\n",
       "      <td>0.387560</td>\n",
       "      <td>-0.931977</td>\n",
       "    </tr>\n",
       "    <tr>\n",
       "      <th>3</th>\n",
       "      <td>ordinal logistic regression (AT)</td>\n",
       "      <td>0.832536</td>\n",
       "      <td>-0.807508</td>\n",
       "      <td>-0.832536</td>\n",
       "      <td>-0.010573</td>\n",
       "    </tr>\n",
       "    <tr>\n",
       "      <th>4</th>\n",
       "      <td>lasso</td>\n",
       "      <td>0.855946</td>\n",
       "      <td>0.000000</td>\n",
       "      <td>-0.000017</td>\n",
       "      <td>-0.014504</td>\n",
       "    </tr>\n",
       "  </tbody>\n",
       "</table>\n",
       "</div>"
      ],
      "text/plain": [
       "                              Model       MAE  Train Mean Accuracy  \\\n",
       "0   multinomial logistic regression  0.995215             0.405751   \n",
       "1                  ridge regression  0.855946             0.055728   \n",
       "2  ordinal logistic regression (IT)  1.066986             0.396166   \n",
       "3  ordinal logistic regression (AT)  0.832536            -0.807508   \n",
       "4                             lasso  0.855946             0.000000   \n",
       "\n",
       "   Test Mean Accuracy       R^2  \n",
       "0            0.404306 -0.735064  \n",
       "1           -0.014504 -0.014504  \n",
       "2            0.387560 -0.931977  \n",
       "3           -0.832536 -0.010573  \n",
       "4           -0.000017 -0.014504  "
      ]
     },
     "execution_count": 65,
     "metadata": {},
     "output_type": "execute_result"
    }
   ],
   "source": [
    "df_acc"
   ]
  },
  {
   "cell_type": "code",
   "execution_count": 63,
   "metadata": {},
   "outputs": [
    {
     "data": {
      "text/html": [
       "<div>\n",
       "<style scoped>\n",
       "    .dataframe tbody tr th:only-of-type {\n",
       "        vertical-align: middle;\n",
       "    }\n",
       "\n",
       "    .dataframe tbody tr th {\n",
       "        vertical-align: top;\n",
       "    }\n",
       "\n",
       "    .dataframe thead th {\n",
       "        text-align: right;\n",
       "    }\n",
       "</style>\n",
       "<table border=\"1\" class=\"dataframe\">\n",
       "  <thead>\n",
       "    <tr style=\"text-align: right;\">\n",
       "      <th></th>\n",
       "      <th>Actual</th>\n",
       "      <th>MLR</th>\n",
       "      <th>RidgeReg</th>\n",
       "      <th>OLR_AT</th>\n",
       "      <th>OLR_IT</th>\n",
       "      <th>Lasso</th>\n",
       "    </tr>\n",
       "    <tr>\n",
       "      <th>Name</th>\n",
       "      <th></th>\n",
       "      <th></th>\n",
       "      <th></th>\n",
       "      <th></th>\n",
       "      <th></th>\n",
       "      <th></th>\n",
       "    </tr>\n",
       "  </thead>\n",
       "  <tbody>\n",
       "    <tr>\n",
       "      <th>Best Western Orange Plaza</th>\n",
       "      <td>4</td>\n",
       "      <td>4</td>\n",
       "      <td>3.811044</td>\n",
       "      <td>4</td>\n",
       "      <td>4</td>\n",
       "      <td>3.811044</td>\n",
       "    </tr>\n",
       "    <tr>\n",
       "      <th>The Roosevelt New Orleans, A Waldorf Astoria Hotel</th>\n",
       "      <td>4</td>\n",
       "      <td>5</td>\n",
       "      <td>4.055654</td>\n",
       "      <td>5</td>\n",
       "      <td>4</td>\n",
       "      <td>4.055654</td>\n",
       "    </tr>\n",
       "    <tr>\n",
       "      <th>America's Best Value Inn</th>\n",
       "      <td>1</td>\n",
       "      <td>5</td>\n",
       "      <td>4.011240</td>\n",
       "      <td>5</td>\n",
       "      <td>4</td>\n",
       "      <td>4.011240</td>\n",
       "    </tr>\n",
       "    <tr>\n",
       "      <th>Stonebrook Lodge</th>\n",
       "      <td>4</td>\n",
       "      <td>5</td>\n",
       "      <td>4.081033</td>\n",
       "      <td>5</td>\n",
       "      <td>4</td>\n",
       "      <td>4.081033</td>\n",
       "    </tr>\n",
       "    <tr>\n",
       "      <th>Hampton Inn Suites West Des Moines/SW Mall Area</th>\n",
       "      <td>5</td>\n",
       "      <td>5</td>\n",
       "      <td>4.061999</td>\n",
       "      <td>5</td>\n",
       "      <td>4</td>\n",
       "      <td>4.061999</td>\n",
       "    </tr>\n",
       "  </tbody>\n",
       "</table>\n",
       "</div>"
      ],
      "text/plain": [
       "                                                    Actual  MLR  RidgeReg  \\\n",
       "Name                                                                        \n",
       "Best Western Orange Plaza                                4    4  3.811044   \n",
       "The Roosevelt New Orleans, A Waldorf Astoria Hotel       4    5  4.055654   \n",
       "America's Best Value Inn                                 1    5  4.011240   \n",
       "Stonebrook Lodge                                         4    5  4.081033   \n",
       "Hampton Inn Suites West Des Moines/SW Mall Area          5    5  4.061999   \n",
       "\n",
       "                                                    OLR_AT  OLR_IT     Lasso  \n",
       "Name                                                                          \n",
       "Best Western Orange Plaza                                4       4  3.811044  \n",
       "The Roosevelt New Orleans, A Waldorf Astoria Hotel       5       4  4.055654  \n",
       "America's Best Value Inn                                 5       4  4.011240  \n",
       "Stonebrook Lodge                                         5       4  4.081033  \n",
       "Hampton Inn Suites West Des Moines/SW Mall Area          5       4  4.061999  "
      ]
     },
     "execution_count": 63,
     "metadata": {},
     "output_type": "execute_result"
    }
   ],
   "source": [
    "# Model predictions\n",
    "df_pred1 = pd.DataFrame({\"Actual\": y_test, \"MLR\": pred, \"RidgeReg\": pred2, \"OLR_AT\": pred3, \n",
    "                        \"OLR_IT\": pred4, \"Lasso\": pred5})\n",
    "\n",
    "df_pred.head()"
   ]
  },
  {
   "cell_type": "code",
   "execution_count": 66,
   "metadata": {
    "scrolled": true
   },
   "outputs": [
    {
     "name": "stdout",
     "output_type": "stream",
     "text": [
      "Model: multinomial logistic regression\n",
      "             precision    recall  f1-score   support\n",
      "\n",
      "          1       0.00      0.00      0.00        25\n",
      "          2       0.00      0.00      0.00        23\n",
      "          3       0.00      0.00      0.00        59\n",
      "          4       0.43      0.28      0.34       148\n",
      "          5       0.42      0.82      0.55       163\n",
      "\n",
      "avg / total       0.31      0.42      0.33       418\n",
      "\n",
      "-----\n",
      "Model: ordinal logistic regression (IT)\n",
      "             precision    recall  f1-score   support\n",
      "\n",
      "          1       0.00      0.00      0.00        25\n",
      "          2       0.00      0.00      0.00        23\n",
      "          3       0.00      0.00      0.00        59\n",
      "          4       0.40      0.16      0.23       148\n",
      "          5       0.41      0.90      0.56       163\n",
      "\n",
      "avg / total       0.30      0.41      0.30       418\n",
      "\n",
      "-----\n",
      "Model: ordinal logistic regression (AT)\n",
      "             precision    recall  f1-score   support\n",
      "\n",
      "          1       0.00      0.00      0.00        25\n",
      "          2       0.00      0.00      0.00        23\n",
      "          3       0.00      0.00      0.00        59\n",
      "          4       0.34      0.92      0.50       148\n",
      "          5       0.32      0.04      0.07       163\n",
      "\n",
      "avg / total       0.24      0.34      0.20       418\n",
      "\n",
      "-----\n"
     ]
    },
    {
     "name": "stderr",
     "output_type": "stream",
     "text": [
      "/anaconda3/envs/PythonData/lib/python3.6/site-packages/sklearn/metrics/classification.py:1135: UndefinedMetricWarning: Precision and F-score are ill-defined and being set to 0.0 in labels with no predicted samples.\n",
      "  'precision', 'predicted', average, warn_for)\n",
      "/anaconda3/envs/PythonData/lib/python3.6/site-packages/sklearn/metrics/classification.py:1135: UndefinedMetricWarning: Precision and F-score are ill-defined and being set to 0.0 in labels with no predicted samples.\n",
      "  'precision', 'predicted', average, warn_for)\n",
      "/anaconda3/envs/PythonData/lib/python3.6/site-packages/sklearn/metrics/classification.py:1135: UndefinedMetricWarning: Precision and F-score are ill-defined and being set to 0.0 in labels with no predicted samples.\n",
      "  'precision', 'predicted', average, warn_for)\n"
     ]
    }
   ],
   "source": [
    "# Choose only the models with categorical predictions\n",
    "# MLR, OLR_AT, OLR_IT\n",
    "idx = [0] + [2,3] \n",
    "\n",
    "# Loop through the idx to print their classification reports\n",
    "for i in idx:\n",
    "    class_report(models1[i], predictions1[i])"
   ]
  },
  {
   "cell_type": "code",
   "execution_count": null,
   "metadata": {},
   "outputs": [],
   "source": []
  }
 ],
 "metadata": {
  "kernelspec": {
   "display_name": "Python 3",
   "language": "python",
   "name": "python3"
  },
  "language_info": {
   "codemirror_mode": {
    "name": "ipython",
    "version": 3
   },
   "file_extension": ".py",
   "mimetype": "text/x-python",
   "name": "python",
   "nbconvert_exporter": "python",
   "pygments_lexer": "ipython3",
   "version": "3.6.5"
  }
 },
 "nbformat": 4,
 "nbformat_minor": 2
}
